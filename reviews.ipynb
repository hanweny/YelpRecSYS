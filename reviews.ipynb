{
 "cells": [
  {
   "cell_type": "markdown",
   "metadata": {},
   "source": [
    "# Yelp Review Rating Analysis and Prediction"
   ]
  },
  {
   "cell_type": "markdown",
   "metadata": {},
   "source": [
    "## Data Used"
   ]
  },
  {
   "cell_type": "markdown",
   "metadata": {},
   "source": [
    "The reviews2.csv data was used in this report. "
   ]
  },
  {
   "cell_type": "code",
   "execution_count": 55,
   "metadata": {},
   "outputs": [],
   "source": [
    "from __future__ import division\n",
    "import sys, os, re, json\n",
    "import nltk\n",
    "import numpy as np\n",
    "import pandas as pd\n",
    "import matplotlib.pyplot as plt\n",
    "import seaborn as sn\n",
    "from collections import defaultdict, Counter\n",
    "from typing import List, Tuple, Dict\n",
    "import seaborn\n",
    "import time\n",
    "import datetime\n",
    "\n",
    "#import cPickle as pickle\n",
    "import matplotlib.pyplot as plt\n",
    "import nltk\n",
    "import numpy as np\n",
    "import pandas as pd\n",
    "import pylab\n",
    "import re\n",
    "import scipy as sp\n",
    "import seaborn\n",
    "\n",
    "from gensim import corpora, models\n",
    "from nltk.corpus import stopwords\n",
    "from sklearn import metrics\n",
    "from sklearn.metrics import classification_report\n",
    "from sklearn.discriminant_analysis import LinearDiscriminantAnalysis as LDA\n",
    "\n",
    "from scipy import stats\n",
    "from scipy.sparse import issparse\n",
    "from abc import ABCMeta, abstractmethod\n",
    "from sklearn.base import BaseEstimator, ClassifierMixin\n",
    "#from sklearn.base import ClassifierMixin\n",
    "from sklearn.preprocessing import LabelBinarizer\n",
    "from sklearn.utils import check_X_y, check_array, gen_even_slices\n",
    "from sklearn.utils.extmath import safe_sparse_dot\n",
    "from sklearn.utils.extmath import weighted_mode\n",
    "from sklearn.utils.validation import check_is_fitted\n",
    "from sklearn.utils.multiclass import check_classification_targets\n",
    "from sklearn.utils import check_array\n",
    "\n",
    "from nltk.tokenize import word_tokenize\n",
    "\n",
    "import threading\n",
    "from scipy.sparse import hstack as sparse_hstack\n",
    "\n",
    "from sklearn.tree import DecisionTreeClassifier\n",
    "from sklearn.tree._tree import DTYPE, DOUBLE\n",
    "from sklearn.ensemble.base import BaseEnsemble, _partition_estimators\n",
    "\n",
    "\n",
    "from sklearn.feature_extraction.text import TfidfVectorizer\n",
    "from sklearn.linear_model import LogisticRegression\n",
    "from sklearn.metrics import accuracy_score\n",
    "from sklearn.metrics import roc_curve, auc\n",
    "from sklearn.metrics import pairwise\n",
    "from sklearn.exceptions import DataConversionWarning, NotFittedError\n",
    "from sklearn.utils.extmath import weighted_mode\n"
   ]
  },
  {
   "cell_type": "code",
   "execution_count": 3,
   "metadata": {},
   "outputs": [
    {
     "data": {
      "text/plain": [
       "Index(['review_id', 'user_id', 'business_id', 'stars', 'useful', 'funny',\n",
       "       'cool', 'text', 'date'],\n",
       "      dtype='object')"
      ]
     },
     "execution_count": 3,
     "metadata": {},
     "output_type": "execute_result"
    }
   ],
   "source": [
    "# read in the data set of reviews2.csv\n",
    "import pandas as pd\n",
    "reviews = pd.read_csv(\"./reviews2.csv\", encoding='utf-8', sep=',')\n",
    "reviews.columns"
   ]
  },
  {
   "cell_type": "markdown",
   "metadata": {},
   "source": [
    "There are nine columns in this data set, the review id, user id, bussiness id, stars, useful, funny, cool, test and date. "
   ]
  },
  {
   "cell_type": "code",
   "execution_count": 2,
   "metadata": {},
   "outputs": [
    {
     "data": {
      "text/html": [
       "<div>\n",
       "<style scoped>\n",
       "    .dataframe tbody tr th:only-of-type {\n",
       "        vertical-align: middle;\n",
       "    }\n",
       "\n",
       "    .dataframe tbody tr th {\n",
       "        vertical-align: top;\n",
       "    }\n",
       "\n",
       "    .dataframe thead th {\n",
       "        text-align: right;\n",
       "    }\n",
       "</style>\n",
       "<table border=\"1\" class=\"dataframe\">\n",
       "  <thead>\n",
       "    <tr style=\"text-align: right;\">\n",
       "      <th></th>\n",
       "      <th>review_id</th>\n",
       "      <th>user_id</th>\n",
       "      <th>business_id</th>\n",
       "      <th>stars</th>\n",
       "      <th>useful</th>\n",
       "      <th>funny</th>\n",
       "      <th>cool</th>\n",
       "      <th>text</th>\n",
       "      <th>date</th>\n",
       "    </tr>\n",
       "  </thead>\n",
       "  <tbody>\n",
       "    <tr>\n",
       "      <th>0</th>\n",
       "      <td>cAQMvg8vdIkXFAmFdmtf8Q</td>\n",
       "      <td>SJ7IbI1QVvia5muxByAv7w</td>\n",
       "      <td>3BzwagIBPQEf_Ic44oZtYQ</td>\n",
       "      <td>5</td>\n",
       "      <td>0</td>\n",
       "      <td>0</td>\n",
       "      <td>0</td>\n",
       "      <td>Very upscale and romantic place. Good was exce...</td>\n",
       "      <td>2019-02-15 03:10:26</td>\n",
       "    </tr>\n",
       "    <tr>\n",
       "      <th>1</th>\n",
       "      <td>sjm_uUcQVxab_EeLCqsYLg</td>\n",
       "      <td>0kA0PAJ8QFMeveQWHFqz2A</td>\n",
       "      <td>8zehGz9jnxPqXtOc7KaJxA</td>\n",
       "      <td>4</td>\n",
       "      <td>0</td>\n",
       "      <td>0</td>\n",
       "      <td>0</td>\n",
       "      <td>The food is always great here. The service fro...</td>\n",
       "      <td>2011-07-28 18:05:01</td>\n",
       "    </tr>\n",
       "    <tr>\n",
       "      <th>2</th>\n",
       "      <td>3_oBHUOlAC33347F8_vYKg</td>\n",
       "      <td>l8reACV0ZmCyjBZy4wtq-w</td>\n",
       "      <td>FxveeHL_B0Kkz1KjPKyF3A</td>\n",
       "      <td>1</td>\n",
       "      <td>2</td>\n",
       "      <td>2</td>\n",
       "      <td>2</td>\n",
       "      <td>Literally the slowest and worst service I have...</td>\n",
       "      <td>2016-02-05 01:13:15</td>\n",
       "    </tr>\n",
       "    <tr>\n",
       "      <th>3</th>\n",
       "      <td>Gi5LSRmTXoL9Bp4jNGPjLw</td>\n",
       "      <td>hn0ZbitvmlHnF--KJGJ6_A</td>\n",
       "      <td>TA1KUSCu8GkWP9w0rmElxw</td>\n",
       "      <td>4</td>\n",
       "      <td>0</td>\n",
       "      <td>0</td>\n",
       "      <td>0</td>\n",
       "      <td>I have been here twice and have had really goo...</td>\n",
       "      <td>2011-10-27 14:32:57</td>\n",
       "    </tr>\n",
       "    <tr>\n",
       "      <th>4</th>\n",
       "      <td>R9SFR1FgssHATWd9PpQEHg</td>\n",
       "      <td>BjckP4AW2FXivEAUmh5d3g</td>\n",
       "      <td>PUZSvR-nEHlhEi0gSADu7w</td>\n",
       "      <td>4</td>\n",
       "      <td>0</td>\n",
       "      <td>0</td>\n",
       "      <td>0</td>\n",
       "      <td>Went here with an friend visiting from Italy: ...</td>\n",
       "      <td>2017-09-10 16:16:58</td>\n",
       "    </tr>\n",
       "    <tr>\n",
       "      <th>...</th>\n",
       "      <td>...</td>\n",
       "      <td>...</td>\n",
       "      <td>...</td>\n",
       "      <td>...</td>\n",
       "      <td>...</td>\n",
       "      <td>...</td>\n",
       "      <td>...</td>\n",
       "      <td>...</td>\n",
       "      <td>...</td>\n",
       "    </tr>\n",
       "    <tr>\n",
       "      <th>1707856</th>\n",
       "      <td>3FGJZ4BxKE-EYpR7i22ODQ</td>\n",
       "      <td>OEgGBGx7vAu9PPef5K_gOg</td>\n",
       "      <td>3BzwagIBPQEf_Ic44oZtYQ</td>\n",
       "      <td>3</td>\n",
       "      <td>3</td>\n",
       "      <td>2</td>\n",
       "      <td>2</td>\n",
       "      <td>I would have loved to give more stars but now ...</td>\n",
       "      <td>2018-01-22 00:11:47</td>\n",
       "    </tr>\n",
       "    <tr>\n",
       "      <th>1707857</th>\n",
       "      <td>duS6Tq7Fb9v8QDQXKdWluA</td>\n",
       "      <td>YjgwW0jGrWWgrUetL1acxw</td>\n",
       "      <td>aBcP12iMOwkqBf9yuMAjyQ</td>\n",
       "      <td>5</td>\n",
       "      <td>1</td>\n",
       "      <td>0</td>\n",
       "      <td>0</td>\n",
       "      <td>I fell in love with Bahama Breeze.. The drinks...</td>\n",
       "      <td>2019-01-15 19:26:44</td>\n",
       "    </tr>\n",
       "    <tr>\n",
       "      <th>1707858</th>\n",
       "      <td>DemPlfItZQouIFJTXMNJlg</td>\n",
       "      <td>37cpUoM8hlkSQfReIEBd-Q</td>\n",
       "      <td>RjIpiZLefONlg4SfWUjirg</td>\n",
       "      <td>5</td>\n",
       "      <td>5</td>\n",
       "      <td>3</td>\n",
       "      <td>2</td>\n",
       "      <td>Every time I visit Boston, I make it a point t...</td>\n",
       "      <td>2014-01-17 02:36:26</td>\n",
       "    </tr>\n",
       "    <tr>\n",
       "      <th>1707859</th>\n",
       "      <td>7xjmara0Uk3vgHH7Q7tsCw</td>\n",
       "      <td>NX9aW-rgyLyQAwKbyxCuiQ</td>\n",
       "      <td>NWFL1R2KIw_U6WqDS-JlAQ</td>\n",
       "      <td>5</td>\n",
       "      <td>0</td>\n",
       "      <td>0</td>\n",
       "      <td>0</td>\n",
       "      <td>Really delicious sandwiches! The tuna melt was...</td>\n",
       "      <td>2019-09-01 01:51:29</td>\n",
       "    </tr>\n",
       "    <tr>\n",
       "      <th>1707860</th>\n",
       "      <td>AfDc-4Rx7w8dsQrY_9_o0A</td>\n",
       "      <td>WTzLCR_-CG93Mg4J6TuG3Q</td>\n",
       "      <td>y2rfO9kc6CNYidJRtMZYag</td>\n",
       "      <td>4</td>\n",
       "      <td>3</td>\n",
       "      <td>1</td>\n",
       "      <td>1</td>\n",
       "      <td>To be honest the Yelp rating has deterred me f...</td>\n",
       "      <td>2018-04-01 12:33:59</td>\n",
       "    </tr>\n",
       "  </tbody>\n",
       "</table>\n",
       "<p>1707861 rows × 9 columns</p>\n",
       "</div>"
      ],
      "text/plain": [
       "                      review_id                 user_id  \\\n",
       "0        cAQMvg8vdIkXFAmFdmtf8Q  SJ7IbI1QVvia5muxByAv7w   \n",
       "1        sjm_uUcQVxab_EeLCqsYLg  0kA0PAJ8QFMeveQWHFqz2A   \n",
       "2        3_oBHUOlAC33347F8_vYKg  l8reACV0ZmCyjBZy4wtq-w   \n",
       "3        Gi5LSRmTXoL9Bp4jNGPjLw  hn0ZbitvmlHnF--KJGJ6_A   \n",
       "4        R9SFR1FgssHATWd9PpQEHg  BjckP4AW2FXivEAUmh5d3g   \n",
       "...                         ...                     ...   \n",
       "1707856  3FGJZ4BxKE-EYpR7i22ODQ  OEgGBGx7vAu9PPef5K_gOg   \n",
       "1707857  duS6Tq7Fb9v8QDQXKdWluA  YjgwW0jGrWWgrUetL1acxw   \n",
       "1707858  DemPlfItZQouIFJTXMNJlg  37cpUoM8hlkSQfReIEBd-Q   \n",
       "1707859  7xjmara0Uk3vgHH7Q7tsCw  NX9aW-rgyLyQAwKbyxCuiQ   \n",
       "1707860  AfDc-4Rx7w8dsQrY_9_o0A  WTzLCR_-CG93Mg4J6TuG3Q   \n",
       "\n",
       "                    business_id  stars  useful  funny  cool  \\\n",
       "0        3BzwagIBPQEf_Ic44oZtYQ      5       0      0     0   \n",
       "1        8zehGz9jnxPqXtOc7KaJxA      4       0      0     0   \n",
       "2        FxveeHL_B0Kkz1KjPKyF3A      1       2      2     2   \n",
       "3        TA1KUSCu8GkWP9w0rmElxw      4       0      0     0   \n",
       "4        PUZSvR-nEHlhEi0gSADu7w      4       0      0     0   \n",
       "...                         ...    ...     ...    ...   ...   \n",
       "1707856  3BzwagIBPQEf_Ic44oZtYQ      3       3      2     2   \n",
       "1707857  aBcP12iMOwkqBf9yuMAjyQ      5       1      0     0   \n",
       "1707858  RjIpiZLefONlg4SfWUjirg      5       5      3     2   \n",
       "1707859  NWFL1R2KIw_U6WqDS-JlAQ      5       0      0     0   \n",
       "1707860  y2rfO9kc6CNYidJRtMZYag      4       3      1     1   \n",
       "\n",
       "                                                      text  \\\n",
       "0        Very upscale and romantic place. Good was exce...   \n",
       "1        The food is always great here. The service fro...   \n",
       "2        Literally the slowest and worst service I have...   \n",
       "3        I have been here twice and have had really goo...   \n",
       "4        Went here with an friend visiting from Italy: ...   \n",
       "...                                                    ...   \n",
       "1707856  I would have loved to give more stars but now ...   \n",
       "1707857  I fell in love with Bahama Breeze.. The drinks...   \n",
       "1707858  Every time I visit Boston, I make it a point t...   \n",
       "1707859  Really delicious sandwiches! The tuna melt was...   \n",
       "1707860  To be honest the Yelp rating has deterred me f...   \n",
       "\n",
       "                        date  \n",
       "0        2019-02-15 03:10:26  \n",
       "1        2011-07-28 18:05:01  \n",
       "2        2016-02-05 01:13:15  \n",
       "3        2011-10-27 14:32:57  \n",
       "4        2017-09-10 16:16:58  \n",
       "...                      ...  \n",
       "1707856  2018-01-22 00:11:47  \n",
       "1707857  2019-01-15 19:26:44  \n",
       "1707858  2014-01-17 02:36:26  \n",
       "1707859  2019-09-01 01:51:29  \n",
       "1707860  2018-04-01 12:33:59  \n",
       "\n",
       "[1707861 rows x 9 columns]"
      ]
     },
     "execution_count": 2,
     "metadata": {},
     "output_type": "execute_result"
    }
   ],
   "source": [
    "reviews"
   ]
  },
  {
   "cell_type": "code",
   "execution_count": 6,
   "metadata": {},
   "outputs": [
    {
     "data": {
      "text/plain": [
       "(1707861, 9)"
      ]
     },
     "execution_count": 6,
     "metadata": {},
     "output_type": "execute_result"
    }
   ],
   "source": [
    "reviews.shape"
   ]
  },
  {
   "cell_type": "markdown",
   "metadata": {},
   "source": [
    "Totally, there are 1,707,861 obervations in this data set. "
   ]
  },
  {
   "cell_type": "markdown",
   "metadata": {},
   "source": [
    "## EDA Analysis"
   ]
  },
  {
   "cell_type": "code",
   "execution_count": 7,
   "metadata": {},
   "outputs": [
    {
     "data": {
      "text/plain": [
       "5    722908\n",
       "4    503086\n",
       "3    234943\n",
       "2    134182\n",
       "1    112742\n",
       "Name: stars, dtype: int64"
      ]
     },
     "execution_count": 7,
     "metadata": {},
     "output_type": "execute_result"
    }
   ],
   "source": [
    "reviews['stars'].value_counts(normalize=False)"
   ]
  },
  {
   "cell_type": "markdown",
   "metadata": {},
   "source": [
    "Define a function to plot the labels of ratios for each stars. "
   ]
  },
  {
   "cell_type": "code",
   "execution_count": 16,
   "metadata": {},
   "outputs": [],
   "source": [
    "def plot_labels(df, title=None):\n",
    "  ds_labels = df[title].value_counts(normalize=True)\n",
    "  ds_labels.sort_index(inplace=True)\n",
    "  plt.figure(figsize=(4,3))\n",
    "  ax = ds_labels.plot(kind=\"bar\")\n",
    "  ax.set_xlabel(title)\n",
    "  ax.set_ylabel(\"Ratio\")\n",
    "  if title is not None:\n",
    "    plt.savefig(title + \".eps\")\n",
    "  plt.show()"
   ]
  },
  {
   "cell_type": "code",
   "execution_count": 17,
   "metadata": {},
   "outputs": [
    {
     "data": {
      "image/png": "[encoded data removed]",
      "text/plain": [
       "<Figure size 288x216 with 1 Axes>"
      ]
     },
     "metadata": {
      "needs_background": "light"
     },
     "output_type": "display_data"
    }
   ],
   "source": [
    "plot_labels(reviews, \"stars\")"
   ]
  },
  {
   "cell_type": "markdown",
   "metadata": {},
   "source": [
    "less than 10% have the stars of 1 or 2, more than 40% have the stars of 5, and about 30% have the stars of 4. "
   ]
  },
  {
   "cell_type": "code",
   "execution_count": 19,
   "metadata": {},
   "outputs": [
    {
     "data": {
      "text/plain": [
       "0      1024091\n",
       "1       337595\n",
       "2       146084\n",
       "3        72965\n",
       "4        39676\n",
       "        ...   \n",
       "172          1\n",
       "173          1\n",
       "177          1\n",
       "178          1\n",
       "446          1\n",
       "Name: useful, Length: 181, dtype: int64"
      ]
     },
     "execution_count": 19,
     "metadata": {},
     "output_type": "execute_result"
    }
   ],
   "source": [
    "reviews['useful'].value_counts(normalize=False)"
   ]
  },
  {
   "cell_type": "code",
   "execution_count": 25,
   "metadata": {},
   "outputs": [
    {
     "data": {
      "image/png": "[encoded data removed]",
      "text/plain": [
       "<Figure size 288x216 with 1 Axes>"
      ]
     },
     "metadata": {
      "needs_background": "light"
     },
     "output_type": "display_data"
    }
   ],
   "source": [
    "plot_labels(reviews[reviews[\"useful\"] < 5], \"useful\")"
   ]
  },
  {
   "cell_type": "code",
   "execution_count": 20,
   "metadata": {},
   "outputs": [
    {
     "data": {
      "text/plain": [
       "0      1373559\n",
       "1       191882\n",
       "2        62173\n",
       "3        27971\n",
       "4        15040\n",
       "        ...   \n",
       "126          1\n",
       "131          1\n",
       "142          1\n",
       "143          1\n",
       "264          1\n",
       "Name: funny, Length: 147, dtype: int64"
      ]
     },
     "execution_count": 20,
     "metadata": {},
     "output_type": "execute_result"
    }
   ],
   "source": [
    "reviews['funny'].value_counts(normalize=False)"
   ]
  },
  {
   "cell_type": "code",
   "execution_count": 26,
   "metadata": {},
   "outputs": [
    {
     "data": {
      "image/png": "[encoded data removed]",
      "text/plain": [
       "<Figure size 288x216 with 1 Axes>"
      ]
     },
     "metadata": {
      "needs_background": "light"
     },
     "output_type": "display_data"
    }
   ],
   "source": [
    "plot_labels(reviews[reviews[\"funny\"] < 5], \"funny\")"
   ]
  },
  {
   "cell_type": "code",
   "execution_count": 22,
   "metadata": {},
   "outputs": [
    {
     "data": {
      "text/plain": [
       "0      1272304\n",
       "1       250379\n",
       "2        83175\n",
       "3        36016\n",
       "4        18922\n",
       "        ...   \n",
       "165          1\n",
       "168          1\n",
       "175          1\n",
       "181          1\n",
       "371          1\n",
       "Name: cool, Length: 169, dtype: int64"
      ]
     },
     "execution_count": 22,
     "metadata": {},
     "output_type": "execute_result"
    }
   ],
   "source": [
    "reviews['cool'].value_counts(normalize=False)"
   ]
  },
  {
   "cell_type": "code",
   "execution_count": 27,
   "metadata": {},
   "outputs": [
    {
     "data": {
      "image/png": "[encoded data removed]",
      "text/plain": [
       "<Figure size 288x216 with 1 Axes>"
      ]
     },
     "metadata": {
      "needs_background": "light"
     },
     "output_type": "display_data"
    }
   ],
   "source": [
    "plot_labels(reviews[reviews[\"cool\"] < 5], \"cool\")"
   ]
  },
  {
   "cell_type": "markdown",
   "metadata": {},
   "source": [
    "## Baseline Prediction of Rating"
   ]
  },
  {
   "cell_type": "code",
   "execution_count": 35,
   "metadata": {},
   "outputs": [
    {
     "name": "stdout",
     "output_type": "stream",
     "text": [
      "Baseline Rating: 4\n"
     ]
    }
   ],
   "source": [
    "reviews['predicted_rating'] = round(sum(reviews.stars)/len(reviews.index))\n",
    "print(\"Baseline Rating:\", round(sum(reviews.stars)/len(reviews.index)))"
   ]
  },
  {
   "cell_type": "code",
   "execution_count": 36,
   "metadata": {},
   "outputs": [],
   "source": [
    "t = reviews[['stars', 'predicted_rating']].dropna(how='any')"
   ]
  },
  {
   "cell_type": "code",
   "execution_count": 85,
   "metadata": {},
   "outputs": [
    {
     "data": {
      "text/html": [
       "<div>\n",
       "<style scoped>\n",
       "    .dataframe tbody tr th:only-of-type {\n",
       "        vertical-align: middle;\n",
       "    }\n",
       "\n",
       "    .dataframe tbody tr th {\n",
       "        vertical-align: top;\n",
       "    }\n",
       "\n",
       "    .dataframe thead th {\n",
       "        text-align: right;\n",
       "    }\n",
       "</style>\n",
       "<table border=\"1\" class=\"dataframe\">\n",
       "  <thead>\n",
       "    <tr style=\"text-align: right;\">\n",
       "      <th></th>\n",
       "      <th>accuracy</th>\n",
       "      <th>f1_score</th>\n",
       "      <th>recall</th>\n",
       "    </tr>\n",
       "  </thead>\n",
       "  <tbody>\n",
       "    <tr>\n",
       "      <th>Baseline</th>\n",
       "      <td>0.294571</td>\n",
       "      <td>0.091017</td>\n",
       "      <td>0.2</td>\n",
       "    </tr>\n",
       "  </tbody>\n",
       "</table>\n",
       "</div>"
      ],
      "text/plain": [
       "          accuracy  f1_score  recall\n",
       "Baseline  0.294571  0.091017     0.2"
      ]
     },
     "execution_count": 85,
     "metadata": {},
     "output_type": "execute_result"
    }
   ],
   "source": [
    "recall = metrics.recall_score(t.stars, t.predicted_rating, average='macro')\n",
    "f1 = metrics.f1_score(t.stars, t.predicted_rating, average='macro')\n",
    "accuracy = accuracy_score(t.stars, t.predicted_rating)\n",
    "\n",
    "baselineResult = {}\n",
    "\n",
    "data = {'recall':recall,\n",
    "        'f1_score':f1,\n",
    "        'accuracy':accuracy}\n",
    "\n",
    "baselineResult['Baseline'] = data\n",
    "pd.DataFrame(baselineResult).T"
   ]
  },
  {
   "cell_type": "markdown",
   "metadata": {},
   "source": [
    "The baseline prediction was 4 for rating, the accuracy was 0.294571 and the F1 score was 0.091017. "
   ]
  },
  {
   "cell_type": "markdown",
   "metadata": {},
   "source": [
    "## Text Mining"
   ]
  },
  {
   "cell_type": "markdown",
   "metadata": {},
   "source": [
    "The distribution of the text variable. "
   ]
  },
  {
   "cell_type": "code",
   "execution_count": 34,
   "metadata": {},
   "outputs": [
    {
     "data": {
      "image/png": "[encoded data removed]",
      "text/plain": [
       "<Figure size 720x432 with 1 Axes>"
      ]
     },
     "metadata": {},
     "output_type": "display_data"
    }
   ],
   "source": [
    "plt.rc('figure', figsize=(10,6))\n",
    "seaborn.set()\n",
    "colors = seaborn.color_palette()\n",
    "reviews.text.dropna().str.len().hist(bins=30)\n",
    "plt.xlabel('Length of the review')\n",
    "plt.ylabel('Number of reviews')\n",
    "plt.show()"
   ]
  },
  {
   "cell_type": "code",
   "execution_count": 56,
   "metadata": {},
   "outputs": [
    {
     "name": "stdout",
     "output_type": "stream",
     "text": [
      "Very upscale and romantic place. Good was exceptionally good from appetizer to the entree and finally the mouth watering dessert. Servers are pleasant and ambiance was warm and welcoming. \n",
      " ['Very', 'upscale', 'and', 'romantic', 'place', 'Good', 'was', 'exceptionally', 'good', 'from', 'appetizer', 'to', 'the', 'entree', 'and', 'finally', 'the', 'mouth', 'watering', 'dessert', 'Servers', 'are', 'pleasant', 'and', 'ambiance', 'was', 'warm', 'and', 'welcoming']\n"
     ]
    }
   ],
   "source": [
    "ds_temp = reviews[\"text\"].iloc[:10].map(lambda text: re.sub(r\"[^a-zA-Z0-9' ]\", ' ', text)).map(lambda text: text.split())\n",
    "print(reviews[\"text\"].iloc[0], '\\n', ds_temp.iloc[0])"
   ]
  },
  {
   "cell_type": "code",
   "execution_count": 57,
   "metadata": {},
   "outputs": [
    {
     "name": "stdout",
     "output_type": "stream",
     "text": [
      "Wall time: 4min 34s\n"
     ]
    }
   ],
   "source": [
    "%time reviews[\"tokens\"] = reviews[\"text\"].map(lambda text: re.sub(r\"[^a-zA-Z0-9' ]\", ' ', text)).map(lambda text: text.split())"
   ]
  },
  {
   "cell_type": "code",
   "execution_count": 59,
   "metadata": {},
   "outputs": [
    {
     "data": {
      "image/png": "[encoded data removed]",
      "text/plain": [
       "<Figure size 288x216 with 1 Axes>"
      ]
     },
     "metadata": {},
     "output_type": "display_data"
    }
   ],
   "source": [
    "reviews[\"num_tokens\"] = reviews[\"tokens\"].map(len)\n",
    "ax = reviews[\"num_tokens\"].hist(bins=20, \n",
    "                                 figsize=(4,3),\n",
    "                                 weights=np.ones(reviews.shape[0])/reviews.shape[0])\n",
    "ax.set_xlabel(\"Number of Tokens\")\n",
    "ax.set_ylabel(\"Ratio\")\n",
    "plt.show()"
   ]
  },
  {
   "cell_type": "code",
   "execution_count": 60,
   "metadata": {},
   "outputs": [
    {
     "name": "stdout",
     "output_type": "stream",
     "text": [
      "0.684508282582716\n",
      "0.9100851884316112\n"
     ]
    }
   ],
   "source": [
    "print(len(reviews[reviews[\"num_tokens\"] <= 128]) / len(reviews[\"num_tokens\"]))\n",
    "print(len(reviews[reviews[\"num_tokens\"] <= 256]) / len(reviews[\"num_tokens\"]))"
   ]
  },
  {
   "cell_type": "code",
   "execution_count": 61,
   "metadata": {},
   "outputs": [],
   "source": [
    "reviews.drop(columns=[\"tokens\", \"num_tokens\"], inplace=True)"
   ]
  },
  {
   "cell_type": "code",
   "execution_count": 62,
   "metadata": {},
   "outputs": [
    {
     "name": "stdout",
     "output_type": "stream",
     "text": [
      "Wall time: 1min 10s\n"
     ]
    }
   ],
   "source": [
    "%time reviews[\"num_tokens\"] = reviews[\"text\"].\\\n",
    "map(lambda text: re.sub(r\"[^a-zA-Z0-9' ]\", ' ', text)).\\\n",
    "map(lambda text: len(text.split()))"
   ]
  },
  {
   "cell_type": "code",
   "execution_count": 63,
   "metadata": {},
   "outputs": [
    {
     "data": {
      "image/png": "[encoded data removed]",
      "text/plain": [
       "<Figure size 360x216 with 1 Axes>"
      ]
     },
     "metadata": {},
     "output_type": "display_data"
    }
   ],
   "source": [
    "ax = reviews[\"num_tokens\"].hist(bins=20,\n",
    "                                  figsize=(5,3),\n",
    "                                  grid=False,\n",
    "                                  weights=np.ones(reviews.shape[0])/reviews.shape[0])\n",
    "ax.set_xlabel(\"Number of Tokens\")\n",
    "ax.set_ylabel(\"Ratio\")\n",
    "plt.savefig(\"num_tokens.eps\")\n",
    "plt.tight_layout()\n",
    "plt.show()"
   ]
  },
  {
   "cell_type": "code",
   "execution_count": 64,
   "metadata": {},
   "outputs": [
    {
     "name": "stdout",
     "output_type": "stream",
     "text": [
      "0.684508282582716\n",
      "0.9100851884316112\n"
     ]
    }
   ],
   "source": [
    "print(len(reviews[reviews[\"num_tokens\"] <= 128]) / len(reviews[\"num_tokens\"]))\n",
    "print(len(reviews[reviews[\"num_tokens\"] <= 256]) / len(reviews[\"num_tokens\"]))"
   ]
  },
  {
   "cell_type": "code",
   "execution_count": 66,
   "metadata": {},
   "outputs": [],
   "source": [
    "reviews.drop(columns=[\"num_tokens\"], inplace=True)"
   ]
  },
  {
   "cell_type": "markdown",
   "metadata": {},
   "source": [
    "## Vectorization"
   ]
  },
  {
   "cell_type": "code",
   "execution_count": 70,
   "metadata": {},
   "outputs": [],
   "source": [
    "from sklearn.feature_extraction.text import CountVectorizer, TfidfVectorizer\n",
    "\n",
    "def extract_features(df_train, df_test):\n",
    "  vectorizer = TfidfVectorizer(analyzer='word', \n",
    "                               stop_words='english',\n",
    "                               ngram_range=(1, 2),\n",
    "                               lowercase=True,\n",
    "                               min_df=5,\n",
    "                               binary=False)\n",
    "  X_train = vectorizer.fit_transform(df_train[\"text\"])\n",
    "  X_test = vectorizer.transform(df_test[\"text\"])\n",
    "  y_train = df_train[\"stars\"].tolist()\n",
    "  y_test = df_test[\"stars\"].tolist()\n",
    "  \n",
    "  return X_train, X_test, y_train, y_test"
   ]
  },
  {
   "cell_type": "code",
   "execution_count": 69,
   "metadata": {},
   "outputs": [],
   "source": [
    "from sklearn.model_selection import train_test_split\n",
    "\n",
    "reviews_train, reviews_test = train_test_split(reviews, test_size=500000, \n",
    "                                         random_state=50, shuffle=True)"
   ]
  },
  {
   "cell_type": "code",
   "execution_count": 71,
   "metadata": {},
   "outputs": [
    {
     "name": "stdout",
     "output_type": "stream",
     "text": [
      "Wall time: 12min 31s\n"
     ]
    }
   ],
   "source": [
    "%time X_train, X_test, y_train, y_test = extract_features(reviews_train, reviews_test)"
   ]
  },
  {
   "cell_type": "markdown",
   "metadata": {},
   "source": [
    "## Binary Logistic Regression for Count Vectorizer"
   ]
  },
  {
   "cell_type": "code",
   "execution_count": 72,
   "metadata": {},
   "outputs": [],
   "source": [
    "from sklearn.metrics import accuracy_score, precision_score, recall_score\n",
    "from sklearn.metrics import f1_score, mean_squared_error\n",
    "from sklearn.metrics import classification_report\n",
    "from sklearn.metrics import plot_confusion_matrix"
   ]
  },
  {
   "cell_type": "code",
   "execution_count": 73,
   "metadata": {},
   "outputs": [],
   "source": [
    "def evaluate_model_Xy(model, X, y, y_pred=None, label=\"Training\", model_name=\"model\"):\n",
    "  if y_pred is None:\n",
    "    y_pred = model.predict(X)\n",
    "\n",
    "  print(label + ' Set')\n",
    "  print(\"Accuracy:\", accuracy_score(y, y_pred))\n",
    "  print()\n",
    "\n",
    "  print(classification_report(y, y_pred, digits=4))\n",
    "  disp = plot_confusion_matrix(model, X, y, \n",
    "                               cmap=plt.cm.Blues, normalize='true')\n",
    "  plt.savefig(model_name + \"_\" + label.lower() + \".eps\")\n",
    "  plt.show()\n",
    "  print()"
   ]
  },
  {
   "cell_type": "code",
   "execution_count": 74,
   "metadata": {},
   "outputs": [],
   "source": [
    "def evaluate_model(model, model_name=\"model\",\n",
    "                   y_train_pred=None, y_test_pred=None):\n",
    "  evaluate_model_Xy(model, X_train, y_train, label=\"Training\", model_name=model_name)\n",
    "  evaluate_model_Xy(model, X_test, y_test, label=\"Testing\", model_name=model_name)"
   ]
  },
  {
   "cell_type": "code",
   "execution_count": 75,
   "metadata": {},
   "outputs": [],
   "source": [
    "from sklearn.linear_model import LogisticRegression\n",
    "my_lr = LogisticRegression(penalty='l2',\n",
    "                            tol=1e-4,\n",
    "                            C=5.0,\n",
    "                            fit_intercept=True,\n",
    "                            class_weight='balanced',\n",
    "                            random_state=0,\n",
    "                            solver='lbfgs',\n",
    "                            max_iter=100,\n",
    "                            multi_class='auto',\n",
    "                            verbose=1,\n",
    "                            n_jobs=-1)"
   ]
  },
  {
   "cell_type": "code",
   "execution_count": 76,
   "metadata": {},
   "outputs": [
    {
     "name": "stderr",
     "output_type": "stream",
     "text": [
      "[Parallel(n_jobs=-1)]: Using backend LokyBackend with 8 concurrent workers.\n",
      "[Parallel(n_jobs=-1)]: Done   1 out of   1 | elapsed: 24.7min finished\n"
     ]
    },
    {
     "data": {
      "text/plain": [
       "LogisticRegression(C=5.0, class_weight='balanced', n_jobs=-1, random_state=0,\n",
       "                   verbose=1)"
      ]
     },
     "execution_count": 76,
     "metadata": {},
     "output_type": "execute_result"
    }
   ],
   "source": [
    "my_lr.fit(X_train, y_train)"
   ]
  },
  {
   "cell_type": "code",
   "execution_count": 78,
   "metadata": {},
   "outputs": [
    {
     "name": "stdout",
     "output_type": "stream",
     "text": [
      "Training Set\n",
      "Accuracy: 0.6756356898682878\n",
      "\n",
      "              precision    recall  f1-score   support\n",
      "\n",
      "           1     0.6862    0.8234    0.7486     79840\n",
      "           2     0.5729    0.6635    0.6149     94842\n",
      "           3     0.5209    0.6209    0.5665    165780\n",
      "           4     0.6112    0.5464    0.5770    355818\n",
      "           5     0.8017    0.7625    0.7816    511581\n",
      "\n",
      "    accuracy                         0.6756   1207861\n",
      "   macro avg     0.6386    0.6833    0.6577   1207861\n",
      "weighted avg     0.6814    0.6756    0.6765   1207861\n",
      "\n"
     ]
    },
    {
     "data": {
      "image/png": "[encoded data removed]",
      "text/plain": [
       "<Figure size 720x432 with 2 Axes>"
      ]
     },
     "metadata": {},
     "output_type": "display_data"
    },
    {
     "name": "stdout",
     "output_type": "stream",
     "text": [
      "\n",
      "Testing Set\n",
      "Accuracy: 0.621684\n",
      "\n",
      "              precision    recall  f1-score   support\n",
      "\n",
      "           1     0.5994    0.7241    0.6558     32902\n",
      "           2     0.4356    0.5000    0.4656     39340\n",
      "           3     0.4532    0.5391    0.4924     69163\n",
      "           4     0.5585    0.4984    0.5267    147268\n",
      "           5     0.7778    0.7414    0.7592    211327\n",
      "\n",
      "    accuracy                         0.6217    500000\n",
      "   macro avg     0.5649    0.6006    0.5799    500000\n",
      "weighted avg     0.6297    0.6217    0.6239    500000\n",
      "\n"
     ]
    },
    {
     "data": {
      "image/png": "[encoded data removed]",
      "text/plain": [
       "<Figure size 720x432 with 2 Axes>"
      ]
     },
     "metadata": {},
     "output_type": "display_data"
    },
    {
     "name": "stdout",
     "output_type": "stream",
     "text": [
      "\n"
     ]
    }
   ],
   "source": [
    "evaluate_model(my_lr, model_name=\"lr_count_bin\")"
   ]
  },
  {
   "cell_type": "markdown",
   "metadata": {},
   "source": [
    "## Random Forest Model"
   ]
  },
  {
   "cell_type": "code",
   "execution_count": 82,
   "metadata": {},
   "outputs": [],
   "source": [
    "from sklearn.ensemble import RandomForestClassifier\n",
    "\n",
    "my_rf = RandomForestClassifier(n_estimators=100,\n",
    "                                criterion=\"gini\",\n",
    "                                max_depth=5, \n",
    "                                min_samples_split=2,\n",
    "                                min_samples_leaf=100, \n",
    "                                max_features=\"auto\", \n",
    "                                n_jobs=-1,\n",
    "                                verbose=1,\n",
    "                                random_state=0,\n",
    "                                class_weight='balanced')"
   ]
  },
  {
   "cell_type": "code",
   "execution_count": 83,
   "metadata": {},
   "outputs": [
    {
     "name": "stderr",
     "output_type": "stream",
     "text": [
      "[Parallel(n_jobs=-1)]: Using backend ThreadingBackend with 8 concurrent workers.\n",
      "[Parallel(n_jobs=-1)]: Done  34 tasks      | elapsed:    7.8s\n",
      "[Parallel(n_jobs=-1)]: Done 100 out of 100 | elapsed:   24.4s finished\n"
     ]
    },
    {
     "data": {
      "text/plain": [
       "RandomForestClassifier(class_weight='balanced', max_depth=5,\n",
       "                       min_samples_leaf=100, n_jobs=-1, random_state=0,\n",
       "                       verbose=1)"
      ]
     },
     "execution_count": 83,
     "metadata": {},
     "output_type": "execute_result"
    }
   ],
   "source": [
    "my_rf.fit(X_train, y_train)"
   ]
  },
  {
   "cell_type": "code",
   "execution_count": 84,
   "metadata": {},
   "outputs": [
    {
     "name": "stderr",
     "output_type": "stream",
     "text": [
      "[Parallel(n_jobs=8)]: Using backend ThreadingBackend with 8 concurrent workers.\n",
      "[Parallel(n_jobs=8)]: Done  34 tasks      | elapsed:  1.3min\n",
      "[Parallel(n_jobs=8)]: Done 100 out of 100 | elapsed:  3.1min finished\n"
     ]
    },
    {
     "name": "stdout",
     "output_type": "stream",
     "text": [
      "Training Set\n",
      "Accuracy: 0.48264576801469705\n",
      "\n",
      "              precision    recall  f1-score   support\n",
      "\n",
      "           1     0.3224    0.5997    0.4193     79840\n",
      "           2     0.2575    0.2389    0.2478     94842\n",
      "           3     0.3505    0.2347    0.2811    165780\n",
      "           4     0.4771    0.2056    0.2873    355818\n",
      "           5     0.5663    0.7826    0.6571    511581\n",
      "\n",
      "    accuracy                         0.4826   1207861\n",
      "   macro avg     0.3947    0.4123    0.3786   1207861\n",
      "weighted avg     0.4700    0.4826    0.4487   1207861\n",
      "\n"
     ]
    },
    {
     "name": "stderr",
     "output_type": "stream",
     "text": [
      "[Parallel(n_jobs=8)]: Using backend ThreadingBackend with 8 concurrent workers.\n",
      "[Parallel(n_jobs=8)]: Done  34 tasks      | elapsed:  1.2min\n",
      "[Parallel(n_jobs=8)]: Done 100 out of 100 | elapsed:  3.2min finished\n"
     ]
    },
    {
     "data": {
      "image/png": "[encoded data removed]",
      "text/plain": [
       "<Figure size 720x432 with 2 Axes>"
      ]
     },
     "metadata": {},
     "output_type": "display_data"
    },
    {
     "name": "stdout",
     "output_type": "stream",
     "text": [
      "\n"
     ]
    },
    {
     "name": "stderr",
     "output_type": "stream",
     "text": [
      "[Parallel(n_jobs=8)]: Using backend ThreadingBackend with 8 concurrent workers.\n",
      "[Parallel(n_jobs=8)]: Done  34 tasks      | elapsed:   31.4s\n",
      "[Parallel(n_jobs=8)]: Done 100 out of 100 | elapsed:  1.4min finished\n"
     ]
    },
    {
     "name": "stdout",
     "output_type": "stream",
     "text": [
      "Testing Set\n",
      "Accuracy: 0.481462\n",
      "\n",
      "              precision    recall  f1-score   support\n",
      "\n",
      "           1     0.3223    0.6016    0.4198     32902\n",
      "           2     0.2573    0.2381    0.2473     39340\n",
      "           3     0.3517    0.2333    0.2805     69163\n",
      "           4     0.4726    0.2046    0.2856    147268\n",
      "           5     0.5650    0.7822    0.6561    211327\n",
      "\n",
      "    accuracy                         0.4815    500000\n",
      "   macro avg     0.3938    0.4120    0.3779    500000\n",
      "weighted avg     0.4681    0.4815    0.4473    500000\n",
      "\n"
     ]
    },
    {
     "name": "stderr",
     "output_type": "stream",
     "text": [
      "[Parallel(n_jobs=8)]: Using backend ThreadingBackend with 8 concurrent workers.\n",
      "[Parallel(n_jobs=8)]: Done  34 tasks      | elapsed:   30.5s\n",
      "[Parallel(n_jobs=8)]: Done 100 out of 100 | elapsed:  1.3min finished\n"
     ]
    },
    {
     "data": {
      "image/png": "[encoded data removed]",
      "text/plain": [
       "<Figure size 720x432 with 2 Axes>"
      ]
     },
     "metadata": {},
     "output_type": "display_data"
    },
    {
     "name": "stdout",
     "output_type": "stream",
     "text": [
      "\n"
     ]
    }
   ],
   "source": [
    "evaluate_model(my_rf, model_name=\"rf\")"
   ]
  },
  {
   "cell_type": "markdown",
   "metadata": {},
   "source": [
    "## Concusion"
   ]
  },
  {
   "cell_type": "markdown",
   "metadata": {},
   "source": [
    "In this report, the yelp review data was analysis with text mining. The accuracy of baseline is only 0.2946. The logistic regression model results showed the training accuracy was 0.6756 and teh testing accuracy was 0.6217. The random forest model results showed the training accuracy was 0.4826 and teh testing accuracy was 0.4815. "
   ]
  }
 ],
 "metadata": {
  "kernelspec": {
   "display_name": "Python 3",
   "language": "python",
   "name": "python3"
  },
  "language_info": {
   "codemirror_mode": {
    "name": "ipython",
    "version": 3
   },
   "file_extension": ".py",
   "mimetype": "text/x-python",
   "name": "python",
   "nbconvert_exporter": "python",
   "pygments_lexer": "ipython3",
   "version": "3.7.4"
  }
 },
 "nbformat": 4,
 "nbformat_minor": 4
}
