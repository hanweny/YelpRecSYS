{
 "cells": [
  {
   "cell_type": "code",
   "execution_count": 2,
   "id": "c833640b",
   "metadata": {},
   "outputs": [],
   "source": [
    "import pandas as pd\n",
    "import numpy as np\n",
    "from sklearn.model_selection import train_test_split\n",
    "from sklearn.preprocessing import LabelEncoder\n",
    "from scipy.sparse import csr_matrix\n",
    "from collections import Counter, defaultdict\n",
    "import matplotlib.pyplot as plt"
   ]
  },
  {
   "cell_type": "code",
   "execution_count": 3,
   "id": "992cdee4",
   "metadata": {},
   "outputs": [],
   "source": [
    "users = pd.read_csv(\"data/users.csv\")\n",
    "users = users.drop('yelping_since', axis = 1)\n",
    "restaurants = pd.read_csv(\"data/restaurants.csv\")\n",
    "reviews = pd.read_csv(\"data/reviews.csv\")\n",
    "tips = pd.read_csv(\"data/tips.csv\")"
   ]
  },
  {
   "cell_type": "code",
   "execution_count": 4,
   "id": "723590ff",
   "metadata": {},
   "outputs": [],
   "source": [
    "reviews_sub = reviews[(reviews['business_id'].isin(restaurants['business_id'])) & (reviews['user_id'].isin(users['user_id']))].copy()\n",
    "user_encoder = LabelEncoder().fit(users['user_id'])\n",
    "restaurant_encoder = LabelEncoder().fit(restaurants['business_id'])\n",
    "reviews_sub['user_id'] = user_encoder.transform(reviews_sub['user_id'])\n",
    "reviews_sub['business_id'] = restaurant_encoder.transform(reviews_sub['business_id'])"
   ]
  },
  {
   "cell_type": "markdown",
   "id": "c8ca36a4",
   "metadata": {},
   "source": [
    "### Prepare data"
   ]
  },
  {
   "cell_type": "code",
   "execution_count": 5,
   "id": "30c77e2f",
   "metadata": {},
   "outputs": [],
   "source": [
    "users_train, user_test = train_test_split(users, test_size = 0.2, random_state = 48)\n",
    "user_train, user_val = train_test_split(users_train, test_size = 0.3, random_state = 48)"
   ]
  },
  {
   "cell_type": "code",
   "execution_count": 6,
   "id": "4cda999c",
   "metadata": {},
   "outputs": [
    {
     "name": "stdout",
     "output_type": "stream",
     "text": [
      "Number of users in the Training:   48680\n",
      "Number of users in the Validation:   14604\n",
      "Number of users in the Testing:   12171\n"
     ]
    }
   ],
   "source": [
    "print(\"Number of users in the Training:  \", users_train.shape[0])\n",
    "print(\"Number of users in the Validation:  \", user_val.shape[0])\n",
    "print(\"Number of users in the Testing:  \", user_test.shape[0])"
   ]
  },
  {
   "cell_type": "code",
   "execution_count": 7,
   "id": "e698649d",
   "metadata": {},
   "outputs": [],
   "source": [
    "reviews_train = reviews_sub[reviews_sub['user_id'].isin(user_encoder.transform(users_train['user_id']))].copy()\n",
    "reviews_val = reviews_sub[reviews_sub['user_id'].isin(user_encoder.transform(user_val['user_id']))].copy()\n",
    "reviews_test = reviews_sub[reviews_sub['user_id'].isin(user_encoder.transform(user_test['user_id']))].copy()"
   ]
  },
  {
   "cell_type": "code",
   "execution_count": 8,
   "id": "17d7555d",
   "metadata": {},
   "outputs": [],
   "source": [
    "# rating_matrix =  csr_matrix((reviews_sub['stars'], (reviews_sub['user_id'], reviews_sub['business_id'])), shape = (users.shape[0], restaurants.shape[0]))"
   ]
  },
  {
   "cell_type": "markdown",
   "id": "80517091",
   "metadata": {},
   "source": [
    "### With Raw Score"
   ]
  },
  {
   "cell_type": "code",
   "execution_count": 9,
   "id": "1b9123e1",
   "metadata": {},
   "outputs": [],
   "source": [
    "import torch\n",
    "from torch import optim\n",
    "from torch.autograd import Variable"
   ]
  },
  {
   "cell_type": "code",
   "execution_count": 10,
   "id": "d07ddb47",
   "metadata": {},
   "outputs": [
    {
     "name": "stdout",
     "output_type": "stream",
     "text": [
      "Num of items:  12665\n",
      "Num of users:  48680\n"
     ]
    }
   ],
   "source": [
    "num_items, num_users = reviews_train['business_id'].nunique(), reviews_train['user_id'].nunique()\n",
    "print(\"Num of items:  {}\".format(num_items))\n",
    "print(\"Num of users:  {}\".format(num_users))"
   ]
  },
  {
   "cell_type": "code",
   "execution_count": 14,
   "id": "9053af7c",
   "metadata": {},
   "outputs": [],
   "source": [
    "train_user_encoder = LabelEncoder().fit(reviews_train['user_id'])\n",
    "reviews_train['user_id'] = train_user_encoder.transform(reviews_train['user_id'])\n",
    "train_restaurant_encoder = LabelEncoder().fit(reviews_train['business_id'])\n",
    "reviews_train['business_id'] = train_restaurant_encoder.transform(reviews_train['business_id'])\n",
    "rating_matrix = csr_matrix((reviews_train['stars'], (reviews_train['user_id'], reviews_train['business_id'])), shape = (num_users, num_items))\n",
    "# rating_matrix_mask = np.where(rating_matrix == 0, 0, 1)"
   ]
  },
  {
   "cell_type": "code",
   "execution_count": null,
   "id": "520edf1d",
   "metadata": {},
   "outputs": [],
   "source": []
  },
  {
   "cell_type": "code",
   "execution_count": null,
   "id": "24f68fea",
   "metadata": {},
   "outputs": [],
   "source": []
  },
  {
   "cell_type": "code",
   "execution_count": 15,
   "id": "0ca5a918",
   "metadata": {},
   "outputs": [],
   "source": [
    "rating_matrix_coo = rating_matrix.tocoo()\n",
    "rating_matrix_tensor = torch.sparse.LongTensor(torch.LongTensor([rating_matrix_coo.row.tolist(), rating_matrix_coo.col.tolist()]),\n",
    "                                               torch.LongTensor(rating_matrix_coo.data.astype(np.int32)))\n",
    "rating_matrix = rating_matrix_tensor.to_dense().float()\n",
    "rating_matrix_mask = (rating_matrix != 0)"
   ]
  },
  {
   "cell_type": "code",
   "execution_count": 16,
   "id": "5d68ee90",
   "metadata": {},
   "outputs": [],
   "source": []
  },
  {
   "cell_type": "code",
   "execution_count": null,
   "id": "3e4d64ae",
   "metadata": {},
   "outputs": [
    {
     "name": "stdout",
     "output_type": "stream",
     "text": [
      "0 277702.65625\n",
      "1 276595.0\n"
     ]
    }
   ],
   "source": [
    "hidden_neuron = 1000\n",
    "\n",
    "V = Variable(torch.randn(hidden_neuron, num_users), requires_grad = True)\n",
    "W = Variable(torch.randn(num_users, hidden_neuron), requires_grad = True)\n",
    "mu = Variable(torch.randn(hidden_neuron), requires_grad = True)\n",
    "b = Variable(torch.randn(num_users), requires_grad = True)\n",
    "\n",
    "\n",
    "learning_rate = 0.005\n",
    "optimizer = torch.optim.Adam([V, W, mu, b], lr=learning_rate)\n",
    "for t in range(300):\n",
    "    optimizer.zero_grad()\n",
    "    layer_1 = torch.nn.Dropout(p=0.2)(torch.sigmoid(mu.view(hidden_neuron, 1) + V.matmul(rating_matrix)))\n",
    "    layer_2 = W.matmul(layer_1) + b.view(num_users, 1)\n",
    "    loss = torch.mean(((rating_matrix - layer_2) * rating_matrix_mask)**2) + 20 * (torch.norm(V) + torch.norm(W))\n",
    "    print(t, loss.data.item())\n",
    "    \n",
    "    loss.backward()\n",
    "    optimizer.step()\n",
    "\n",
    "    "
   ]
  },
  {
   "cell_type": "code",
   "execution_count": 18,
   "id": "dae66c59",
   "metadata": {},
   "outputs": [],
   "source": []
  },
  {
   "cell_type": "code",
   "execution_count": 19,
   "id": "af960ee1",
   "metadata": {},
   "outputs": [
    {
     "data": {
      "text/plain": [
       "torch.Size([48680, 12665])"
      ]
     },
     "execution_count": 19,
     "metadata": {},
     "output_type": "execute_result"
    }
   ],
   "source": [
    "layer_2.shape"
   ]
  },
  {
   "cell_type": "code",
   "execution_count": 25,
   "id": "9e08f9a6",
   "metadata": {},
   "outputs": [],
   "source": []
  },
  {
   "cell_type": "code",
   "execution_count": null,
   "id": "139a7a76",
   "metadata": {},
   "outputs": [],
   "source": []
  },
  {
   "cell_type": "code",
   "execution_count": null,
   "id": "df136136",
   "metadata": {},
   "outputs": [],
   "source": []
  },
  {
   "cell_type": "code",
   "execution_count": 25,
   "id": "3bfba7e4",
   "metadata": {},
   "outputs": [
    {
     "data": {
      "text/plain": [
       "tensor(indices=tensor([[    0,     0,     0,  ..., 48679, 48679, 48679],\n",
       "                       [  781,  1958,  3909,  ..., 10766, 12361, 12435]]),\n",
       "       values=tensor([4, 4, 4,  ..., 3, 5, 5]),\n",
       "       size=(48680, 12665), nnz=1264406, layout=torch.sparse_coo)"
      ]
     },
     "execution_count": 25,
     "metadata": {},
     "output_type": "execute_result"
    }
   ],
   "source": [
    "rating_matrix_tensor"
   ]
  },
  {
   "cell_type": "code",
   "execution_count": 15,
   "id": "f7343635",
   "metadata": {},
   "outputs": [
    {
     "ename": "ResourceExhaustedError",
     "evalue": "OOM when allocating tensor with shape[48680,12665] and type float on /job:localhost/replica:0/task:0/device:GPU:0 by allocator GPU_0_bfc [Op:Sub]",
     "output_type": "error",
     "traceback": [
      "\u001b[0;31m---------------------------------------------------------------------------\u001b[0m",
      "\u001b[0;31mResourceExhaustedError\u001b[0m                    Traceback (most recent call last)",
      "\u001b[0;32m<ipython-input-15-569f7df8015b>\u001b[0m in \u001b[0;36m<module>\u001b[0;34m\u001b[0m\n\u001b[1;32m      6\u001b[0m \u001b[0mlayer_1\u001b[0m \u001b[0;34m=\u001b[0m \u001b[0mtf\u001b[0m\u001b[0;34m.\u001b[0m\u001b[0mnn\u001b[0m\u001b[0;34m.\u001b[0m\u001b[0mdropout\u001b[0m\u001b[0;34m(\u001b[0m\u001b[0mtf\u001b[0m\u001b[0;34m.\u001b[0m\u001b[0msigmoid\u001b[0m\u001b[0;34m(\u001b[0m\u001b[0mtf\u001b[0m\u001b[0;34m.\u001b[0m\u001b[0mexpand_dims\u001b[0m\u001b[0;34m(\u001b[0m\u001b[0mmu\u001b[0m\u001b[0;34m,\u001b[0m \u001b[0;36m1\u001b[0m\u001b[0;34m)\u001b[0m \u001b[0;34m+\u001b[0m \u001b[0mtf\u001b[0m\u001b[0;34m.\u001b[0m\u001b[0mmatmul\u001b[0m\u001b[0;34m(\u001b[0m\u001b[0mV\u001b[0m\u001b[0;34m,\u001b[0m \u001b[0mrating_matrix\u001b[0m\u001b[0;34m)\u001b[0m\u001b[0;34m)\u001b[0m\u001b[0;34m,\u001b[0m \u001b[0;36m0.95\u001b[0m\u001b[0;34m)\u001b[0m\u001b[0;34m\u001b[0m\u001b[0;34m\u001b[0m\u001b[0m\n\u001b[1;32m      7\u001b[0m \u001b[0mlayer_2\u001b[0m \u001b[0;34m=\u001b[0m \u001b[0mtf\u001b[0m\u001b[0;34m.\u001b[0m\u001b[0mmatmul\u001b[0m\u001b[0;34m(\u001b[0m\u001b[0mW\u001b[0m\u001b[0;34m,\u001b[0m \u001b[0mlayer_1\u001b[0m\u001b[0;34m)\u001b[0m \u001b[0;34m+\u001b[0m \u001b[0mtf\u001b[0m\u001b[0;34m.\u001b[0m\u001b[0mexpand_dims\u001b[0m\u001b[0;34m(\u001b[0m\u001b[0mb\u001b[0m\u001b[0;34m,\u001b[0m \u001b[0;36m1\u001b[0m\u001b[0;34m)\u001b[0m\u001b[0;34m\u001b[0m\u001b[0;34m\u001b[0m\u001b[0m\n\u001b[0;32m----> 8\u001b[0;31m \u001b[0mloss\u001b[0m \u001b[0;34m=\u001b[0m \u001b[0mtf\u001b[0m\u001b[0;34m.\u001b[0m\u001b[0mreduce_mean\u001b[0m\u001b[0;34m(\u001b[0m\u001b[0mtf\u001b[0m\u001b[0;34m.\u001b[0m\u001b[0msquare\u001b[0m\u001b[0;34m(\u001b[0m\u001b[0mtf\u001b[0m\u001b[0;34m.\u001b[0m\u001b[0mnorm\u001b[0m\u001b[0;34m(\u001b[0m\u001b[0mtf\u001b[0m\u001b[0;34m.\u001b[0m\u001b[0mmultiply\u001b[0m\u001b[0;34m(\u001b[0m\u001b[0;34m(\u001b[0m\u001b[0mrating_matrix\u001b[0m \u001b[0;34m-\u001b[0m \u001b[0mlayer_2\u001b[0m\u001b[0;34m)\u001b[0m\u001b[0;34m,\u001b[0m \u001b[0mrating_matrix_mask\u001b[0m\u001b[0;34m)\u001b[0m\u001b[0;34m)\u001b[0m\u001b[0;34m)\u001b[0m\u001b[0;34m)\u001b[0m \u001b[0;34m+\u001b[0m\u001b[0;31m \u001b[0m\u001b[0;31m\\\u001b[0m\u001b[0;34m\u001b[0m\u001b[0;34m\u001b[0m\u001b[0m\n\u001b[0m\u001b[1;32m      9\u001b[0m        \u001b[0;36m20\u001b[0m \u001b[0;34m*\u001b[0m \u001b[0;34m(\u001b[0m\u001b[0mtf\u001b[0m\u001b[0;34m.\u001b[0m\u001b[0msquare\u001b[0m\u001b[0;34m(\u001b[0m\u001b[0mtf\u001b[0m\u001b[0;34m.\u001b[0m\u001b[0mnorm\u001b[0m\u001b[0;34m(\u001b[0m\u001b[0mW\u001b[0m\u001b[0;34m)\u001b[0m\u001b[0;34m)\u001b[0m \u001b[0;34m+\u001b[0m \u001b[0mtf\u001b[0m\u001b[0;34m.\u001b[0m\u001b[0msquare\u001b[0m\u001b[0;34m(\u001b[0m\u001b[0mtf\u001b[0m\u001b[0;34m.\u001b[0m\u001b[0mnorm\u001b[0m\u001b[0;34m(\u001b[0m\u001b[0mV\u001b[0m\u001b[0;34m)\u001b[0m\u001b[0;34m)\u001b[0m\u001b[0;34m)\u001b[0m\u001b[0;34m\u001b[0m\u001b[0;34m\u001b[0m\u001b[0m\n\u001b[1;32m     10\u001b[0m \u001b[0moptimizer\u001b[0m \u001b[0;34m=\u001b[0m \u001b[0mtf\u001b[0m\u001b[0;34m.\u001b[0m\u001b[0mtrain\u001b[0m\u001b[0;34m.\u001b[0m\u001b[0mAdamOptimizer\u001b[0m\u001b[0;34m(\u001b[0m\u001b[0mlearning_rate\u001b[0m\u001b[0;34m=\u001b[0m\u001b[0;36m0.005\u001b[0m\u001b[0;34m)\u001b[0m\u001b[0;34m.\u001b[0m\u001b[0mminimize\u001b[0m\u001b[0;34m(\u001b[0m\u001b[0mloss\u001b[0m\u001b[0;34m)\u001b[0m\u001b[0;34m\u001b[0m\u001b[0;34m\u001b[0m\u001b[0m\n",
      "\u001b[0;32m~/.conda/envs/dev/lib/python3.8/site-packages/tensorflow/python/ops/math_ops.py\u001b[0m in \u001b[0;36mr_binary_op_wrapper\u001b[0;34m(y, x)\u001b[0m\n\u001b[1;32m   1154\u001b[0m     \u001b[0;32mwith\u001b[0m \u001b[0mops\u001b[0m\u001b[0;34m.\u001b[0m\u001b[0mname_scope\u001b[0m\u001b[0;34m(\u001b[0m\u001b[0;32mNone\u001b[0m\u001b[0;34m,\u001b[0m \u001b[0mop_name\u001b[0m\u001b[0;34m,\u001b[0m \u001b[0;34m[\u001b[0m\u001b[0mx\u001b[0m\u001b[0;34m,\u001b[0m \u001b[0my\u001b[0m\u001b[0;34m]\u001b[0m\u001b[0;34m)\u001b[0m \u001b[0;32mas\u001b[0m \u001b[0mname\u001b[0m\u001b[0;34m:\u001b[0m\u001b[0;34m\u001b[0m\u001b[0;34m\u001b[0m\u001b[0m\n\u001b[1;32m   1155\u001b[0m       \u001b[0mx\u001b[0m \u001b[0;34m=\u001b[0m \u001b[0mops\u001b[0m\u001b[0;34m.\u001b[0m\u001b[0mconvert_to_tensor\u001b[0m\u001b[0;34m(\u001b[0m\u001b[0mx\u001b[0m\u001b[0;34m,\u001b[0m \u001b[0mdtype\u001b[0m\u001b[0;34m=\u001b[0m\u001b[0my\u001b[0m\u001b[0;34m.\u001b[0m\u001b[0mdtype\u001b[0m\u001b[0;34m.\u001b[0m\u001b[0mbase_dtype\u001b[0m\u001b[0;34m,\u001b[0m \u001b[0mname\u001b[0m\u001b[0;34m=\u001b[0m\u001b[0;34m\"x\"\u001b[0m\u001b[0;34m)\u001b[0m\u001b[0;34m\u001b[0m\u001b[0;34m\u001b[0m\u001b[0m\n\u001b[0;32m-> 1156\u001b[0;31m       \u001b[0;32mreturn\u001b[0m \u001b[0mfunc\u001b[0m\u001b[0;34m(\u001b[0m\u001b[0mx\u001b[0m\u001b[0;34m,\u001b[0m \u001b[0my\u001b[0m\u001b[0;34m,\u001b[0m \u001b[0mname\u001b[0m\u001b[0;34m=\u001b[0m\u001b[0mname\u001b[0m\u001b[0;34m)\u001b[0m\u001b[0;34m\u001b[0m\u001b[0;34m\u001b[0m\u001b[0m\n\u001b[0m\u001b[1;32m   1157\u001b[0m \u001b[0;34m\u001b[0m\u001b[0m\n\u001b[1;32m   1158\u001b[0m   \u001b[0;31m# Propagate func.__doc__ to the wrappers\u001b[0m\u001b[0;34m\u001b[0m\u001b[0;34m\u001b[0m\u001b[0;34m\u001b[0m\u001b[0m\n",
      "\u001b[0;32m~/.conda/envs/dev/lib/python3.8/site-packages/tensorflow/python/util/dispatch.py\u001b[0m in \u001b[0;36mwrapper\u001b[0;34m(*args, **kwargs)\u001b[0m\n\u001b[1;32m    199\u001b[0m     \u001b[0;34m\"\"\"Call target, and fall back on dispatchers if there is a TypeError.\"\"\"\u001b[0m\u001b[0;34m\u001b[0m\u001b[0;34m\u001b[0m\u001b[0m\n\u001b[1;32m    200\u001b[0m     \u001b[0;32mtry\u001b[0m\u001b[0;34m:\u001b[0m\u001b[0;34m\u001b[0m\u001b[0;34m\u001b[0m\u001b[0m\n\u001b[0;32m--> 201\u001b[0;31m       \u001b[0;32mreturn\u001b[0m \u001b[0mtarget\u001b[0m\u001b[0;34m(\u001b[0m\u001b[0;34m*\u001b[0m\u001b[0margs\u001b[0m\u001b[0;34m,\u001b[0m \u001b[0;34m**\u001b[0m\u001b[0mkwargs\u001b[0m\u001b[0;34m)\u001b[0m\u001b[0;34m\u001b[0m\u001b[0;34m\u001b[0m\u001b[0m\n\u001b[0m\u001b[1;32m    202\u001b[0m     \u001b[0;32mexcept\u001b[0m \u001b[0;34m(\u001b[0m\u001b[0mTypeError\u001b[0m\u001b[0;34m,\u001b[0m \u001b[0mValueError\u001b[0m\u001b[0;34m)\u001b[0m\u001b[0;34m:\u001b[0m\u001b[0;34m\u001b[0m\u001b[0;34m\u001b[0m\u001b[0m\n\u001b[1;32m    203\u001b[0m       \u001b[0;31m# Note: convert_to_eager_tensor currently raises a ValueError, not a\u001b[0m\u001b[0;34m\u001b[0m\u001b[0;34m\u001b[0m\u001b[0;34m\u001b[0m\u001b[0m\n",
      "\u001b[0;32m~/.conda/envs/dev/lib/python3.8/site-packages/tensorflow/python/ops/math_ops.py\u001b[0m in \u001b[0;36msubtract\u001b[0;34m(x, y, name)\u001b[0m\n\u001b[1;32m    525\u001b[0m \u001b[0;34m@\u001b[0m\u001b[0mdispatch\u001b[0m\u001b[0;34m.\u001b[0m\u001b[0madd_dispatch_support\u001b[0m\u001b[0;34m\u001b[0m\u001b[0;34m\u001b[0m\u001b[0m\n\u001b[1;32m    526\u001b[0m \u001b[0;32mdef\u001b[0m \u001b[0msubtract\u001b[0m\u001b[0;34m(\u001b[0m\u001b[0mx\u001b[0m\u001b[0;34m,\u001b[0m \u001b[0my\u001b[0m\u001b[0;34m,\u001b[0m \u001b[0mname\u001b[0m\u001b[0;34m=\u001b[0m\u001b[0;32mNone\u001b[0m\u001b[0;34m)\u001b[0m\u001b[0;34m:\u001b[0m\u001b[0;34m\u001b[0m\u001b[0;34m\u001b[0m\u001b[0m\n\u001b[0;32m--> 527\u001b[0;31m   \u001b[0;32mreturn\u001b[0m \u001b[0mgen_math_ops\u001b[0m\u001b[0;34m.\u001b[0m\u001b[0msub\u001b[0m\u001b[0;34m(\u001b[0m\u001b[0mx\u001b[0m\u001b[0;34m,\u001b[0m \u001b[0my\u001b[0m\u001b[0;34m,\u001b[0m \u001b[0mname\u001b[0m\u001b[0;34m)\u001b[0m\u001b[0;34m\u001b[0m\u001b[0;34m\u001b[0m\u001b[0m\n\u001b[0m\u001b[1;32m    528\u001b[0m \u001b[0;34m\u001b[0m\u001b[0m\n\u001b[1;32m    529\u001b[0m \u001b[0;34m\u001b[0m\u001b[0m\n",
      "\u001b[0;32m~/.conda/envs/dev/lib/python3.8/site-packages/tensorflow/python/ops/gen_math_ops.py\u001b[0m in \u001b[0;36msub\u001b[0;34m(x, y, name)\u001b[0m\n\u001b[1;32m  10454\u001b[0m       \u001b[0;32mreturn\u001b[0m \u001b[0m_result\u001b[0m\u001b[0;34m\u001b[0m\u001b[0;34m\u001b[0m\u001b[0m\n\u001b[1;32m  10455\u001b[0m     \u001b[0;32mexcept\u001b[0m \u001b[0m_core\u001b[0m\u001b[0;34m.\u001b[0m\u001b[0m_NotOkStatusException\u001b[0m \u001b[0;32mas\u001b[0m \u001b[0me\u001b[0m\u001b[0;34m:\u001b[0m\u001b[0;34m\u001b[0m\u001b[0;34m\u001b[0m\u001b[0m\n\u001b[0;32m> 10456\u001b[0;31m       \u001b[0m_ops\u001b[0m\u001b[0;34m.\u001b[0m\u001b[0mraise_from_not_ok_status\u001b[0m\u001b[0;34m(\u001b[0m\u001b[0me\u001b[0m\u001b[0;34m,\u001b[0m \u001b[0mname\u001b[0m\u001b[0;34m)\u001b[0m\u001b[0;34m\u001b[0m\u001b[0;34m\u001b[0m\u001b[0m\n\u001b[0m\u001b[1;32m  10457\u001b[0m     \u001b[0;32mexcept\u001b[0m \u001b[0m_core\u001b[0m\u001b[0;34m.\u001b[0m\u001b[0m_FallbackException\u001b[0m\u001b[0;34m:\u001b[0m\u001b[0;34m\u001b[0m\u001b[0;34m\u001b[0m\u001b[0m\n\u001b[1;32m  10458\u001b[0m       \u001b[0;32mpass\u001b[0m\u001b[0;34m\u001b[0m\u001b[0;34m\u001b[0m\u001b[0m\n",
      "\u001b[0;32m~/.conda/envs/dev/lib/python3.8/site-packages/tensorflow/python/framework/ops.py\u001b[0m in \u001b[0;36mraise_from_not_ok_status\u001b[0;34m(e, name)\u001b[0m\n\u001b[1;32m   6841\u001b[0m   \u001b[0mmessage\u001b[0m \u001b[0;34m=\u001b[0m \u001b[0me\u001b[0m\u001b[0;34m.\u001b[0m\u001b[0mmessage\u001b[0m \u001b[0;34m+\u001b[0m \u001b[0;34m(\u001b[0m\u001b[0;34m\" name: \"\u001b[0m \u001b[0;34m+\u001b[0m \u001b[0mname\u001b[0m \u001b[0;32mif\u001b[0m \u001b[0mname\u001b[0m \u001b[0;32mis\u001b[0m \u001b[0;32mnot\u001b[0m \u001b[0;32mNone\u001b[0m \u001b[0;32melse\u001b[0m \u001b[0;34m\"\"\u001b[0m\u001b[0;34m)\u001b[0m\u001b[0;34m\u001b[0m\u001b[0;34m\u001b[0m\u001b[0m\n\u001b[1;32m   6842\u001b[0m   \u001b[0;31m# pylint: disable=protected-access\u001b[0m\u001b[0;34m\u001b[0m\u001b[0;34m\u001b[0m\u001b[0;34m\u001b[0m\u001b[0m\n\u001b[0;32m-> 6843\u001b[0;31m   \u001b[0msix\u001b[0m\u001b[0;34m.\u001b[0m\u001b[0mraise_from\u001b[0m\u001b[0;34m(\u001b[0m\u001b[0mcore\u001b[0m\u001b[0;34m.\u001b[0m\u001b[0m_status_to_exception\u001b[0m\u001b[0;34m(\u001b[0m\u001b[0me\u001b[0m\u001b[0;34m.\u001b[0m\u001b[0mcode\u001b[0m\u001b[0;34m,\u001b[0m \u001b[0mmessage\u001b[0m\u001b[0;34m)\u001b[0m\u001b[0;34m,\u001b[0m \u001b[0;32mNone\u001b[0m\u001b[0;34m)\u001b[0m\u001b[0;34m\u001b[0m\u001b[0;34m\u001b[0m\u001b[0m\n\u001b[0m\u001b[1;32m   6844\u001b[0m   \u001b[0;31m# pylint: enable=protected-access\u001b[0m\u001b[0;34m\u001b[0m\u001b[0;34m\u001b[0m\u001b[0;34m\u001b[0m\u001b[0m\n\u001b[1;32m   6845\u001b[0m \u001b[0;34m\u001b[0m\u001b[0m\n",
      "\u001b[0;32m~/.conda/envs/dev/lib/python3.8/site-packages/six.py\u001b[0m in \u001b[0;36mraise_from\u001b[0;34m(value, from_value)\u001b[0m\n",
      "\u001b[0;31mResourceExhaustedError\u001b[0m: OOM when allocating tensor with shape[48680,12665] and type float on /job:localhost/replica:0/task:0/device:GPU:0 by allocator GPU_0_bfc [Op:Sub]"
     ]
    }
   ],
   "source": [
    "hidden_neuron = 1000\n",
    "V = tf.Variable(tf.random.normal([hidden_neuron, num_users], stddev=0.01))\n",
    "W = tf.Variable(tf.random.normal([num_users, hidden_neuron], stddev=0.01))\n",
    "mu = tf.Variable(tf.random.normal([hidden_neuron], stddev=0.01))\n",
    "b = tf.Variable(tf.random.normal([num_users], stddev=0.01))\n",
    "layer_1 = tf.nn.dropout(tf.sigmoid(tf.expand_dims(mu, 1) + tf.matmul(V, rating_matrix)), 0.95)\n",
    "layer_2 = tf.matmul(W, layer_1) + tf.expand_dims(b, 1)\n",
    "loss = tf.reduce_mean(tf.square(tf.norm(tf.multiply((rating_matrix - layer_2), rating_matrix_mask)))) + \\\n",
    "       20 * (tf.square(tf.norm(W)) + tf.square(tf.norm(V)))\n",
    "optimizer = tf.train.AdamOptimizer(learning_rate=0.005).minimize(loss)"
   ]
  },
  {
   "cell_type": "code",
   "execution_count": null,
   "id": "66292e52",
   "metadata": {},
   "outputs": [],
   "source": []
  },
  {
   "cell_type": "code",
   "execution_count": null,
   "id": "704a968e",
   "metadata": {},
   "outputs": [],
   "source": []
  },
  {
   "cell_type": "code",
   "execution_count": null,
   "id": "2fb031a4",
   "metadata": {},
   "outputs": [],
   "source": []
  },
  {
   "cell_type": "code",
   "execution_count": null,
   "id": "bd9e29d9",
   "metadata": {},
   "outputs": [],
   "source": []
  },
  {
   "cell_type": "code",
   "execution_count": null,
   "id": "3d9035af",
   "metadata": {},
   "outputs": [],
   "source": []
  },
  {
   "cell_type": "code",
   "execution_count": null,
   "id": "3208fa14",
   "metadata": {},
   "outputs": [],
   "source": []
  },
  {
   "cell_type": "code",
   "execution_count": null,
   "id": "f54f7b50",
   "metadata": {},
   "outputs": [],
   "source": [
    "num_iter = 100\n",
    "batch"
   ]
  },
  {
   "cell_type": "code",
   "execution_count": null,
   "id": "3a6dadb9",
   "metadata": {},
   "outputs": [],
   "source": [
    "self.rating_matrix = tf.placeholder(dtype=tf.float32, shape=[self.num_user, None])\n",
    "        self.rating_matrix_mask = tf.placeholder(dtype=tf.float32, shape=[self.num_user, None])\n",
    "        self.keep_rate_net = tf.placeholder(tf.float32)\n",
    "        self.keep_rate_input = tf.placeholder(tf.float32)\n",
    "\n",
    "        V = tf.Variable(tf.random_normal([hidden_neuron, self.num_user], stddev=0.01))\n",
    "        W = tf.Variable(tf.random_normal([self.num_user, hidden_neuron], stddev=0.01))\n",
    "\n",
    "        mu = tf.Variable(tf.random_normal([hidden_neuron], stddev=0.01))\n",
    "        b = tf.Variable(tf.random_normal([self.num_user], stddev=0.01))\n",
    "        layer_1 = tf.nn.dropout(tf.sigmoid(tf.expand_dims(mu, 1) + tf.matmul(V, self.rating_matrix)),\n",
    "                                self.keep_rate_net)\n",
    "        self.layer_2 = tf.matmul(W, layer_1) + tf.expand_dims(b, 1)\n",
    "        \n",
    "        self.loss = tf.reduce_mean(tf.square(\n",
    "            tf.norm(tf.multiply((self.rating_matrix - self.layer_2), self.rating_matrix_mask)))) + self.reg_rate * (\n",
    "        tf.square(tf.norm(W)) + tf.square(tf.norm(V)))\n",
    "        \n",
    "        self.optimizer = tf.train.AdamOptimizer(learning_rate=self.learning_rate).minimize(self.loss)\n",
    "\n",
    "    def train(self, train_data):\n",
    "        self.num_training = self.num_item\n",
    "        total_batch = int(self.num_training / self.batch_size)\n",
    "        idxs = np.random.permutation(self.num_training)  # shuffled ordering\n",
    "\n",
    "        for i in range(total_batch):\n",
    "            start_time = time.time()\n",
    "            if i == total_batch - 1:\n",
    "                batch_set_idx = idxs[i * self.batch_size:]\n",
    "            elif i < total_batch - 1:\n",
    "                batch_set_idx = idxs[i * self.batch_size: (i + 1) * self.batch_size]\n",
    "\n",
    "            _, loss = self.sess.run([self.optimizer, self.loss],\n",
    "                                    feed_dict={self.rating_matrix: self.train_data[:, batch_set_idx],\n",
    "                                               self.rating_matrix_mask: self.train_data_mask[:, batch_set_idx],\n",
    "                                               self.keep_rate_net: 0.95\n",
    "                                               })\n",
    "            if i % self.display_step == 0:\n",
    "                if self.verbose:\n",
    "                    print(\"Index: %04d; cost= %.9f\" % (i + 1, np.mean(loss)))\n",
    "                    print(\"one iteration: %s seconds.\" % (time.time() - start_time))"
   ]
  },
  {
   "cell_type": "code",
   "execution_count": null,
   "id": "93b474c8",
   "metadata": {},
   "outputs": [],
   "source": []
  },
  {
   "cell_type": "code",
   "execution_count": null,
   "id": "af99765e",
   "metadata": {},
   "outputs": [],
   "source": []
  },
  {
   "cell_type": "code",
   "execution_count": null,
   "id": "2b0f1a15",
   "metadata": {},
   "outputs": [],
   "source": []
  },
  {
   "cell_type": "code",
   "execution_count": null,
   "id": "45031340",
   "metadata": {},
   "outputs": [],
   "source": []
  },
  {
   "cell_type": "code",
   "execution_count": null,
   "id": "5f7c49d0",
   "metadata": {},
   "outputs": [],
   "source": []
  },
  {
   "cell_type": "code",
   "execution_count": null,
   "id": "fc754271",
   "metadata": {},
   "outputs": [],
   "source": []
  },
  {
   "cell_type": "code",
   "execution_count": null,
   "id": "9972c05e",
   "metadata": {},
   "outputs": [],
   "source": []
  },
  {
   "cell_type": "markdown",
   "id": "6be80c86",
   "metadata": {},
   "source": [
    "### W-Auto"
   ]
  },
  {
   "cell_type": "code",
   "execution_count": 9,
   "id": "326772af",
   "metadata": {},
   "outputs": [],
   "source": [
    "from sklearn.cluster import KMeans\n",
    "from sklearn.decomposition import PCA\n",
    "from sklearn.preprocessing import StandardScaler"
   ]
  },
  {
   "cell_type": "code",
   "execution_count": 60,
   "id": "916ee231",
   "metadata": {},
   "outputs": [],
   "source": [
    "w_users_train = users_train.copy()\n",
    "\n",
    "user_scaler = StandardScaler()\n",
    "compliment_columns = [c for c in users_train.columns if 'compliment_' in c]\n",
    "receive_columns = ['useful', 'funny', 'cool']\n",
    "other_columns = ['review_count', 'fans']\n",
    "std_columns = compliment_columns + receive_columns + other_columns\n",
    "w_users_train[std_columns] = user_scaler.fit_transform(w_users_train[std_columns])"
   ]
  },
  {
   "cell_type": "code",
   "execution_count": 185,
   "id": "a3838f75",
   "metadata": {},
   "outputs": [
    {
     "name": "stdout",
     "output_type": "stream",
     "text": [
      "Compliment PCA:   [0.84199696 0.06877286 0.0367535  0.02212756 0.01406016]\n",
      "Receive PCA:   [0.98199789 0.01542783]\n"
     ]
    }
   ],
   "source": [
    "compliment_pca = PCA(n_components = 5)\n",
    "w_users_train['pca_compliment'] = compliment_pca.fit_transform(w_users_train[compliment_columns])[:,0]\n",
    "w_users_train = w_users_train.drop(compliment_columns, axis = 1)\n",
    "print(\"Compliment PCA:  \", compliment_pca.explained_variance_ratio_)\n",
    "\n",
    "receive_pca = PCA(n_components = 2)\n",
    "w_users_train['pca_receive'] = receive_pca.fit_transform(w_users_train[receive_columns])[:,0]\n",
    "print(\"Receive PCA:  \",receive_pca.explained_variance_ratio_)\n",
    "w_users_train = w_users_train.drop(receive_columns, axis = 1)"
   ]
  },
  {
   "cell_type": "code",
   "execution_count": 186,
   "id": "14664a8c",
   "metadata": {},
   "outputs": [
    {
     "data": {
      "text/html": [
       "<div>\n",
       "<style scoped>\n",
       "    .dataframe tbody tr th:only-of-type {\n",
       "        vertical-align: middle;\n",
       "    }\n",
       "\n",
       "    .dataframe tbody tr th {\n",
       "        vertical-align: top;\n",
       "    }\n",
       "\n",
       "    .dataframe thead th {\n",
       "        text-align: right;\n",
       "    }\n",
       "</style>\n",
       "<table border=\"1\" class=\"dataframe\">\n",
       "  <thead>\n",
       "    <tr style=\"text-align: right;\">\n",
       "      <th></th>\n",
       "      <th>user_id</th>\n",
       "      <th>review_count</th>\n",
       "      <th>elite</th>\n",
       "      <th>fans</th>\n",
       "      <th>average_stars</th>\n",
       "      <th>pca_compliment</th>\n",
       "      <th>pca_receive</th>\n",
       "    </tr>\n",
       "  </thead>\n",
       "  <tbody>\n",
       "    <tr>\n",
       "      <th>39340</th>\n",
       "      <td>dqR9UnjbkeP9ruhh4FcxgA</td>\n",
       "      <td>-0.447159</td>\n",
       "      <td>0</td>\n",
       "      <td>-0.159289</td>\n",
       "      <td>4.37</td>\n",
       "      <td>-0.230614</td>\n",
       "      <td>-0.233754</td>\n",
       "    </tr>\n",
       "    <tr>\n",
       "      <th>25321</th>\n",
       "      <td>cbf0Nl5p-rzvpCPu0594gA</td>\n",
       "      <td>0.680536</td>\n",
       "      <td>1</td>\n",
       "      <td>0.052579</td>\n",
       "      <td>3.79</td>\n",
       "      <td>-0.111462</td>\n",
       "      <td>-0.066750</td>\n",
       "    </tr>\n",
       "    <tr>\n",
       "      <th>49813</th>\n",
       "      <td>yJRx7eLfrErj8jOSK-FeFQ</td>\n",
       "      <td>-0.302673</td>\n",
       "      <td>1</td>\n",
       "      <td>-0.135748</td>\n",
       "      <td>4.09</td>\n",
       "      <td>-0.194875</td>\n",
       "      <td>-0.204825</td>\n",
       "    </tr>\n",
       "    <tr>\n",
       "      <th>25148</th>\n",
       "      <td>N4GCsUsuUmwDa6-QyM5VdA</td>\n",
       "      <td>-0.426015</td>\n",
       "      <td>0</td>\n",
       "      <td>-0.159289</td>\n",
       "      <td>2.57</td>\n",
       "      <td>-0.231187</td>\n",
       "      <td>-0.233679</td>\n",
       "    </tr>\n",
       "    <tr>\n",
       "      <th>22779</th>\n",
       "      <td>uP4Bl-0Al2NSQ-tyKtaHKA</td>\n",
       "      <td>0.151929</td>\n",
       "      <td>0</td>\n",
       "      <td>-0.123978</td>\n",
       "      <td>2.04</td>\n",
       "      <td>-0.182760</td>\n",
       "      <td>-0.094232</td>\n",
       "    </tr>\n",
       "  </tbody>\n",
       "</table>\n",
       "</div>"
      ],
      "text/plain": [
       "                      user_id  review_count  elite      fans  average_stars  \\\n",
       "39340  dqR9UnjbkeP9ruhh4FcxgA     -0.447159      0 -0.159289           4.37   \n",
       "25321  cbf0Nl5p-rzvpCPu0594gA      0.680536      1  0.052579           3.79   \n",
       "49813  yJRx7eLfrErj8jOSK-FeFQ     -0.302673      1 -0.135748           4.09   \n",
       "25148  N4GCsUsuUmwDa6-QyM5VdA     -0.426015      0 -0.159289           2.57   \n",
       "22779  uP4Bl-0Al2NSQ-tyKtaHKA      0.151929      0 -0.123978           2.04   \n",
       "\n",
       "       pca_compliment  pca_receive  \n",
       "39340       -0.230614    -0.233754  \n",
       "25321       -0.111462    -0.066750  \n",
       "49813       -0.194875    -0.204825  \n",
       "25148       -0.231187    -0.233679  \n",
       "22779       -0.182760    -0.094232  "
      ]
     },
     "execution_count": 186,
     "metadata": {},
     "output_type": "execute_result"
    }
   ],
   "source": [
    "w_users_train.head()"
   ]
  },
  {
   "cell_type": "code",
   "execution_count": 205,
   "id": "273a2657",
   "metadata": {},
   "outputs": [
    {
     "data": {
      "text/plain": [
       "Counter({1: 17424,\n",
       "         8: 4190,\n",
       "         0: 13002,\n",
       "         3: 11888,\n",
       "         10: 1346,\n",
       "         7: 540,\n",
       "         14: 45,\n",
       "         4: 188,\n",
       "         6: 18,\n",
       "         2: 6,\n",
       "         13: 28,\n",
       "         12: 2,\n",
       "         11: 1,\n",
       "         9: 1,\n",
       "         5: 1})"
      ]
     },
     "execution_count": 205,
     "metadata": {},
     "output_type": "execute_result"
    }
   ],
   "source": [
    "kmeans = KMeans(n_clusters=15)\n",
    "kmeans.fit(w_users_train.iloc[:, 1:])\n",
    "w_users_train['kmeans_labels'] = kmeans.labels_\n",
    "Counter(w_users_train['kmeans_labels'])"
   ]
  },
  {
   "cell_type": "markdown",
   "id": "d27c3f63",
   "metadata": {},
   "source": [
    "### Clustering on AutoEncoder"
   ]
  },
  {
   "cell_type": "code",
   "execution_count": 42,
   "id": "6ce2d0e6",
   "metadata": {},
   "outputs": [],
   "source": [
    "import tensorflow as tf\n",
    "from tensorflow.keras import Model\n",
    "from tensorflow.keras.layers import Input, Dense, Dropout\n",
    "from tensorflow.keras.optimizers import Adam"
   ]
  },
  {
   "cell_type": "code",
   "execution_count": 45,
   "id": "6d6b3297",
   "metadata": {},
   "outputs": [],
   "source": [
    "enc_input = Input(shape = (18, ))\n",
    "enc_1 = Dense(12, activation = 'relu')(enc_input)\n",
    "enc_2 = Dense(8, activation = 'relu')(enc_1)\n",
    "enc_3 = Dense(3, activation = 'relu')(enc_1)\n",
    "dec_1 = Dense(8, activation = 'relu')(enc_3)\n",
    "dec_output = Dense(18)(dec_1)\n",
    "autoencoder = Model(enc_input, dec_output)\n",
    "encoder = Model(enc_input, enc_3)\n",
    "\n",
    "dec_input = Input(shape=enc_3.shape)\n",
    "dec_out = autoencoder.layers[-1](autoencoder.layers[-2](dec_input))\n",
    "decoder = Model(dec_input, dec_out)\n"
   ]
  },
  {
   "cell_type": "code",
   "execution_count": 61,
   "id": "c12dd129",
   "metadata": {},
   "outputs": [],
   "source": [
    "w_users_train = users_train.copy()\n",
    "\n",
    "user_scaler = StandardScaler()\n",
    "compliment_columns = [c for c in users_train.columns if 'compliment_' in c]\n",
    "receive_columns = ['useful', 'funny', 'cool']\n",
    "other_columns = ['review_count', 'fans']\n",
    "std_columns = compliment_columns + receive_columns + other_columns\n",
    "w_users_train[std_columns] = user_scaler.fit_transform(w_users_train[std_columns])"
   ]
  },
  {
   "cell_type": "code",
   "execution_count": 62,
   "id": "f737870a",
   "metadata": {},
   "outputs": [],
   "source": [
    "w_users_val = user_val.copy()\n",
    "w_users_val[std_columns] = user_scaler.fit_transform(w_users_val[std_columns])"
   ]
  },
  {
   "cell_type": "code",
   "execution_count": 63,
   "id": "cc04a552",
   "metadata": {
    "collapsed": true,
    "jupyter": {
     "outputs_hidden": true
    }
   },
   "outputs": [
    {
     "name": "stdout",
     "output_type": "stream",
     "text": [
      "Epoch 1/100\n",
      "761/761 [==============================] - 1s 1ms/step - loss: 0.1184 - val_loss: 0.1305\n",
      "Epoch 2/100\n",
      "761/761 [==============================] - 1s 951us/step - loss: 0.1088 - val_loss: 0.1256\n",
      "Epoch 3/100\n",
      "761/761 [==============================] - 1s 944us/step - loss: 0.1089 - val_loss: 0.1434\n",
      "Epoch 4/100\n",
      "761/761 [==============================] - 1s 940us/step - loss: 0.1064 - val_loss: 0.2088\n",
      "Epoch 5/100\n",
      "761/761 [==============================] - 1s 941us/step - loss: 0.1125 - val_loss: 0.1260\n",
      "Epoch 6/100\n",
      "761/761 [==============================] - 1s 948us/step - loss: 0.1048 - val_loss: 0.1260\n",
      "Epoch 7/100\n",
      "761/761 [==============================] - 1s 948us/step - loss: 0.1034 - val_loss: 0.1376\n",
      "Epoch 8/100\n",
      "761/761 [==============================] - 1s 951us/step - loss: 0.1071 - val_loss: 0.2800\n",
      "Epoch 9/100\n",
      "761/761 [==============================] - 1s 938us/step - loss: 0.1115 - val_loss: 0.1264\n",
      "Epoch 10/100\n",
      "761/761 [==============================] - 1s 947us/step - loss: 0.1018 - val_loss: 0.1417\n",
      "Epoch 11/100\n",
      "761/761 [==============================] - 1s 943us/step - loss: 0.1016 - val_loss: 0.1233\n",
      "Epoch 12/100\n",
      "761/761 [==============================] - 1s 940us/step - loss: 0.1032 - val_loss: 0.1350\n",
      "Epoch 13/100\n",
      "761/761 [==============================] - 1s 947us/step - loss: 0.1026 - val_loss: 0.1223\n",
      "Epoch 14/100\n",
      "761/761 [==============================] - 1s 944us/step - loss: 0.1025 - val_loss: 0.1253\n",
      "Epoch 15/100\n",
      "761/761 [==============================] - 1s 979us/step - loss: 0.1007 - val_loss: 0.1263\n",
      "Epoch 16/100\n",
      "761/761 [==============================] - 1s 946us/step - loss: 0.1016 - val_loss: 0.1205\n",
      "Epoch 17/100\n",
      "761/761 [==============================] - 1s 953us/step - loss: 0.0988 - val_loss: 0.1311\n",
      "Epoch 18/100\n",
      "761/761 [==============================] - 1s 1ms/step - loss: 0.1000 - val_loss: 0.1376\n",
      "Epoch 19/100\n",
      "761/761 [==============================] - 1s 1ms/step - loss: 0.1029 - val_loss: 0.1241\n",
      "Epoch 20/100\n",
      "761/761 [==============================] - 1s 968us/step - loss: 0.1012 - val_loss: 0.1615\n",
      "Epoch 21/100\n",
      "761/761 [==============================] - 1s 991us/step - loss: 0.1128 - val_loss: 0.1186\n",
      "Epoch 22/100\n",
      "761/761 [==============================] - 1s 960us/step - loss: 0.0971 - val_loss: 0.1208\n",
      "Epoch 23/100\n",
      "761/761 [==============================] - 1s 969us/step - loss: 0.0982 - val_loss: 0.1245\n",
      "Epoch 24/100\n",
      "761/761 [==============================] - 1s 968us/step - loss: 0.0981 - val_loss: 0.1154\n",
      "Epoch 25/100\n",
      "761/761 [==============================] - 1s 960us/step - loss: 0.1015 - val_loss: 0.1324\n",
      "Epoch 26/100\n",
      "761/761 [==============================] - 1s 987us/step - loss: 0.1032 - val_loss: 0.1175\n",
      "Epoch 27/100\n",
      "761/761 [==============================] - 1s 977us/step - loss: 0.0936 - val_loss: 0.1204\n",
      "Epoch 28/100\n",
      "761/761 [==============================] - 1s 937us/step - loss: 0.0969 - val_loss: 0.1181\n",
      "Epoch 29/100\n",
      "761/761 [==============================] - 1s 953us/step - loss: 0.0966 - val_loss: 0.1275\n",
      "Epoch 30/100\n",
      "761/761 [==============================] - 1s 975us/step - loss: 0.0993 - val_loss: 0.1181\n",
      "Epoch 31/100\n",
      "761/761 [==============================] - 1s 1ms/step - loss: 0.0977 - val_loss: 0.1218\n",
      "Epoch 32/100\n",
      "761/761 [==============================] - 1s 1ms/step - loss: 0.0941 - val_loss: 0.1274\n",
      "Epoch 33/100\n",
      "761/761 [==============================] - 1s 1ms/step - loss: 0.0958 - val_loss: 0.1172\n",
      "Epoch 34/100\n",
      "761/761 [==============================] - 1s 1ms/step - loss: 0.0948 - val_loss: 0.1235\n",
      "Epoch 35/100\n",
      "761/761 [==============================] - 1s 960us/step - loss: 0.0916 - val_loss: 0.1234\n",
      "Epoch 36/100\n",
      "761/761 [==============================] - 1s 943us/step - loss: 0.0943 - val_loss: 0.1181\n",
      "Epoch 37/100\n",
      "761/761 [==============================] - 1s 960us/step - loss: 0.0926 - val_loss: 0.1369\n",
      "Epoch 38/100\n",
      "761/761 [==============================] - 1s 975us/step - loss: 0.0954 - val_loss: 0.1217\n",
      "Epoch 39/100\n",
      "761/761 [==============================] - 1s 940us/step - loss: 0.0937 - val_loss: 0.1168\n",
      "Epoch 40/100\n",
      "761/761 [==============================] - 1s 940us/step - loss: 0.0963 - val_loss: 0.1212\n",
      "Epoch 41/100\n",
      "761/761 [==============================] - 1s 1ms/step - loss: 0.0938 - val_loss: 0.1175\n",
      "Epoch 42/100\n",
      "761/761 [==============================] - 1s 977us/step - loss: 0.0897 - val_loss: 0.1219\n",
      "Epoch 43/100\n",
      "761/761 [==============================] - 1s 984us/step - loss: 0.0923 - val_loss: 0.1206\n",
      "Epoch 44/100\n",
      "761/761 [==============================] - 1s 973us/step - loss: 0.0890 - val_loss: 0.1172\n",
      "Epoch 45/100\n",
      "761/761 [==============================] - 1s 971us/step - loss: 0.0943 - val_loss: 0.1173\n",
      "Epoch 46/100\n",
      "761/761 [==============================] - 1s 1ms/step - loss: 0.0886 - val_loss: 0.1169\n",
      "Epoch 47/100\n",
      "761/761 [==============================] - 1s 1ms/step - loss: 0.0868 - val_loss: 0.1168\n",
      "Epoch 48/100\n",
      "761/761 [==============================] - 1s 959us/step - loss: 0.0899 - val_loss: 0.1457\n",
      "Epoch 49/100\n",
      "761/761 [==============================] - 1s 952us/step - loss: 0.0913 - val_loss: 0.1161\n",
      "Epoch 50/100\n",
      "761/761 [==============================] - 1s 995us/step - loss: 0.0899 - val_loss: 0.1196\n",
      "Epoch 51/100\n",
      "761/761 [==============================] - 1s 1ms/step - loss: 0.0871 - val_loss: 0.1164\n",
      "Epoch 52/100\n",
      "761/761 [==============================] - 1s 976us/step - loss: 0.0912 - val_loss: 0.1329\n",
      "Epoch 53/100\n",
      "761/761 [==============================] - 1s 958us/step - loss: 0.0937 - val_loss: 0.1220\n",
      "Epoch 54/100\n",
      "761/761 [==============================] - 1s 966us/step - loss: 0.0849 - val_loss: 0.1187\n",
      "Epoch 55/100\n",
      "761/761 [==============================] - 1s 972us/step - loss: 0.0848 - val_loss: 0.1162\n",
      "Epoch 56/100\n",
      "761/761 [==============================] - 1s 956us/step - loss: 0.0854 - val_loss: 0.1261\n",
      "Epoch 57/100\n",
      "761/761 [==============================] - 1s 997us/step - loss: 0.0884 - val_loss: 0.1158\n",
      "Epoch 58/100\n",
      "761/761 [==============================] - 1s 1ms/step - loss: 0.0842 - val_loss: 0.1243\n",
      "Epoch 59/100\n",
      "761/761 [==============================] - 1s 961us/step - loss: 0.0864 - val_loss: 0.1208\n",
      "Epoch 60/100\n",
      "761/761 [==============================] - 1s 989us/step - loss: 0.0869 - val_loss: 0.1325\n",
      "Epoch 61/100\n",
      "761/761 [==============================] - 1s 983us/step - loss: 0.0831 - val_loss: 0.1422\n",
      "Epoch 62/100\n",
      "761/761 [==============================] - 1s 1ms/step - loss: 0.0912 - val_loss: 0.1160\n",
      "Epoch 63/100\n",
      "761/761 [==============================] - 1s 1ms/step - loss: 0.0808 - val_loss: 0.1195\n",
      "Epoch 64/100\n",
      "761/761 [==============================] - 1s 968us/step - loss: 0.0824 - val_loss: 0.1274\n",
      "Epoch 65/100\n",
      "761/761 [==============================] - 1s 962us/step - loss: 0.0849 - val_loss: 0.1181\n",
      "Epoch 66/100\n",
      "761/761 [==============================] - 1s 948us/step - loss: 0.0827 - val_loss: 0.1210\n",
      "Epoch 67/100\n",
      "761/761 [==============================] - 1s 967us/step - loss: 0.0817 - val_loss: 0.1154\n",
      "Epoch 68/100\n",
      "761/761 [==============================] - 1s 959us/step - loss: 0.0807 - val_loss: 0.1234\n",
      "Epoch 69/100\n",
      "761/761 [==============================] - 1s 958us/step - loss: 0.0877 - val_loss: 0.1473\n",
      "Epoch 70/100\n",
      "761/761 [==============================] - 1s 970us/step - loss: 0.1042 - val_loss: 0.1190\n",
      "Epoch 71/100\n",
      "761/761 [==============================] - 1s 998us/step - loss: 0.0796 - val_loss: 0.1189\n",
      "Epoch 72/100\n",
      "761/761 [==============================] - 1s 1ms/step - loss: 0.0783 - val_loss: 0.1173\n",
      "Epoch 73/100\n",
      "761/761 [==============================] - 1s 1ms/step - loss: 0.0779 - val_loss: 0.1216\n",
      "Epoch 74/100\n",
      "761/761 [==============================] - 1s 1ms/step - loss: 0.0806 - val_loss: 0.1236\n",
      "Epoch 75/100\n",
      "761/761 [==============================] - 1s 1ms/step - loss: 0.0809 - val_loss: 0.1208\n",
      "Epoch 76/100\n",
      "761/761 [==============================] - 1s 1ms/step - loss: 0.0803 - val_loss: 0.1264\n",
      "Epoch 77/100\n",
      "761/761 [==============================] - 1s 959us/step - loss: 0.0826 - val_loss: 0.1258\n",
      "Epoch 78/100\n",
      "761/761 [==============================] - 1s 977us/step - loss: 0.0805 - val_loss: 0.1236\n",
      "Epoch 79/100\n",
      "761/761 [==============================] - 1s 1ms/step - loss: 0.0811 - val_loss: 0.1297\n",
      "Epoch 80/100\n",
      "761/761 [==============================] - 1s 991us/step - loss: 0.0790 - val_loss: 0.1183\n",
      "Epoch 81/100\n",
      "761/761 [==============================] - 1s 984us/step - loss: 0.0788 - val_loss: 0.1262\n",
      "Epoch 82/100\n",
      "761/761 [==============================] - 1s 973us/step - loss: 0.0809 - val_loss: 0.1276\n",
      "Epoch 83/100\n",
      "761/761 [==============================] - 1s 975us/step - loss: 0.0825 - val_loss: 0.1274\n",
      "Epoch 84/100\n",
      "761/761 [==============================] - 1s 1ms/step - loss: 0.0839 - val_loss: 0.1295\n",
      "Epoch 85/100\n",
      "761/761 [==============================] - 1s 1ms/step - loss: 0.0806 - val_loss: 0.1265\n",
      "Epoch 86/100\n",
      "761/761 [==============================] - 1s 1ms/step - loss: 0.0787 - val_loss: 0.1244\n",
      "Epoch 87/100\n",
      "761/761 [==============================] - 1s 1ms/step - loss: 0.0795 - val_loss: 0.1208\n",
      "Epoch 88/100\n",
      "761/761 [==============================] - 1s 948us/step - loss: 0.0780 - val_loss: 0.1254\n",
      "Epoch 89/100\n",
      "761/761 [==============================] - 1s 1ms/step - loss: 0.0774 - val_loss: 0.1212\n",
      "Epoch 90/100\n",
      "761/761 [==============================] - 1s 949us/step - loss: 0.0796 - val_loss: 0.1273\n",
      "Epoch 91/100\n",
      "761/761 [==============================] - 1s 975us/step - loss: 0.0792 - val_loss: 0.1355\n",
      "Epoch 92/100\n",
      "761/761 [==============================] - 1s 967us/step - loss: 0.0799 - val_loss: 0.1312\n",
      "Epoch 93/100\n",
      "761/761 [==============================] - 1s 1ms/step - loss: 0.0774 - val_loss: 0.1264\n",
      "Epoch 94/100\n",
      "761/761 [==============================] - 1s 1ms/step - loss: 0.0771 - val_loss: 0.1381\n",
      "Epoch 95/100\n",
      "761/761 [==============================] - 1s 1ms/step - loss: 0.0795 - val_loss: 0.1330\n",
      "Epoch 96/100\n",
      "761/761 [==============================] - 1s 1ms/step - loss: 0.0785 - val_loss: 0.1230\n",
      "Epoch 97/100\n",
      "761/761 [==============================] - 1s 1ms/step - loss: 0.0783 - val_loss: 0.1275\n",
      "Epoch 98/100\n",
      "761/761 [==============================] - 1s 1ms/step - loss: 0.0786 - val_loss: 0.1263\n",
      "Epoch 99/100\n",
      "761/761 [==============================] - 1s 1ms/step - loss: 0.0775 - val_loss: 0.1260\n",
      "Epoch 100/100\n",
      "761/761 [==============================] - 1s 1ms/step - loss: 0.0803 - val_loss: 0.1277\n"
     ]
    },
    {
     "data": {
      "text/plain": [
       "<tensorflow.python.keras.callbacks.History at 0x7f382c5d34f0>"
      ]
     },
     "execution_count": 63,
     "metadata": {},
     "output_type": "execute_result"
    }
   ],
   "source": [
    "adam = Adam(learning_rate = 1e-3)\n",
    "autoencoder.compile(optimizer=adam, loss='mse')\n",
    "autoencoder.fit(w_users_train.iloc[:, 1:], w_users_train.iloc[:, 1:], batch_size = 64, epochs = 100, \n",
    "                validation_data=(w_users_val.iloc[:, 1:], w_users_val.iloc[:, 1:]))"
   ]
  },
  {
   "cell_type": "code",
   "execution_count": 67,
   "id": "9f258ac0",
   "metadata": {},
   "outputs": [],
   "source": [
    "encoded_space = encoder.predict(w_users_train.iloc[:, 1:])"
   ]
  },
  {
   "cell_type": "code",
   "execution_count": 68,
   "id": "4c44e50f",
   "metadata": {},
   "outputs": [
    {
     "data": {
      "text/plain": [
       "array([[7.1242633 , 0.11488634, 0.05356139],\n",
       "       [7.0498    , 1.0099747 , 1.2676926 ],\n",
       "       [7.383601  , 0.72128135, 0.41228116],\n",
       "       ...,\n",
       "       [6.2561717 , 0.86541784, 0.56980085],\n",
       "       [6.185733  , 0.8329054 , 0.48785013],\n",
       "       [5.9105144 , 0.15549776, 0.05326289]], dtype=float32)"
      ]
     },
     "execution_count": 68,
     "metadata": {},
     "output_type": "execute_result"
    }
   ],
   "source": [
    "encoded_space"
   ]
  },
  {
   "cell_type": "code",
   "execution_count": 77,
   "id": "8bc6849f",
   "metadata": {},
   "outputs": [
    {
     "data": {
      "text/plain": [
       "Counter({0: 17642,\n",
       "         6: 8249,\n",
       "         9: 19452,\n",
       "         14: 2530,\n",
       "         7: 535,\n",
       "         2: 167,\n",
       "         8: 14,\n",
       "         11: 10,\n",
       "         10: 70,\n",
       "         3: 2,\n",
       "         12: 1,\n",
       "         13: 3,\n",
       "         1: 3,\n",
       "         4: 1,\n",
       "         5: 1})"
      ]
     },
     "execution_count": 77,
     "metadata": {},
     "output_type": "execute_result"
    }
   ],
   "source": [
    "kmeans = KMeans(n_clusters = 15)\n",
    "kmeans.fit(encoded_space)\n",
    "Counter(kmeans.labels_)"
   ]
  },
  {
   "cell_type": "code",
   "execution_count": null,
   "id": "4187e884",
   "metadata": {},
   "outputs": [],
   "source": []
  },
  {
   "cell_type": "code",
   "execution_count": null,
   "id": "6343e7a1",
   "metadata": {},
   "outputs": [],
   "source": []
  },
  {
   "cell_type": "code",
   "execution_count": 78,
   "id": "5ed76b85",
   "metadata": {},
   "outputs": [
    {
     "data": {
      "text/plain": [
       "''"
      ]
     },
     "execution_count": 78,
     "metadata": {},
     "output_type": "execute_result"
    }
   ],
   "source": [
    "\"What is a good example of a question answering dataset?\"[147:161]"
   ]
  },
  {
   "cell_type": "code",
   "execution_count": null,
   "id": "12a00631",
   "metadata": {},
   "outputs": [],
   "source": []
  },
  {
   "cell_type": "code",
   "execution_count": null,
   "id": "33fdf232",
   "metadata": {},
   "outputs": [],
   "source": []
  },
  {
   "cell_type": "code",
   "execution_count": null,
   "id": "066379fb",
   "metadata": {},
   "outputs": [],
   "source": []
  },
  {
   "cell_type": "code",
   "execution_count": null,
   "id": "332b4245",
   "metadata": {},
   "outputs": [],
   "source": []
  },
  {
   "cell_type": "code",
   "execution_count": null,
   "id": "21ae9bca",
   "metadata": {},
   "outputs": [],
   "source": []
  },
  {
   "cell_type": "code",
   "execution_count": null,
   "id": "09af2cd1",
   "metadata": {},
   "outputs": [],
   "source": []
  }
 ],
 "metadata": {
  "kernelspec": {
   "display_name": "Python 3",
   "language": "python",
   "name": "python3"
  },
  "language_info": {
   "codemirror_mode": {
    "name": "ipython",
    "version": 3
   },
   "file_extension": ".py",
   "mimetype": "text/x-python",
   "name": "python",
   "nbconvert_exporter": "python",
   "pygments_lexer": "ipython3",
   "version": "3.8.2"
  }
 },
 "nbformat": 4,
 "nbformat_minor": 5
}
