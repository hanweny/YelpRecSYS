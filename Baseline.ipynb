{
 "cells": [
  {
   "cell_type": "code",
   "execution_count": 1,
   "id": "7de62841",
   "metadata": {},
   "outputs": [],
   "source": [
    "import pandas as pd\n",
    "import numpy as np\n",
    "from sklearn.model_selection import train_test_split\n",
    "from sklearn.preprocessing import LabelEncoder\n",
    "from scipy.sparse import csr_matrix\n",
    "from collections import Counter, defaultdict, OrderedDict\n",
    "import matplotlib.pyplot as plt\n",
    "from numba import cuda "
   ]
  },
  {
   "cell_type": "code",
   "execution_count": 2,
   "id": "7e9bc585",
   "metadata": {},
   "outputs": [],
   "source": [
    "users = pd.read_csv(\"data/users2.csv\")\n",
    "users = users.drop('yelping_since', axis = 1)\n",
    "restaurants = pd.read_csv(\"data/restaurants2.csv\")\n",
    "reviews = pd.read_csv(\"data/reviews2.csv\")\n",
    "tips = pd.read_csv(\"data/tips2.csv\")\n",
    "reviews_sub = reviews[(reviews['business_id'].isin(restaurants['business_id'])) & \\\n",
    "                      (reviews['user_id'].isin(users['user_id']))].copy()"
   ]
  },
  {
   "cell_type": "markdown",
   "id": "17fe6fa8",
   "metadata": {},
   "source": [
    "### Prepare data"
   ]
  },
  {
   "cell_type": "code",
   "execution_count": 3,
   "id": "c4a82cce",
   "metadata": {},
   "outputs": [
    {
     "name": "stdout",
     "output_type": "stream",
     "text": [
      "Number of users in the Training:   817\n",
      "Number of New users:   91\n"
     ]
    }
   ],
   "source": [
    "user, new_user = train_test_split(users, test_size = 0.1, random_state = 48)\n",
    "user, new_user = user.copy(), new_user.copy()\n",
    "reviews_new = reviews[(reviews['user_id'].isin(new_user['user_id'])) & (reviews['business_id'].isin(restaurants['business_id']))].copy()\n",
    "reviews = reviews[(reviews['user_id'].isin(user['user_id'])) & (reviews['business_id'].isin(restaurants['business_id']))].copy()\n",
    "\n",
    "print(\"Number of users in the Training:  \", user.shape[0])\n",
    "print(\"Number of New users:  \", new_user.shape[0])"
   ]
  },
  {
   "cell_type": "code",
   "execution_count": 4,
   "id": "df56556f",
   "metadata": {},
   "outputs": [],
   "source": [
    "user_label_encoder = LabelEncoder(); user['user_id'] = user_label_encoder.fit_transform(user['user_id'])\n",
    "new_user_label_encoder = LabelEncoder(); new_user['user_id'] = new_user_label_encoder.fit_transform(new_user['user_id'])\n",
    "restaurant_label_encoder = LabelEncoder(); restaurants['business_id'] = restaurant_label_encoder.fit_transform(restaurants['business_id'])\n",
    "\n",
    "reviews['user_id'] = user_label_encoder.transform(reviews['user_id'])\n",
    "reviews_new['user_id'] = new_user_label_encoder.transform(reviews_new['user_id'])\n",
    "reviews['business_id'] = restaurant_label_encoder.transform(reviews['business_id'])\n",
    "reviews_new['business_id'] = restaurant_label_encoder.transform(reviews_new['business_id'])\n",
    "\n",
    "reviews_score = reviews.groupby(['user_id', 'business_id'])['stars'].mean().reset_index()\n",
    "reviews_new_score = reviews_new.groupby(['user_id', 'business_id'])['stars'].mean().reset_index()\n",
    "review_train, review_test = train_test_split(reviews_score, test_size = 0.2, random_state = 48)\n",
    "review_train, review_val = train_test_split(review_train, test_size = 0.2, random_state = 48)"
   ]
  },
  {
   "cell_type": "code",
   "execution_count": 5,
   "id": "74cc1fcb",
   "metadata": {},
   "outputs": [
    {
     "name": "stdout",
     "output_type": "stream",
     "text": [
      "Training: 817 users, 1655 items, 34796 reviews\n",
      "Validation: 817 users, 1540 items, 8700 reviews\n",
      "Testing: 817 users, 1580 items, 10874 reviews\n"
     ]
    }
   ],
   "source": [
    "print(\"Training: {} users, {} items, {} reviews\".format(review_train['user_id'].nunique(), review_train['business_id'].nunique(), review_train.shape[0]))\n",
    "print(\"Validation: {} users, {} items, {} reviews\".format(review_val['user_id'].nunique(), review_val['business_id'].nunique(), review_val.shape[0]))\n",
    "print(\"Testing: {} users, {} items, {} reviews\".format(review_test['user_id'].nunique(), review_test['business_id'].nunique(), review_test.shape[0]))"
   ]
  },
  {
   "cell_type": "code",
   "execution_count": 6,
   "id": "ac40b461",
   "metadata": {},
   "outputs": [],
   "source": [
    "num_users, num_new_users, num_items = user.shape[0], new_user.shape[0], restaurants.shape[0]\n",
    "rating_matrix_sparse_train = csr_matrix((review_train['stars'], (review_train['user_id'], review_train['business_id'])), \n",
    "                                        shape = (num_users, num_items))\n",
    "rating_matrix_sparse_val = csr_matrix((review_val['stars'], (review_val['user_id'], review_val['business_id'])), \n",
    "                                        shape = (num_users, num_items))\n",
    "rating_matrix_sparse_test = csr_matrix((review_test['stars'], (review_test['user_id'], review_test['business_id'])), \n",
    "                                        shape = (num_users, num_items))\n",
    "rating_matrix_sparse_new = csr_matrix((reviews_new_score['stars'], (reviews_new_score['user_id'], reviews_new_score['business_id'])), \n",
    "                                        shape = (num_new_users, num_items))\n",
    "\n",
    "rating_matrix_train = rating_matrix_sparse_train.toarray().astype('float32')\n",
    "rating_matrix_val = rating_matrix_sparse_val.toarray().astype('float32')\n",
    "rating_matrix_test = rating_matrix_sparse_test.toarray().astype('float32')\n",
    "rating_matrix_new = rating_matrix_sparse_new.toarray().astype('float32')\n",
    "\n",
    "rating_matrix_train_mask = np.where(rating_matrix_train==0, 0, 1)\n",
    "rating_matrix_val_mask = np.where(rating_matrix_val==0, 0, 1)\n",
    "rating_matrix_test_mask = np.where(rating_matrix_test==0, 0, 1)\n",
    "rating_matrix_new_mask = np.where(rating_matrix_new==0, 0, 1)"
   ]
  },
  {
   "cell_type": "markdown",
   "id": "788bb1cf",
   "metadata": {},
   "source": [
    "## With Raw Score"
   ]
  },
  {
   "cell_type": "code",
   "execution_count": 7,
   "id": "c2def74d",
   "metadata": {},
   "outputs": [],
   "source": [
    "import tensorflow as tf\n",
    "import torch\n",
    "from torch.autograd import Variable\n",
    "from torch.optim import Adam"
   ]
  },
  {
   "cell_type": "markdown",
   "id": "dd23e344",
   "metadata": {},
   "source": [
    "### Matrix Factorization"
   ]
  },
  {
   "cell_type": "markdown",
   "id": "a71f68a4",
   "metadata": {},
   "source": [
    "#### Method 1: Alternating Least Square"
   ]
  },
  {
   "cell_type": "code",
   "execution_count": 8,
   "id": "a526649b",
   "metadata": {},
   "outputs": [],
   "source": [
    "p_lambda = 0.2\n",
    "hidden_dim = 3\n",
    "\n",
    "P = np.random.normal(0, 0.01, size=(num_users, hidden_dim))\n",
    "Q = np.random.normal(0, 0.01, size=(num_items, hidden_dim))"
   ]
  },
  {
   "cell_type": "code",
   "execution_count": 10,
   "id": "5613af0a",
   "metadata": {},
   "outputs": [
    {
     "name": "stdout",
     "output_type": "stream",
     "text": [
      "3671.0424847135464 8659.261837990396\n",
      "4680.6986401109125 5508.232654576992\n",
      "717.5250261850226 839.564173789189\n",
      "111.63806403949991 119.49900492564942\n",
      "45.46327976159775 56.25687211542838\n",
      "26.505053636113466 35.104978260140015\n",
      "17.59542336184242 26.505486941682527\n",
      "11.867005796113524 15.166348009972722\n",
      "8.000388428521756 11.169272148314075\n",
      "5.857266550152829 7.56102061058386\n",
      "4.5570593559300505 5.849388422479077\n",
      "3.78630929622446 5.188167022758169\n",
      "3.39993504075803 5.1538834334864\n",
      "3.1919556898886627 4.524799264533138\n",
      "2.8972163730839657 3.8844711822155773\n",
      "2.604598893779265 3.1828193984646007\n",
      "2.3595709207212545 2.716417156208122\n",
      "2.1887814446926357 2.8168305829194296\n",
      "2.0742966284774624 2.9829401959028816\n",
      "1.929100846903605 2.7411879442516875\n",
      "1.7142638392021627 2.2644732384741117\n",
      "1.502117125844558 1.7898549129832086\n",
      "1.3283905452943365 1.5489372660914005\n",
      "1.1822090588302994 1.3730953190787323\n",
      "1.0474066048177866 1.2057209060102685\n",
      "0.9275615791205083 1.0508841958925075\n",
      "0.8334751081352629 0.9301519481340033\n",
      "0.7704001379897514 0.8573822285051338\n",
      "0.7364841189200229 0.8288212085126792\n",
      "0.7159532425836157 0.8151548478626953\n"
     ]
    }
   ],
   "source": [
    "for epoch in range(30):\n",
    "    old_P = P.copy()\n",
    "    old_Q = Q.copy()\n",
    "    for u in range(num_users):\n",
    "        P[u, :] = np.linalg.inv(\n",
    "            Q.T @ np.diag(rating_matrix_train_mask[u, :]) @ Q + \\\n",
    "            p_lambda * np.identity(hidden_dim)\n",
    "        ) @ Q.T @ np.diag(rating_matrix_train_mask[u, :]) @ rating_matrix_train[u, :]\n",
    "\n",
    "    for i in range(num_items):\n",
    "        Q[i, :] = np.linalg.inv(\n",
    "            P.T @ np.diag(rating_matrix_train_mask[:, i]) @ P + \\\n",
    "            p_lambda * np.identity(hidden_dim)\n",
    "        ) @ P.T @ np.diag(rating_matrix_train_mask[:, i]) @ rating_matrix_train[:, i]\n",
    "    print(np.sum((P-old_P)**2), np.sum((Q-old_Q)**2))"
   ]
  },
  {
   "cell_type": "code",
   "execution_count": 11,
   "id": "d7280c2e",
   "metadata": {},
   "outputs": [
    {
     "name": "stdout",
     "output_type": "stream",
     "text": [
      "Training RMSE:   0.6656228295320302\n",
      "Validation RMSE:   1.0493715353237532\n",
      "Testing RMSE:   1.0487563675109588\n"
     ]
    }
   ],
   "source": [
    "pred = P@Q.T\n",
    "sse_train = np.sqrt(np.sum((P@Q.T - rating_matrix_train)**2 * rating_matrix_train_mask) / rating_matrix_sparse_train.nnz)\n",
    "sse_val = np.sqrt(np.sum((P@Q.T - rating_matrix_val)**2 * rating_matrix_val_mask) / rating_matrix_sparse_val.nnz)\n",
    "sse_test = np.sqrt(np.sum((P@Q.T - rating_matrix_test)**2 * rating_matrix_test_mask) / rating_matrix_sparse_test.nnz)\n",
    "print(\"Training RMSE:  \", sse_train)\n",
    "print(\"Validation RMSE:  \", sse_val)\n",
    "print(\"Testing RMSE:  \", sse_test)"
   ]
  },
  {
   "cell_type": "markdown",
   "id": "1dfd4359",
   "metadata": {},
   "source": [
    "#### Method 2: Stochastic Gradient Descent"
   ]
  },
  {
   "cell_type": "code",
   "execution_count": 9,
   "id": "00fb1d67",
   "metadata": {},
   "outputs": [
    {
     "name": "stdout",
     "output_type": "stream",
     "text": [
      "Epoch i=0: loss:  549008.5625, Training RMSE:  3.9721144944136064, Val RMSE: 3.9718127267290555\n",
      "Epoch i=1: loss:  548997.6875, Training RMSE:  3.9720841970111564, Val RMSE: 3.9717901176303045\n",
      "Epoch i=2: loss:  548985.4375, Training RMSE:  3.9720380721637114, Val RMSE: 3.971730881181243\n",
      "Epoch i=3: loss:  548964.625, Training RMSE:  3.9719512474684, Val RMSE: 3.9716160232589073\n",
      "Epoch i=4: loss:  548929.3125, Training RMSE:  3.971802917556443, Val RMSE: 3.971426997871834\n",
      "Epoch i=5: loss:  548875.3125, Training RMSE:  3.971580186171815, Val RMSE: 3.971152261920502\n",
      "Epoch i=6: loss:  548799.5, Training RMSE:  3.97126969813045, Val RMSE: 3.9707795855777968\n",
      "Epoch i=7: loss:  548699.125, Training RMSE:  3.9708603505046063, Val RMSE: 3.9702976324489687\n",
      "Epoch i=8: loss:  548571.6875, Training RMSE:  3.9703405765245083, Val RMSE: 3.969696861888494\n",
      "Epoch i=9: loss:  548414.875, Training RMSE:  3.969703545725705, Val RMSE: 3.968968396108785\n",
      "Epoch i=250: loss:  112258.34375, Training RMSE:  1.0862737768269664, Val RMSE: 1.1856060024441548\n",
      "Epoch i=500: loss:  84475.703125, Training RMSE:  0.9000103492003892, Val RMSE: 1.014115146495708\n",
      "Epoch i=750: loss:  75927.125, Training RMSE:  0.8534263364987422, Val RMSE: 0.9706807211026715\n",
      "Epoch i=1000: loss:  72449.359375, Training RMSE:  0.8316723712514098, Val RMSE: 0.9509267801464594\n",
      "Epoch i=1250: loss:  70830.8515625, Training RMSE:  0.8188102206634494, Val RMSE: 0.9400042284177488\n",
      "Epoch i=1500: loss:  69971.5859375, Training RMSE:  0.8098731530710634, Val RMSE: 0.933218101065282\n",
      "Epoch i=1750: loss:  69439.5546875, Training RMSE:  0.8028270012083965, Val RMSE: 0.9286385255013162\n",
      "Epoch i=2000: loss:  69057.5078125, Training RMSE:  0.7967869293142861, Val RMSE: 0.9253706493731386\n",
      "Epoch i=2250: loss:  68753.6875, Training RMSE:  0.7914073435345358, Val RMSE: 0.9229584029313925\n",
      "Epoch i=2500: loss:  68500.3203125, Training RMSE:  0.7866133865723127, Val RMSE: 0.9211267480111412\n",
      "Epoch i=2750: loss:  68286.21875, Training RMSE:  0.7824172938332042, Val RMSE: 0.9196746766469439\n",
      "Epoch i=3000: loss:  68105.078125, Training RMSE:  0.7788017738008373, Val RMSE: 0.9184617432308956\n",
      "Epoch i=3250: loss:  67951.78125, Training RMSE:  0.7757070724423226, Val RMSE: 0.9174121837770244\n",
      "Epoch i=3500: loss:  67821.8125, Training RMSE:  0.773047235110196, Val RMSE: 0.9165120159186544\n",
      "Epoch i=3750: loss:  67711.09375, Training RMSE:  0.7707185470449331, Val RMSE: 0.9157756228842899\n",
      "Epoch i=4000: loss:  67616.296875, Training RMSE:  0.7686219316731768, Val RMSE: 0.9152227169806498\n",
      "Epoch i=4250: loss:  67535.40625, Training RMSE:  0.7667068394375974, Val RMSE: 0.9148577718565291\n",
      "Epoch i=4500: loss:  67467.609375, Training RMSE:  0.7649959123803127, Val RMSE: 0.9146494732159236\n",
      "Epoch i=4750: loss:  67412.421875, Training RMSE:  0.763533125884941, Val RMSE: 0.9145523941399722\n"
     ]
    }
   ],
   "source": [
    "p_lambda = 30\n",
    "\n",
    "P_tensor = tf.Variable(tf.random.normal([num_users, hidden_dim], stddev=0.01))\n",
    "Q_tensor = tf.Variable(tf.random.normal([num_items, hidden_dim], stddev=0.01))\n",
    "optimizer = tf.optimizers.Adam(learning_rate=0.005)\n",
    "\n",
    "num_epochs = 5000\n",
    "for epoch in range(num_epochs):\n",
    "    with tf.GradientTape() as tape:\n",
    "        penalty_norm = p_lambda * tf.square(tf.norm(P_tensor)) + tf.square(tf.norm(Q_tensor))\n",
    "        sse = (tf.matmul(P_tensor, tf.transpose(Q_tensor)) - rating_matrix_train)**2\n",
    "        masked_sse = tf.multiply(sse, rating_matrix_train_mask)\n",
    "        loss = tf.reduce_sum(masked_sse) + penalty_norm\n",
    "    gradients = tape.gradient(loss, [P_tensor, Q_tensor])\n",
    "    optimizer.apply_gradients(zip(gradients, [P_tensor, Q_tensor]))\n",
    "    if epoch % (num_epochs // 20) == 0 or epoch < 10:\n",
    "        training_rmse = np.sqrt(np.sum(masked_sse) / rating_matrix_sparse_train.nnz)\n",
    "        validation_sse = (tf.matmul(P_tensor, tf.transpose(Q_tensor)) - rating_matrix_val)**2\n",
    "        validation_sse_masked = tf.multiply(validation_sse, rating_matrix_val_mask)\n",
    "        validation_rmse = np.sqrt(np.sum(validation_sse_masked) / rating_matrix_sparse_val.nnz)\n",
    "        print(\"Epoch i={}: loss:  {}, Training RMSE:  {}, Val RMSE: {}\".format(\n",
    "            epoch, loss, training_rmse, validation_rmse))\n",
    "#     if epoch > 3000:\n",
    "#         optimizer = tf.optimizers.Adam(learning_rate=0.005)"
   ]
  },
  {
   "cell_type": "code",
   "execution_count": 10,
   "id": "0f47bf14",
   "metadata": {},
   "outputs": [
    {
     "name": "stdout",
     "output_type": "stream",
     "text": [
      "Testing RMSE:   0.8180381407265215\n"
     ]
    }
   ],
   "source": [
    "testing_sse = (tf.matmul(P_tensor, tf.transpose(Q_tensor)) - rating_matrix_val)**2\n",
    "testing_sse_masked = tf.multiply(validation_sse, rating_matrix_test_mask)\n",
    "print(\"Testing RMSE:  \", np.sqrt(np.sum(validation_sse_masked) / rating_matrix_sparse_test.nnz))"
   ]
  },
  {
   "cell_type": "markdown",
   "id": "638f45fe",
   "metadata": {},
   "source": [
    "### AutoEncoder"
   ]
  },
  {
   "cell_type": "code",
   "execution_count": 11,
   "id": "cef3fb6f",
   "metadata": {},
   "outputs": [],
   "source": [
    "from AutoRec import AutoRec"
   ]
  },
  {
   "cell_type": "code",
   "execution_count": 40,
   "id": "c48ae0ee",
   "metadata": {},
   "outputs": [],
   "source": [
    "user_param_ordered_dict = OrderedDict({\n",
    "    \"train_X\": rating_matrix_train,\n",
    "    'train_y': rating_matrix_train,\n",
    "    'train_y_mask': rating_matrix_train_mask,\n",
    "    'val_X': rating_matrix_val, \n",
    "    'val_y': rating_matrix_val, \n",
    "    'val_y_mask': rating_matrix_val_mask,\n",
    "    'hidden_dim': 100,\n",
    "    'p_lambda': 30, \n",
    "    'learning_rate': 0.005, \n",
    "    'num_epochs': 1500,\n",
    "    'dropout': 0.95\n",
    "})"
   ]
  },
  {
   "cell_type": "code",
   "execution_count": 41,
   "id": "11c48700",
   "metadata": {},
   "outputs": [
    {
     "name": "stdout",
     "output_type": "stream",
     "text": [
      "Epoch: 0, loss: 551796.625, train_rmse: 3.7964797784128206, val_rmse: 3.7938712487015342\n",
      "Epoch: 1, loss: 504339.34375, train_rmse: 3.5503248312437092, val_rmse: 3.5909353670519923\n",
      "Epoch: 2, loss: 439933.6875, train_rmse: 3.214134318113553, val_rmse: 3.357125667033165\n",
      "Epoch: 3, loss: 369685.53125, train_rmse: 2.823737703582669, val_rmse: 3.096396827246406\n",
      "Epoch: 4, loss: 287873.9375, train_rmse: 2.4200721949589967, val_rmse: 2.814533906973897\n",
      "Epoch: 5, loss: 231124.515625, train_rmse: 2.0387875294710027, val_rmse: 2.5237585146423744\n",
      "Epoch: 6, loss: 183508.65625, train_rmse: 1.7016507416987074, val_rmse: 2.237327820383519\n",
      "Epoch: 7, loss: 157782.90625, train_rmse: 1.4251453952099824, val_rmse: 1.9706694483633331\n",
      "Epoch: 8, loss: 139971.765625, train_rmse: 1.218737288481465, val_rmse: 1.7351018785923862\n",
      "Epoch: 9, loss: 132042.765625, train_rmse: 1.0842315075400017, val_rmse: 1.5397887512083277\n",
      "Epoch: 75, loss: 116373.4765625, train_rmse: 1.0615887857594828, val_rmse: 1.650055443055792\n",
      "Epoch: 150, loss: 115534.984375, train_rmse: 1.013080420005941, val_rmse: 1.510358897032367\n",
      "Epoch: 225, loss: 102458.28125, train_rmse: 1.0059550279028417, val_rmse: 1.447004979452505\n",
      "Epoch: 300, loss: 90121.2578125, train_rmse: 0.9905988156052685, val_rmse: 1.365370580472085\n",
      "Epoch: 375, loss: 85411.6953125, train_rmse: 0.9578701444736575, val_rmse: 1.2730483305451272\n",
      "Epoch: 450, loss: 74629.1484375, train_rmse: 0.9385524218433221, val_rmse: 1.207162020847305\n",
      "Epoch: 525, loss: 66935.6484375, train_rmse: 0.8895803478218106, val_rmse: 1.1147140627222514\n",
      "Epoch: 600, loss: 59343.39453125, train_rmse: 0.9015366042346826, val_rmse: 1.0796843420907958\n",
      "Epoch: 675, loss: 51308.58203125, train_rmse: 0.867861458227357, val_rmse: 1.014596683218362\n",
      "Epoch: 750, loss: 47945.265625, train_rmse: 0.8699093696682773, val_rmse: 0.9831283727317175\n",
      "Epoch: 825, loss: 41779.44140625, train_rmse: 0.8495598435389402, val_rmse: 0.9439677519589881\n",
      "Epoch: 900, loss: 38121.7890625, train_rmse: 0.8392855498175309, val_rmse: 0.9202463148000198\n",
      "Epoch: 975, loss: 35220.18359375, train_rmse: 0.8329304380535156, val_rmse: 0.905766009781541\n",
      "Epoch: 1050, loss: 32324.671875, train_rmse: 0.8266054750340034, val_rmse: 0.8949456913686337\n",
      "Epoch: 1125, loss: 30049.564453125, train_rmse: 0.8169935765808263, val_rmse: 0.8881186375927796\n",
      "Epoch: 1200, loss: 29142.953125, train_rmse: 0.81448498321204, val_rmse: 0.8857433263209644\n",
      "Epoch: 1275, loss: 27904.333984375, train_rmse: 0.8128930618523936, val_rmse: 0.8841356520880173\n",
      "Epoch: 1350, loss: 26736.96875, train_rmse: 0.8100185136723439, val_rmse: 0.8852227010328252\n",
      "Epoch: 1425, loss: 26431.921875, train_rmse: 0.8086867351108928, val_rmse: 0.8848784283584599\n"
     ]
    }
   ],
   "source": [
    "uAuto = AutoRec()\n",
    "uAuto.train(**user_param_ordered_dict)"
   ]
  },
  {
   "cell_type": "code",
   "execution_count": 42,
   "id": "3b6d2c2b",
   "metadata": {},
   "outputs": [
    {
     "name": "stdout",
     "output_type": "stream",
     "text": [
      "Test RMSE:   0.8993689057475919\n"
     ]
    }
   ],
   "source": [
    "print(\"Test RMSE:  \", uAuto.test(rating_matrix_test, rating_matrix_test, rating_matrix_test_mask))"
   ]
  },
  {
   "cell_type": "markdown",
   "id": "f243bac2",
   "metadata": {},
   "source": [
    "## With Grouping Information (Cold Start: User)\n",
    "### Add in user/item covaraites\n",
    "### Method1: KMeans"
   ]
  },
  {
   "cell_type": "code",
   "execution_count": 15,
   "id": "1683f3bb",
   "metadata": {},
   "outputs": [],
   "source": [
    "from sklearn.cluster import KMeans\n",
    "from sklearn.decomposition import PCA\n",
    "from sklearn.preprocessing import StandardScaler"
   ]
  },
  {
   "cell_type": "code",
   "execution_count": 16,
   "id": "32cb6bee",
   "metadata": {},
   "outputs": [
    {
     "data": {
      "text/html": [
       "<div>\n",
       "<style scoped>\n",
       "    .dataframe tbody tr th:only-of-type {\n",
       "        vertical-align: middle;\n",
       "    }\n",
       "\n",
       "    .dataframe tbody tr th {\n",
       "        vertical-align: top;\n",
       "    }\n",
       "\n",
       "    .dataframe thead th {\n",
       "        text-align: right;\n",
       "    }\n",
       "</style>\n",
       "<table border=\"1\" class=\"dataframe\">\n",
       "  <thead>\n",
       "    <tr style=\"text-align: right;\">\n",
       "      <th></th>\n",
       "      <th>user_id</th>\n",
       "      <th>review_count</th>\n",
       "      <th>useful</th>\n",
       "      <th>funny</th>\n",
       "      <th>cool</th>\n",
       "      <th>elite</th>\n",
       "      <th>fans</th>\n",
       "      <th>average_stars</th>\n",
       "      <th>compliment_hot</th>\n",
       "      <th>compliment_more</th>\n",
       "      <th>compliment_profile</th>\n",
       "      <th>compliment_cute</th>\n",
       "      <th>compliment_list</th>\n",
       "      <th>compliment_note</th>\n",
       "      <th>compliment_plain</th>\n",
       "      <th>compliment_cool</th>\n",
       "      <th>compliment_funny</th>\n",
       "      <th>compliment_writer</th>\n",
       "      <th>compliment_photos</th>\n",
       "    </tr>\n",
       "  </thead>\n",
       "  <tbody>\n",
       "    <tr>\n",
       "      <th>0</th>\n",
       "      <td>1jXmzuIFKxTnEnR0pxO0Hg</td>\n",
       "      <td>299</td>\n",
       "      <td>381</td>\n",
       "      <td>106</td>\n",
       "      <td>121</td>\n",
       "      <td>1</td>\n",
       "      <td>23</td>\n",
       "      <td>3.43</td>\n",
       "      <td>17</td>\n",
       "      <td>8</td>\n",
       "      <td>2</td>\n",
       "      <td>6</td>\n",
       "      <td>0</td>\n",
       "      <td>17</td>\n",
       "      <td>47</td>\n",
       "      <td>30</td>\n",
       "      <td>30</td>\n",
       "      <td>4</td>\n",
       "      <td>1</td>\n",
       "    </tr>\n",
       "    <tr>\n",
       "      <th>1</th>\n",
       "      <td>CQUDh80m48xnzUkx-X5NAw</td>\n",
       "      <td>4205</td>\n",
       "      <td>21059</td>\n",
       "      <td>8906</td>\n",
       "      <td>14640</td>\n",
       "      <td>1</td>\n",
       "      <td>575</td>\n",
       "      <td>3.90</td>\n",
       "      <td>679</td>\n",
       "      <td>149</td>\n",
       "      <td>140</td>\n",
       "      <td>66</td>\n",
       "      <td>287</td>\n",
       "      <td>1034</td>\n",
       "      <td>1529</td>\n",
       "      <td>1572</td>\n",
       "      <td>1572</td>\n",
       "      <td>492</td>\n",
       "      <td>180</td>\n",
       "    </tr>\n",
       "    <tr>\n",
       "      <th>2</th>\n",
       "      <td>e_YQl5LBR7Gdrp_1vdj1yQ</td>\n",
       "      <td>671</td>\n",
       "      <td>1509</td>\n",
       "      <td>646</td>\n",
       "      <td>870</td>\n",
       "      <td>1</td>\n",
       "      <td>57</td>\n",
       "      <td>3.90</td>\n",
       "      <td>113</td>\n",
       "      <td>14</td>\n",
       "      <td>10</td>\n",
       "      <td>22</td>\n",
       "      <td>18</td>\n",
       "      <td>69</td>\n",
       "      <td>101</td>\n",
       "      <td>129</td>\n",
       "      <td>129</td>\n",
       "      <td>37</td>\n",
       "      <td>7</td>\n",
       "    </tr>\n",
       "    <tr>\n",
       "      <th>3</th>\n",
       "      <td>D8TvYz5Cy5-4V-LuD5nXvQ</td>\n",
       "      <td>478</td>\n",
       "      <td>2115</td>\n",
       "      <td>1544</td>\n",
       "      <td>1614</td>\n",
       "      <td>0</td>\n",
       "      <td>61</td>\n",
       "      <td>3.80</td>\n",
       "      <td>276</td>\n",
       "      <td>18</td>\n",
       "      <td>4</td>\n",
       "      <td>4</td>\n",
       "      <td>1</td>\n",
       "      <td>164</td>\n",
       "      <td>281</td>\n",
       "      <td>348</td>\n",
       "      <td>348</td>\n",
       "      <td>76</td>\n",
       "      <td>92</td>\n",
       "    </tr>\n",
       "    <tr>\n",
       "      <th>4</th>\n",
       "      <td>Vlab9b73R5qPLIv6tE4DJA</td>\n",
       "      <td>955</td>\n",
       "      <td>3140</td>\n",
       "      <td>2130</td>\n",
       "      <td>1800</td>\n",
       "      <td>1</td>\n",
       "      <td>90</td>\n",
       "      <td>3.57</td>\n",
       "      <td>138</td>\n",
       "      <td>21</td>\n",
       "      <td>12</td>\n",
       "      <td>17</td>\n",
       "      <td>4</td>\n",
       "      <td>54</td>\n",
       "      <td>106</td>\n",
       "      <td>175</td>\n",
       "      <td>175</td>\n",
       "      <td>60</td>\n",
       "      <td>11</td>\n",
       "    </tr>\n",
       "  </tbody>\n",
       "</table>\n",
       "</div>"
      ],
      "text/plain": [
       "                  user_id  review_count  useful  funny   cool  elite  fans  \\\n",
       "0  1jXmzuIFKxTnEnR0pxO0Hg           299     381    106    121      1    23   \n",
       "1  CQUDh80m48xnzUkx-X5NAw          4205   21059   8906  14640      1   575   \n",
       "2  e_YQl5LBR7Gdrp_1vdj1yQ           671    1509    646    870      1    57   \n",
       "3  D8TvYz5Cy5-4V-LuD5nXvQ           478    2115   1544   1614      0    61   \n",
       "4  Vlab9b73R5qPLIv6tE4DJA           955    3140   2130   1800      1    90   \n",
       "\n",
       "   average_stars  compliment_hot  compliment_more  compliment_profile  \\\n",
       "0           3.43              17                8                   2   \n",
       "1           3.90             679              149                 140   \n",
       "2           3.90             113               14                  10   \n",
       "3           3.80             276               18                   4   \n",
       "4           3.57             138               21                  12   \n",
       "\n",
       "   compliment_cute  compliment_list  compliment_note  compliment_plain  \\\n",
       "0                6                0               17                47   \n",
       "1               66              287             1034              1529   \n",
       "2               22               18               69               101   \n",
       "3                4                1              164               281   \n",
       "4               17                4               54               106   \n",
       "\n",
       "   compliment_cool  compliment_funny  compliment_writer  compliment_photos  \n",
       "0               30                30                  4                  1  \n",
       "1             1572              1572                492                180  \n",
       "2              129               129                 37                  7  \n",
       "3              348               348                 76                 92  \n",
       "4              175               175                 60                 11  "
      ]
     },
     "execution_count": 16,
     "metadata": {},
     "output_type": "execute_result"
    }
   ],
   "source": [
    "users.head()"
   ]
  },
  {
   "cell_type": "code",
   "execution_count": 17,
   "id": "15060b61",
   "metadata": {},
   "outputs": [],
   "source": [
    "## Standardize users\n",
    "user_reduced = user.copy()\n",
    "user_scaler = StandardScaler()\n",
    "compliment_columns = [c for c in user.columns if 'compliment_' in c]\n",
    "receive_columns = ['useful', 'funny', 'cool']\n",
    "other_columns = ['review_count', 'fans']\n",
    "std_columns = compliment_columns + receive_columns + other_columns\n",
    "user_reduced[std_columns] = user_scaler.fit_transform(user_reduced[std_columns])"
   ]
  },
  {
   "cell_type": "code",
   "execution_count": 18,
   "id": "80f51268",
   "metadata": {},
   "outputs": [
    {
     "name": "stdout",
     "output_type": "stream",
     "text": [
      "Compliment PCA:   [0.96585643 0.01509357 0.00881778 0.00522637 0.00251069]\n",
      "Receive PCA:   [0.99086698 0.00750579]\n"
     ]
    }
   ],
   "source": [
    "## Combine compliments and received compliments columns using PCA\n",
    "\n",
    "compliment_pca = PCA(n_components = 5)\n",
    "user_reduced['pca_compliment'] = compliment_pca.fit_transform(user_reduced[compliment_columns])[:,0]\n",
    "user_reduced = user_reduced.drop(compliment_columns, axis = 1)\n",
    "print(\"Compliment PCA:  \", compliment_pca.explained_variance_ratio_)\n",
    "\n",
    "receive_pca = PCA(n_components = 2)\n",
    "user_reduced['pca_receive'] = receive_pca.fit_transform(user_reduced[receive_columns])[:,0]\n",
    "print(\"Receive PCA:  \",receive_pca.explained_variance_ratio_)\n",
    "user_reduced = user_reduced.drop(receive_columns, axis = 1)"
   ]
  },
  {
   "cell_type": "code",
   "execution_count": 19,
   "id": "a917bd95",
   "metadata": {},
   "outputs": [
    {
     "data": {
      "text/html": [
       "<div>\n",
       "<style scoped>\n",
       "    .dataframe tbody tr th:only-of-type {\n",
       "        vertical-align: middle;\n",
       "    }\n",
       "\n",
       "    .dataframe tbody tr th {\n",
       "        vertical-align: top;\n",
       "    }\n",
       "\n",
       "    .dataframe thead th {\n",
       "        text-align: right;\n",
       "    }\n",
       "</style>\n",
       "<table border=\"1\" class=\"dataframe\">\n",
       "  <thead>\n",
       "    <tr style=\"text-align: right;\">\n",
       "      <th></th>\n",
       "      <th>user_id</th>\n",
       "      <th>review_count</th>\n",
       "      <th>elite</th>\n",
       "      <th>fans</th>\n",
       "      <th>average_stars</th>\n",
       "      <th>pca_compliment</th>\n",
       "      <th>pca_receive</th>\n",
       "    </tr>\n",
       "  </thead>\n",
       "  <tbody>\n",
       "    <tr>\n",
       "      <th>351</th>\n",
       "      <td>261</td>\n",
       "      <td>0.483180</td>\n",
       "      <td>1</td>\n",
       "      <td>0.042877</td>\n",
       "      <td>3.58</td>\n",
       "      <td>-0.189542</td>\n",
       "      <td>-0.213430</td>\n",
       "    </tr>\n",
       "    <tr>\n",
       "      <th>889</th>\n",
       "      <td>791</td>\n",
       "      <td>-0.218976</td>\n",
       "      <td>1</td>\n",
       "      <td>-0.263111</td>\n",
       "      <td>3.95</td>\n",
       "      <td>-0.346564</td>\n",
       "      <td>-0.224788</td>\n",
       "    </tr>\n",
       "    <tr>\n",
       "      <th>786</th>\n",
       "      <td>181</td>\n",
       "      <td>0.399010</td>\n",
       "      <td>1</td>\n",
       "      <td>0.037942</td>\n",
       "      <td>3.96</td>\n",
       "      <td>-0.356963</td>\n",
       "      <td>-0.082359</td>\n",
       "    </tr>\n",
       "    <tr>\n",
       "      <th>270</th>\n",
       "      <td>592</td>\n",
       "      <td>-0.117086</td>\n",
       "      <td>1</td>\n",
       "      <td>-0.134793</td>\n",
       "      <td>4.04</td>\n",
       "      <td>-0.248215</td>\n",
       "      <td>-0.284173</td>\n",
       "    </tr>\n",
       "    <tr>\n",
       "      <th>624</th>\n",
       "      <td>397</td>\n",
       "      <td>-0.358522</td>\n",
       "      <td>1</td>\n",
       "      <td>-0.312464</td>\n",
       "      <td>4.06</td>\n",
       "      <td>-0.405147</td>\n",
       "      <td>-0.361500</td>\n",
       "    </tr>\n",
       "  </tbody>\n",
       "</table>\n",
       "</div>"
      ],
      "text/plain": [
       "     user_id  review_count  elite      fans  average_stars  pca_compliment  \\\n",
       "351      261      0.483180      1  0.042877           3.58       -0.189542   \n",
       "889      791     -0.218976      1 -0.263111           3.95       -0.346564   \n",
       "786      181      0.399010      1  0.037942           3.96       -0.356963   \n",
       "270      592     -0.117086      1 -0.134793           4.04       -0.248215   \n",
       "624      397     -0.358522      1 -0.312464           4.06       -0.405147   \n",
       "\n",
       "     pca_receive  \n",
       "351    -0.213430  \n",
       "889    -0.224788  \n",
       "786    -0.082359  \n",
       "270    -0.284173  \n",
       "624    -0.361500  "
      ]
     },
     "execution_count": 19,
     "metadata": {},
     "output_type": "execute_result"
    }
   ],
   "source": [
    "user_reduced.head()"
   ]
  },
  {
   "cell_type": "code",
   "execution_count": 20,
   "id": "0b8bbc33",
   "metadata": {},
   "outputs": [],
   "source": [
    "# Preprocess new users using the trained standardized and pca\n",
    "new_user_reduced = new_user.copy()\n",
    "new_user_reduced[std_columns] = user_scaler.transform(new_user_reduced[std_columns])\n",
    "new_user_reduced['pca_compliment'] = compliment_pca.transform(new_user_reduced[compliment_columns])[:,0]\n",
    "new_user_reduced = new_user_reduced.drop(compliment_columns, axis = 1)\n",
    "new_user_reduced['pca_receive'] = receive_pca.fit_transform(new_user_reduced[receive_columns])[:,0]\n",
    "new_user_reduced = new_user_reduced.drop(receive_columns, axis = 1)"
   ]
  },
  {
   "cell_type": "code",
   "execution_count": 21,
   "id": "e655e2c2",
   "metadata": {},
   "outputs": [
    {
     "name": "stdout",
     "output_type": "stream",
     "text": [
      "(665, 7)\n"
     ]
    }
   ],
   "source": [
    "## Remove some extreme cases for more stable kmeans clustering\n",
    "remove_extreme = lambda df, col, perc: df.loc[df[col] < np.quantile(df[col], 0.95),]\n",
    "user_reduced_temp = user_reduced.copy()\n",
    "user_reduced_temp = remove_extreme(user_reduced_temp, 'pca_compliment', 0.95)\n",
    "user_reduced_temp = remove_extreme(user_reduced_temp, 'pca_receive', 0.95)\n",
    "user_reduced_temp = remove_extreme(user_reduced_temp, 'fans', 0.95)\n",
    "user_reduced_temp = remove_extreme(user_reduced_temp, 'review_count', 0.95)\n",
    "print(user_reduced_temp.shape)"
   ]
  },
  {
   "cell_type": "code",
   "execution_count": 22,
   "id": "10a0a976",
   "metadata": {},
   "outputs": [
    {
     "name": "stdout",
     "output_type": "stream",
     "text": [
      "Labels on extreme free users:   Counter({2: 206, 1: 133, 3: 115, 5: 107, 0: 55, 4: 49})\n",
      "Labels on all existing users:   Counter({2: 206, 0: 162, 3: 155, 1: 134, 5: 107, 4: 53})\n",
      "Labels on new users:   Counter({3: 21, 2: 20, 0: 20, 5: 11, 1: 11, 4: 8})\n"
     ]
    }
   ],
   "source": [
    "cluster_columns = ['review_count', 'elite', 'fans', 'average_stars', 'pca_compliment', 'pca_receive']\n",
    "kmeans = KMeans(n_clusters=6, random_state = 48)\n",
    "print(\"Labels on extreme free users:  \", Counter(kmeans.fit_predict(user_reduced_temp[cluster_columns])))\n",
    "print(\"Labels on all existing users:  \", Counter(kmeans.predict(user_reduced[cluster_columns])))\n",
    "print(\"Labels on new users:  \", Counter(kmeans.predict(new_user_reduced[cluster_columns])))"
   ]
  },
  {
   "cell_type": "code",
   "execution_count": 23,
   "id": "1fbc8030",
   "metadata": {},
   "outputs": [],
   "source": [
    "user_reduced_temp['kmeans_labels'] = kmeans.predict(user_reduced_temp[cluster_columns])\n",
    "user_reduced['kmeans_labels'] = kmeans.predict(user_reduced[cluster_columns])\n",
    "new_user_reduced['kmeans_labels'] = kmeans.predict(new_user_reduced[cluster_columns])"
   ]
  },
  {
   "cell_type": "code",
   "execution_count": 24,
   "id": "acd2c155",
   "metadata": {},
   "outputs": [
    {
     "data": {
      "text/html": [
       "<div>\n",
       "<style scoped>\n",
       "    .dataframe tbody tr th:only-of-type {\n",
       "        vertical-align: middle;\n",
       "    }\n",
       "\n",
       "    .dataframe tbody tr th {\n",
       "        vertical-align: top;\n",
       "    }\n",
       "\n",
       "    .dataframe thead th {\n",
       "        text-align: right;\n",
       "    }\n",
       "</style>\n",
       "<table border=\"1\" class=\"dataframe\">\n",
       "  <thead>\n",
       "    <tr style=\"text-align: right;\">\n",
       "      <th></th>\n",
       "      <th>kmeans_labels</th>\n",
       "      <th>user_id</th>\n",
       "      <th>review_count</th>\n",
       "      <th>elite</th>\n",
       "      <th>fans</th>\n",
       "      <th>average_stars</th>\n",
       "      <th>pca_compliment</th>\n",
       "      <th>pca_receive</th>\n",
       "    </tr>\n",
       "  </thead>\n",
       "  <tbody>\n",
       "    <tr>\n",
       "      <th>0</th>\n",
       "      <td>0</td>\n",
       "      <td>450.722222</td>\n",
       "      <td>0.609196</td>\n",
       "      <td>0.993827</td>\n",
       "      <td>0.930346</td>\n",
       "      <td>3.878395</td>\n",
       "      <td>1.429910</td>\n",
       "      <td>1.235307</td>\n",
       "    </tr>\n",
       "    <tr>\n",
       "      <th>1</th>\n",
       "      <td>1</td>\n",
       "      <td>401.813433</td>\n",
       "      <td>-0.344975</td>\n",
       "      <td>1.000000</td>\n",
       "      <td>-0.263921</td>\n",
       "      <td>4.179104</td>\n",
       "      <td>-0.375546</td>\n",
       "      <td>-0.333703</td>\n",
       "    </tr>\n",
       "    <tr>\n",
       "      <th>2</th>\n",
       "      <td>2</td>\n",
       "      <td>388.116505</td>\n",
       "      <td>-0.368349</td>\n",
       "      <td>1.000000</td>\n",
       "      <td>-0.286278</td>\n",
       "      <td>3.804466</td>\n",
       "      <td>-0.366792</td>\n",
       "      <td>-0.345144</td>\n",
       "    </tr>\n",
       "    <tr>\n",
       "      <th>3</th>\n",
       "      <td>3</td>\n",
       "      <td>390.832258</td>\n",
       "      <td>0.460208</td>\n",
       "      <td>1.000000</td>\n",
       "      <td>-0.074519</td>\n",
       "      <td>3.784774</td>\n",
       "      <td>-0.303010</td>\n",
       "      <td>-0.201971</td>\n",
       "    </tr>\n",
       "    <tr>\n",
       "      <th>4</th>\n",
       "      <td>4</td>\n",
       "      <td>430.113208</td>\n",
       "      <td>-0.281101</td>\n",
       "      <td>0.000000</td>\n",
       "      <td>-0.328201</td>\n",
       "      <td>3.731132</td>\n",
       "      <td>-0.397347</td>\n",
       "      <td>-0.360214</td>\n",
       "    </tr>\n",
       "    <tr>\n",
       "      <th>5</th>\n",
       "      <td>5</td>\n",
       "      <td>403.261682</td>\n",
       "      <td>-0.308570</td>\n",
       "      <td>1.000000</td>\n",
       "      <td>-0.256377</td>\n",
       "      <td>3.413458</td>\n",
       "      <td>-0.352683</td>\n",
       "      <td>-0.316887</td>\n",
       "    </tr>\n",
       "  </tbody>\n",
       "</table>\n",
       "</div>"
      ],
      "text/plain": [
       "   kmeans_labels     user_id  review_count     elite      fans  average_stars  \\\n",
       "0              0  450.722222      0.609196  0.993827  0.930346       3.878395   \n",
       "1              1  401.813433     -0.344975  1.000000 -0.263921       4.179104   \n",
       "2              2  388.116505     -0.368349  1.000000 -0.286278       3.804466   \n",
       "3              3  390.832258      0.460208  1.000000 -0.074519       3.784774   \n",
       "4              4  430.113208     -0.281101  0.000000 -0.328201       3.731132   \n",
       "5              5  403.261682     -0.308570  1.000000 -0.256377       3.413458   \n",
       "\n",
       "   pca_compliment  pca_receive  \n",
       "0        1.429910     1.235307  \n",
       "1       -0.375546    -0.333703  \n",
       "2       -0.366792    -0.345144  \n",
       "3       -0.303010    -0.201971  \n",
       "4       -0.397347    -0.360214  \n",
       "5       -0.352683    -0.316887  "
      ]
     },
     "execution_count": 24,
     "metadata": {},
     "output_type": "execute_result"
    }
   ],
   "source": [
    "user_reduced.groupby('kmeans_labels').mean().reset_index()"
   ]
  },
  {
   "cell_type": "code",
   "execution_count": 25,
   "id": "9d78aa1c",
   "metadata": {},
   "outputs": [
    {
     "data": {
      "image/png": "[encoded data removed]",
      "text/plain": [
       "<Figure size 360x360 with 1 Axes>"
      ]
     },
     "metadata": {
      "needs_background": "light"
     },
     "output_type": "display_data"
    }
   ],
   "source": [
    "pca_visualize = PCA(n_components = 2)\n",
    "coords = pca_visualize.fit_transform(user_reduced_temp[cluster_columns])\n",
    "plt.figure(figsize = (5, 5))\n",
    "plt.scatter(coords[:, 0], coords[:, 1], c = user_reduced_temp['kmeans_labels'])\n",
    "plt.show()"
   ]
  },
  {
   "cell_type": "code",
   "execution_count": 26,
   "id": "f4d5845b",
   "metadata": {},
   "outputs": [],
   "source": [
    "def fill_in_group_information(rating_matrix, user_reduced, new_user_reduced, mode = 'uniform', sigma=1, C=1):\n",
    "    num_new_user, num_item = new_user_reduced.shape[0], rating_matrix.shape[1]\n",
    "    filled_rating_matrix = np.zeros(shape = (num_new_user, num_item))\n",
    "    for i in range(num_new_user):\n",
    "        new_user_group = new_user_reduced.loc[new_user_reduced['user_id'] == i, 'kmeans_labels'].unique()\n",
    "        obs_user = user_reduced.loc[user_reduced['kmeans_labels'] == new_user_group[0], ]\n",
    "        obs_ratings = rating_matrix[obs_user['user_id'], :]\n",
    "        if mode == 'uniform':\n",
    "            obs_ratings_sum = obs_ratings.sum(0)\n",
    "            obs_ratings_size = (obs_ratings != 0).sum(0)\n",
    "            filled_rating_matrix[i] = np.divide(obs_ratings_sum, obs_ratings_size, \n",
    "                                                out=np.zeros_like(obs_ratings_sum), where=obs_ratings_size!=0)\n",
    "        if mode == 'weighted':\n",
    "            new_user_x = new_user_reduced.loc[new_user_reduced['user_id'] == i].drop(['user_id', 'kmeans_labels'], axis = 1)\n",
    "            obs_user_x = obs_user.drop(['user_id', 'kmeans_labels'], axis = 1)\n",
    "            weights = np.exp(-np.sum((obs_user_x.to_numpy() - new_user_x.to_numpy())**2, axis=1) / (2 * 0.1**2))\n",
    "            weights = weights.reshape(obs_user.shape[0], 1)\n",
    "            obs_ratings_weighted_sum = (obs_ratings * weights).sum(0)\n",
    "            obs_ratings_mask = np.abs(np.sign(obs_ratings))\n",
    "            obs_ratings_weighted_mask = (obs_ratings_mask * weights).sum(0)\n",
    "            filled_rating_matrix[i] = np.divide(obs_ratings_weighted_sum, obs_ratings_weighted_mask, \n",
    "                                    out=np.zeros_like(obs_ratings_weighted_sum), where=obs_ratings_weighted_mask!=0)\n",
    "    np.random.seed(48)\n",
    "    random_choice = np.random.choice(np.arange(2), size=filled_rating_matrix.shape, p=[0.9, 0.1])\n",
    "    filled_rating_matrix = filled_rating_matrix * random_choice\n",
    "    return filled_rating_matrix.astype('float32')"
   ]
  },
  {
   "cell_type": "code",
   "execution_count": 27,
   "id": "0f99683c",
   "metadata": {},
   "outputs": [],
   "source": [
    "new_user_filled = fill_in_group_information(rating_matrix_train, user_reduced_temp, new_user_reduced,\n",
    "                                            mode='weighted', sigma=1)"
   ]
  },
  {
   "cell_type": "code",
   "execution_count": 28,
   "id": "627bf99d",
   "metadata": {},
   "outputs": [
    {
     "name": "stdout",
     "output_type": "stream",
     "text": [
      "Filled new user RMSE:   0.9229665516021106\n"
     ]
    }
   ],
   "source": [
    "print(\"Filled new user RMSE:  \", uAuto.test(new_user_filled, rating_matrix_new, rating_matrix_new_mask))"
   ]
  },
  {
   "cell_type": "markdown",
   "id": "6f33edd9",
   "metadata": {},
   "source": [
    "### Method 2: Semi-AutoEncoder"
   ]
  },
  {
   "cell_type": "code",
   "execution_count": 29,
   "id": "86a67e82",
   "metadata": {},
   "outputs": [
    {
     "data": {
      "text/html": [
       "<div>\n",
       "<style scoped>\n",
       "    .dataframe tbody tr th:only-of-type {\n",
       "        vertical-align: middle;\n",
       "    }\n",
       "\n",
       "    .dataframe tbody tr th {\n",
       "        vertical-align: top;\n",
       "    }\n",
       "\n",
       "    .dataframe thead th {\n",
       "        text-align: right;\n",
       "    }\n",
       "</style>\n",
       "<table border=\"1\" class=\"dataframe\">\n",
       "  <thead>\n",
       "    <tr style=\"text-align: right;\">\n",
       "      <th></th>\n",
       "      <th>user_id</th>\n",
       "      <th>review_count</th>\n",
       "      <th>elite</th>\n",
       "      <th>fans</th>\n",
       "      <th>average_stars</th>\n",
       "      <th>pca_compliment</th>\n",
       "      <th>pca_receive</th>\n",
       "      <th>kmeans_labels</th>\n",
       "    </tr>\n",
       "  </thead>\n",
       "  <tbody>\n",
       "    <tr>\n",
       "      <th>351</th>\n",
       "      <td>261</td>\n",
       "      <td>0.483180</td>\n",
       "      <td>1</td>\n",
       "      <td>0.042877</td>\n",
       "      <td>3.58</td>\n",
       "      <td>-0.189542</td>\n",
       "      <td>-0.213430</td>\n",
       "      <td>3</td>\n",
       "    </tr>\n",
       "    <tr>\n",
       "      <th>889</th>\n",
       "      <td>791</td>\n",
       "      <td>-0.218976</td>\n",
       "      <td>1</td>\n",
       "      <td>-0.263111</td>\n",
       "      <td>3.95</td>\n",
       "      <td>-0.346564</td>\n",
       "      <td>-0.224788</td>\n",
       "      <td>2</td>\n",
       "    </tr>\n",
       "    <tr>\n",
       "      <th>786</th>\n",
       "      <td>181</td>\n",
       "      <td>0.399010</td>\n",
       "      <td>1</td>\n",
       "      <td>0.037942</td>\n",
       "      <td>3.96</td>\n",
       "      <td>-0.356963</td>\n",
       "      <td>-0.082359</td>\n",
       "      <td>3</td>\n",
       "    </tr>\n",
       "    <tr>\n",
       "      <th>270</th>\n",
       "      <td>592</td>\n",
       "      <td>-0.117086</td>\n",
       "      <td>1</td>\n",
       "      <td>-0.134793</td>\n",
       "      <td>4.04</td>\n",
       "      <td>-0.248215</td>\n",
       "      <td>-0.284173</td>\n",
       "      <td>3</td>\n",
       "    </tr>\n",
       "    <tr>\n",
       "      <th>624</th>\n",
       "      <td>397</td>\n",
       "      <td>-0.358522</td>\n",
       "      <td>1</td>\n",
       "      <td>-0.312464</td>\n",
       "      <td>4.06</td>\n",
       "      <td>-0.405147</td>\n",
       "      <td>-0.361500</td>\n",
       "      <td>1</td>\n",
       "    </tr>\n",
       "    <tr>\n",
       "      <th>...</th>\n",
       "      <td>...</td>\n",
       "      <td>...</td>\n",
       "      <td>...</td>\n",
       "      <td>...</td>\n",
       "      <td>...</td>\n",
       "      <td>...</td>\n",
       "      <td>...</td>\n",
       "      <td>...</td>\n",
       "    </tr>\n",
       "    <tr>\n",
       "      <th>347</th>\n",
       "      <td>443</td>\n",
       "      <td>-0.430509</td>\n",
       "      <td>1</td>\n",
       "      <td>-0.277917</td>\n",
       "      <td>3.90</td>\n",
       "      <td>-0.396551</td>\n",
       "      <td>-0.389774</td>\n",
       "      <td>2</td>\n",
       "    </tr>\n",
       "    <tr>\n",
       "      <th>452</th>\n",
       "      <td>621</td>\n",
       "      <td>1.142143</td>\n",
       "      <td>1</td>\n",
       "      <td>0.052748</td>\n",
       "      <td>3.82</td>\n",
       "      <td>-0.310146</td>\n",
       "      <td>-0.150509</td>\n",
       "      <td>3</td>\n",
       "    </tr>\n",
       "    <tr>\n",
       "      <th>337</th>\n",
       "      <td>510</td>\n",
       "      <td>-0.304254</td>\n",
       "      <td>1</td>\n",
       "      <td>-0.021282</td>\n",
       "      <td>4.06</td>\n",
       "      <td>-0.306908</td>\n",
       "      <td>-0.324567</td>\n",
       "      <td>1</td>\n",
       "    </tr>\n",
       "    <tr>\n",
       "      <th>563</th>\n",
       "      <td>721</td>\n",
       "      <td>-0.314221</td>\n",
       "      <td>1</td>\n",
       "      <td>-0.396363</td>\n",
       "      <td>4.06</td>\n",
       "      <td>-0.408290</td>\n",
       "      <td>-0.404789</td>\n",
       "      <td>1</td>\n",
       "    </tr>\n",
       "    <tr>\n",
       "      <th>512</th>\n",
       "      <td>534</td>\n",
       "      <td>-0.211224</td>\n",
       "      <td>1</td>\n",
       "      <td>-0.248305</td>\n",
       "      <td>3.91</td>\n",
       "      <td>-0.321669</td>\n",
       "      <td>-0.323525</td>\n",
       "      <td>2</td>\n",
       "    </tr>\n",
       "  </tbody>\n",
       "</table>\n",
       "<p>817 rows × 8 columns</p>\n",
       "</div>"
      ],
      "text/plain": [
       "     user_id  review_count  elite      fans  average_stars  pca_compliment  \\\n",
       "351      261      0.483180      1  0.042877           3.58       -0.189542   \n",
       "889      791     -0.218976      1 -0.263111           3.95       -0.346564   \n",
       "786      181      0.399010      1  0.037942           3.96       -0.356963   \n",
       "270      592     -0.117086      1 -0.134793           4.04       -0.248215   \n",
       "624      397     -0.358522      1 -0.312464           4.06       -0.405147   \n",
       "..       ...           ...    ...       ...            ...             ...   \n",
       "347      443     -0.430509      1 -0.277917           3.90       -0.396551   \n",
       "452      621      1.142143      1  0.052748           3.82       -0.310146   \n",
       "337      510     -0.304254      1 -0.021282           4.06       -0.306908   \n",
       "563      721     -0.314221      1 -0.396363           4.06       -0.408290   \n",
       "512      534     -0.211224      1 -0.248305           3.91       -0.321669   \n",
       "\n",
       "     pca_receive  kmeans_labels  \n",
       "351    -0.213430              3  \n",
       "889    -0.224788              2  \n",
       "786    -0.082359              3  \n",
       "270    -0.284173              3  \n",
       "624    -0.361500              1  \n",
       "..           ...            ...  \n",
       "347    -0.389774              2  \n",
       "452    -0.150509              3  \n",
       "337    -0.324567              1  \n",
       "563    -0.404789              1  \n",
       "512    -0.323525              2  \n",
       "\n",
       "[817 rows x 8 columns]"
      ]
     },
     "execution_count": 29,
     "metadata": {},
     "output_type": "execute_result"
    }
   ],
   "source": [
    "user_reduced"
   ]
  },
  {
   "cell_type": "code",
   "execution_count": 30,
   "id": "c9382f01",
   "metadata": {},
   "outputs": [],
   "source": [
    "user_covariates = user_reduced.sort_values('user_id').drop(['user_id', 'kmeans_labels'], axis = 1).astype('float32')\n",
    "rating_matrix_train_user = np.concatenate([rating_matrix_train, user_covariates], axis = 1).astype('float32')\n",
    "rating_matrix_val_user = np.concatenate([rating_matrix_val, user_covariates], axis = 1).astype('float32')\n",
    "rating_matrix_test_user = np.concatenate([rating_matrix_test, user_covariates], axis = 1).astype('float32')\n",
    "\n",
    "new_user_covariates = new_user_reduced.sort_values('user_id').drop(['user_id', 'kmeans_labels'], axis = 1).astype('float32')\n",
    "rating_matrix_new_user = np.concatenate([new_user_filled, new_user_covariates], axis=1).astype('float32')"
   ]
  },
  {
   "cell_type": "code",
   "execution_count": 43,
   "id": "e7ce4c0d",
   "metadata": {},
   "outputs": [],
   "source": [
    "semi_user_param_ordered_dict = user_param_ordered_dict.copy()\n",
    "semi_user_param_ordered_dict['train_X'] = rating_matrix_train_user\n",
    "semi_user_param_ordered_dict['val_X'] = rating_matrix_val_user"
   ]
  },
  {
   "cell_type": "code",
   "execution_count": 44,
   "id": "c06a029d",
   "metadata": {},
   "outputs": [
    {
     "name": "stdout",
     "output_type": "stream",
     "text": [
      "Epoch: 0, loss: 551952.0625, train_rmse: 3.7976000751659074, val_rmse: 3.795755105998363\n",
      "Epoch: 1, loss: 504738.53125, train_rmse: 3.546976332577159, val_rmse: 3.589796738674768\n",
      "Epoch: 2, loss: 441542.03125, train_rmse: 3.206024694655446, val_rmse: 3.3502440563440996\n",
      "Epoch: 3, loss: 367625.0625, train_rmse: 2.812368037291934, val_rmse: 3.0808090979929057\n",
      "Epoch: 4, loss: 295531.0, train_rmse: 2.4097078745673324, val_rmse: 2.789583199205099\n",
      "Epoch: 5, loss: 229802.875, train_rmse: 2.0300752602849403, val_rmse: 2.4882546471245224\n",
      "Epoch: 6, loss: 181582.375, train_rmse: 1.6956359911639072, val_rmse: 2.1923471543664386\n",
      "Epoch: 7, loss: 152304.71875, train_rmse: 1.4211420965563004, val_rmse: 1.9171781980753086\n",
      "Epoch: 8, loss: 137758.484375, train_rmse: 1.2166244589037156, val_rmse: 1.6760242649096975\n",
      "Epoch: 9, loss: 130535.9453125, train_rmse: 1.0838157142078064, val_rmse: 1.477336800188951\n",
      "Epoch: 75, loss: 111469.046875, train_rmse: 1.0499732151415373, val_rmse: 1.534404664425187\n",
      "Epoch: 150, loss: 112484.1484375, train_rmse: 1.0098240177313011, val_rmse: 1.3546761585752032\n",
      "Epoch: 225, loss: 98386.4453125, train_rmse: 0.9993724298704574, val_rmse: 1.2622782840622864\n",
      "Epoch: 300, loss: 86688.3828125, train_rmse: 0.980138766517749, val_rmse: 1.1912218124386398\n",
      "Epoch: 375, loss: 84134.421875, train_rmse: 0.9455749327374168, val_rmse: 1.1186788108249808\n",
      "Epoch: 450, loss: 71703.5703125, train_rmse: 0.9322921399625631, val_rmse: 1.074499045850226\n",
      "Epoch: 525, loss: 66266.6328125, train_rmse: 0.9023335375505899, val_rmse: 1.0221963579552384\n",
      "Epoch: 600, loss: 60166.8671875, train_rmse: 0.8973101209699192, val_rmse: 0.9990488022809899\n",
      "Epoch: 675, loss: 52456.9375, train_rmse: 0.8687675636539065, val_rmse: 0.9614488085760015\n",
      "Epoch: 750, loss: 46983.53125, train_rmse: 0.8601525426513842, val_rmse: 0.9405807857061802\n",
      "Epoch: 825, loss: 42780.0390625, train_rmse: 0.8470832196722258, val_rmse: 0.9225857806833515\n",
      "Epoch: 900, loss: 38173.87109375, train_rmse: 0.8375148612757006, val_rmse: 0.9099543420598754\n",
      "Epoch: 975, loss: 35096.265625, train_rmse: 0.8291896388430192, val_rmse: 0.9009004689713599\n",
      "Epoch: 1050, loss: 32716.23046875, train_rmse: 0.8183982934371955, val_rmse: 0.8925233096661475\n",
      "Epoch: 1125, loss: 30664.416015625, train_rmse: 0.8162999212611923, val_rmse: 0.8908032565108553\n",
      "Epoch: 1200, loss: 28882.703125, train_rmse: 0.8113114734754474, val_rmse: 0.8867520145097325\n",
      "Epoch: 1275, loss: 27573.875, train_rmse: 0.8089876050557139, val_rmse: 0.8849947439612738\n",
      "Epoch: 1350, loss: 26912.26171875, train_rmse: 0.8083521456672845, val_rmse: 0.8844838307798055\n",
      "Epoch: 1425, loss: 26183.5546875, train_rmse: 0.8065467083306401, val_rmse: 0.8842461625823811\n"
     ]
    }
   ],
   "source": [
    "semi_uAuto = AutoRec()\n",
    "semi_uAuto.train(**semi_user_param_ordered_dict)"
   ]
  },
  {
   "cell_type": "code",
   "execution_count": 45,
   "id": "589b4e64",
   "metadata": {},
   "outputs": [
    {
     "name": "stdout",
     "output_type": "stream",
     "text": [
      "Test RMSE:   0.8983219084723991\n",
      "New User RMSE:   0.916898024653502\n"
     ]
    }
   ],
   "source": [
    "print(\"Test RMSE:  \", semi_uAuto.test(rating_matrix_test_user, rating_matrix_test, rating_matrix_test_mask))\n",
    "print(\"New User RMSE:  \", semi_uAuto.test(rating_matrix_new_user, rating_matrix_new, rating_matrix_new_mask))"
   ]
  },
  {
   "cell_type": "markdown",
   "id": "5b826be7",
   "metadata": {},
   "source": [
    "### Dual AutoEncoder (Cold Start: Users & Items)"
   ]
  },
  {
   "cell_type": "code",
   "execution_count": 35,
   "id": "3684c8e7",
   "metadata": {},
   "outputs": [],
   "source": [
    "from DualAutoRec import DualAutoRec"
   ]
  },
  {
   "cell_type": "markdown",
   "id": "22a1bc05",
   "metadata": {},
   "source": [
    "### Method 1: User & Item Encoder + Fine-tuning"
   ]
  },
  {
   "cell_type": "code",
   "execution_count": 46,
   "id": "83ab5bfe",
   "metadata": {},
   "outputs": [],
   "source": [
    "item_param_ordered_dict = OrderedDict({\n",
    "    \"train_X\": rating_matrix_train.T,\n",
    "    'train_y': rating_matrix_train.T,\n",
    "    'train_y_mask': rating_matrix_train_mask.T,\n",
    "    'val_X': rating_matrix_val.T, \n",
    "    'val_y': rating_matrix_val.T, \n",
    "    'val_y_mask': rating_matrix_val_mask.T,\n",
    "    'hidden_dim': 100,\n",
    "    'p_lambda': 30, \n",
    "    'learning_rate': 0.005, \n",
    "    'num_epochs': 1500,\n",
    "    'dropout': 0.95\n",
    "})"
   ]
  },
  {
   "cell_type": "code",
   "execution_count": 37,
   "id": "598d58a4",
   "metadata": {},
   "outputs": [
    {
     "name": "stdout",
     "output_type": "stream",
     "text": [
      "Epoch: 0, loss: 550715.6875, train_rmse: 2.1156883639996766, val_rmse: 2.012990208555764\n",
      "Epoch: 1, loss: 221267.359375, train_rmse: 2.132890986180977, val_rmse: 1.553418002092205\n",
      "Epoch: 2, loss: 446413.6875, train_rmse: 1.5453175689885237, val_rmse: 1.360157449208705\n",
      "Epoch: 3, loss: 389115.15625, train_rmse: 0.9813023373312099, val_rmse: 0.9600172124613093\n",
      "Epoch: 4, loss: 251487.65625, train_rmse: 1.716870654485937, val_rmse: 1.4451919703548595\n",
      "Epoch: 5, loss: 268618.3125, train_rmse: 2.2102401360332005, val_rmse: 1.876705163342112\n",
      "Epoch: 6, loss: 314320.53125, train_rmse: 2.385076766365737, val_rmse: 2.070601252635039\n",
      "Epoch: 7, loss: 334293.09375, train_rmse: 2.334062127875678, val_rmse: 2.0740251830125196\n",
      "Epoch: 8, loss: 340134.59375, train_rmse: 2.143377481075684, val_rmse: 1.9489433108060459\n",
      "Epoch: 9, loss: 328917.96875, train_rmse: 1.868685421582981, val_rmse: 1.7456406087902145\n",
      "Epoch: 75, loss: 90519.921875, train_rmse: 0.9869566505312565, val_rmse: 0.9732604374630396\n",
      "Epoch: 150, loss: 29764.10546875, train_rmse: 0.8443355854435001, val_rmse: 0.8881255889690428\n",
      "Epoch: 225, loss: 27574.736328125, train_rmse: 0.842510787798191, val_rmse: 0.886991130977751\n",
      "Epoch: 300, loss: 27370.865234375, train_rmse: 0.8408599473607686, val_rmse: 0.8861274509263333\n",
      "Epoch: 375, loss: 27322.38671875, train_rmse: 0.8408558753591948, val_rmse: 0.8859323844598809\n",
      "Epoch: 450, loss: 27317.59765625, train_rmse: 0.8413668910222036, val_rmse: 0.8841474591525228\n",
      "Epoch: 525, loss: 27575.060546875, train_rmse: 0.842521580681442, val_rmse: 0.8846263058826741\n",
      "Epoch: 600, loss: 27530.783203125, train_rmse: 0.8439354854491368, val_rmse: 0.8843259424474847\n",
      "Epoch: 675, loss: 27278.619140625, train_rmse: 0.8446411016985417, val_rmse: 0.8840454751929064\n",
      "Epoch: 750, loss: 27225.0625, train_rmse: 0.8460798592760889, val_rmse: 0.8839455429892421\n",
      "Epoch: 825, loss: 27457.87109375, train_rmse: 0.8472658885582077, val_rmse: 0.8840288735158881\n",
      "Epoch: 900, loss: 27364.966796875, train_rmse: 0.8481873783240798, val_rmse: 0.8841390482221875\n",
      "Epoch: 975, loss: 27510.939453125, train_rmse: 0.848885889685606, val_rmse: 0.8841963996579626\n",
      "Epoch: 1050, loss: 27462.046875, train_rmse: 0.8495582578485742, val_rmse: 0.8844240548313732\n",
      "Epoch: 1125, loss: 27303.669921875, train_rmse: 0.8517313121545571, val_rmse: 0.8847209276329269\n",
      "Epoch: 1200, loss: 27227.306640625, train_rmse: 0.8513791912824095, val_rmse: 0.8846209765658489\n",
      "Epoch: 1275, loss: 27267.103515625, train_rmse: 0.8523670943443035, val_rmse: 0.8848327287597012\n",
      "Epoch: 1350, loss: 27158.630859375, train_rmse: 0.8531570931815006, val_rmse: 0.8849044960523258\n",
      "Epoch: 1425, loss: 27143.009765625, train_rmse: 0.8542083575500788, val_rmse: 0.8851773045286386\n"
     ]
    }
   ],
   "source": [
    "iAuto = AutoRec()\n",
    "iAuto.train(**item_param_ordered_dict)"
   ]
  },
  {
   "cell_type": "code",
   "execution_count": 47,
   "id": "b33bf7f8",
   "metadata": {},
   "outputs": [],
   "source": [
    "dual = DualAutoRec(mode='DUAL-SEP')\n",
    "dual.uAuto = uAuto\n",
    "dual.iAuto = iAuto"
   ]
  },
  {
   "cell_type": "code",
   "execution_count": 48,
   "id": "14a17bd9",
   "metadata": {},
   "outputs": [
    {
     "name": "stdout",
     "output_type": "stream",
     "text": [
      "Epoch: 0, loss: 550554.125, train_rmse: 3.8340030430128085\n",
      "Epoch: 1, loss: 511560.625, train_rmse: 3.0315013256453236\n",
      "Epoch: 2, loss: 319860.59375, train_rmse: 2.0393443591697844\n",
      "Epoch: 3, loss: 144827.46875, train_rmse: 1.435596581531381\n",
      "Epoch: 4, loss: 71871.1953125, train_rmse: 2.303618829027355\n",
      "Epoch: 5, loss: 184855.046875, train_rmse: 2.148715278145079\n",
      "Epoch: 6, loss: 160866.890625, train_rmse: 1.4604068018878267\n",
      "Epoch: 7, loss: 74424.7109375, train_rmse: 1.6981909463392986\n",
      "Epoch: 8, loss: 100560.7265625, train_rmse: 2.0861853131893096\n",
      "Epoch: 9, loss: 151655.59375, train_rmse: 1.763074715581972\n",
      "Epoch: 75, loss: 36162.80078125, train_rmse: 1.0122661232058183\n",
      "Epoch: 150, loss: 27619.583984375, train_rmse: 0.8845046514592125\n",
      "Epoch: 225, loss: 26722.08984375, train_rmse: 0.8700264420511782\n",
      "Epoch: 300, loss: 26355.40234375, train_rmse: 0.8641354663041876\n",
      "Epoch: 375, loss: 26129.998046875, train_rmse: 0.860554234479702\n",
      "Epoch: 450, loss: 25975.5078125, train_rmse: 0.8581356378143083\n",
      "Epoch: 525, loss: 25868.822265625, train_rmse: 0.85665920654375\n",
      "Epoch: 600, loss: 25764.365234375, train_rmse: 0.8551948302005431\n",
      "Epoch: 675, loss: 25700.98828125, train_rmse: 0.8542539924970327\n",
      "Epoch: 750, loss: 25649.109375, train_rmse: 0.8535290975541457\n",
      "Epoch: 825, loss: 25604.90234375, train_rmse: 0.8529488038403246\n",
      "Epoch: 900, loss: 25566.171875, train_rmse: 0.8524682381965968\n",
      "Epoch: 975, loss: 25531.6171875, train_rmse: 0.8520579583140805\n",
      "Epoch: 1050, loss: 25500.66015625, train_rmse: 0.8517025784303951\n",
      "Epoch: 1125, loss: 25470.921875, train_rmse: 0.8514491063089257\n",
      "Epoch: 1200, loss: 25441.736328125, train_rmse: 0.851114906102351\n",
      "Epoch: 1275, loss: 25419.751953125, train_rmse: 0.8508380703831406\n",
      "Epoch: 1350, loss: 25399.75, train_rmse: 0.8505721982481519\n",
      "Epoch: 1425, loss: 25381.416015625, train_rmse: 0.8503100386837872\n"
     ]
    }
   ],
   "source": [
    "dual.train(rating_matrix_train, user_param_ordered_dict, item_param_ordered_dict, retrain_user=False, retrain_item=False)"
   ]
  },
  {
   "cell_type": "code",
   "execution_count": 50,
   "id": "9dfe27bf",
   "metadata": {},
   "outputs": [
    {
     "data": {
      "text/plain": [
       "(0.933539450817563, None, None)"
      ]
     },
     "execution_count": 50,
     "metadata": {},
     "output_type": "execute_result"
    }
   ],
   "source": [
    "dual.test(rating_matrix_test, rating_matrix_test.T, rating_matrix_test)"
   ]
  },
  {
   "cell_type": "markdown",
   "id": "cd963dc8",
   "metadata": {},
   "source": [
    "### Method 2: Integrate Loss"
   ]
  },
  {
   "cell_type": "code",
   "execution_count": 54,
   "id": "c72fdf77",
   "metadata": {},
   "outputs": [],
   "source": [
    "from DualAutoRec import DualAutoRec"
   ]
  },
  {
   "cell_type": "code",
   "execution_count": 55,
   "id": "81f554f6",
   "metadata": {},
   "outputs": [],
   "source": [
    "dual = DualAutoRec(mode='DUAL')"
   ]
  },
  {
   "cell_type": "code",
   "execution_count": 56,
   "id": "810c8ae5",
   "metadata": {},
   "outputs": [
    {
     "name": "stdout",
     "output_type": "stream",
     "text": [
      "Epoch: 0, loss: 1663231.875, train_rmse: (2.3279959424488688, 3.8030791267915154, 3.7592577175429915)\n",
      "Epoch: 1, loss: 1254276.0, train_rmse: (10.936450999077568, 3.578231910537221, 3.4980644620214654)\n",
      "Epoch: 2, loss: 8848067.0, train_rmse: (1.4998117631295664, 3.463434094314214, 3.3555768614091472)\n",
      "Epoch: 3, loss: 1027127.0625, train_rmse: (6.586514552992094, 3.3791235139876474, 3.249587680654841)\n",
      "Epoch: 4, loss: 2447423.0, train_rmse: (6.332793667500187, 3.361141199111287, 3.2012772413033614)\n",
      "Epoch: 5, loss: 2289502.0, train_rmse: (4.929681047541135, 3.391880097152465, 3.194809411547455)\n",
      "Epoch: 6, loss: 1626859.125, train_rmse: (3.9160706960570617, 3.4395377050385876, 3.2038207440108124)\n",
      "Epoch: 7, loss: 1323913.5, train_rmse: (3.3602180352721667, 3.478582596293926, 3.211264236900369)\n",
      "Epoch: 8, loss: 1210329.125, train_rmse: (3.0720268749782402, 3.5027720812015666, 3.211974098733097)\n",
      "Epoch: 9, loss: 1158999.25, train_rmse: (2.919149970730371, 3.5144126664906183, 3.205083612398739)\n",
      "Epoch: 75, loss: 428296.03125, train_rmse: (0.9310520696846686, 1.4793821845494861, 1.1414658575458936)\n",
      "Epoch: 150, loss: 366912.25, train_rmse: (1.3775892914822028, 1.3658889637248806, 1.1557127677891832)\n",
      "Epoch: 225, loss: 267164.875, train_rmse: (0.8900644616307298, 1.084247245524923, 1.0318078634406675)\n",
      "Epoch: 300, loss: 243367.671875, train_rmse: (0.9137010003245952, 1.026847081681846, 0.978193097085171)\n",
      "Epoch: 375, loss: 211514.421875, train_rmse: (0.9146405846508303, 0.9894186064477046, 0.9721107398375607)\n",
      "Epoch: 450, loss: 190431.34375, train_rmse: (0.9407823772618154, 0.9412584044790631, 0.9341584422839666)\n",
      "Epoch: 525, loss: 177229.109375, train_rmse: (0.8911730927212551, 0.9471215186918202, 0.9331693681417287)\n",
      "Epoch: 600, loss: 168131.71875, train_rmse: (0.8984945270152989, 0.9148975933099027, 0.9110290590089741)\n",
      "Epoch: 675, loss: 151611.46875, train_rmse: (0.8923412383290537, 0.9017302468408133, 0.9031896484822093)\n",
      "Epoch: 750, loss: 139338.421875, train_rmse: (0.8946235143630462, 0.8896665039573746, 0.8773678865431337)\n",
      "Epoch: 825, loss: 129675.953125, train_rmse: (0.896548948453978, 0.8826131050907657, 0.8726665650894438)\n",
      "Epoch: 900, loss: 123424.8828125, train_rmse: (0.8944805132412723, 0.867865112473932, 0.8640024262932814)\n",
      "Epoch: 975, loss: 115066.6171875, train_rmse: (0.8970743535835156, 0.8568798917626682, 0.85071423359437)\n",
      "Epoch: 1050, loss: 108151.0625, train_rmse: (0.8940492066430188, 0.8482983172784353, 0.8529126087506745)\n",
      "Epoch: 1125, loss: 103792.4296875, train_rmse: (0.8938326432279683, 0.8366453540283381, 0.8460464553581527)\n",
      "Epoch: 1200, loss: 99161.765625, train_rmse: (0.8913640119654135, 0.8363266818123182, 0.8435848680122913)\n",
      "Epoch: 1275, loss: 95002.46875, train_rmse: (0.892341773002417, 0.8264647636753232, 0.8409506277292683)\n",
      "Epoch: 1350, loss: 92279.890625, train_rmse: (0.8895823038574033, 0.8240907907254452, 0.8390903736620329)\n",
      "Epoch: 1425, loss: 89874.25, train_rmse: (0.8893048193204458, 0.8211251911965851, 0.837137048057588)\n"
     ]
    }
   ],
   "source": [
    "dual.train(rating_matrix_train, user_param_ordered_dict, item_param_ordered_dict)"
   ]
  },
  {
   "cell_type": "code",
   "execution_count": 61,
   "id": "79253918",
   "metadata": {},
   "outputs": [
    {
     "name": "stdout",
     "output_type": "stream",
     "text": [
      "Test RMSE:   (0.929101362334149, None, None)\n"
     ]
    }
   ],
   "source": [
    "print(\"Test RMSE:  \", dual.test(rating_matrix_test, rating_matrix_test.T, rating_matrix_test))"
   ]
  },
  {
   "cell_type": "code",
   "execution_count": null,
   "id": "b34088ae",
   "metadata": {},
   "outputs": [],
   "source": []
  },
  {
   "cell_type": "code",
   "execution_count": null,
   "id": "65720905",
   "metadata": {},
   "outputs": [],
   "source": []
  },
  {
   "cell_type": "code",
   "execution_count": null,
   "id": "c197beca",
   "metadata": {},
   "outputs": [],
   "source": []
  },
  {
   "cell_type": "code",
   "execution_count": null,
   "id": "2a5a4ec2",
   "metadata": {},
   "outputs": [],
   "source": []
  },
  {
   "cell_type": "code",
   "execution_count": null,
   "id": "ea0013b8",
   "metadata": {},
   "outputs": [],
   "source": []
  },
  {
   "cell_type": "code",
   "execution_count": null,
   "id": "15cb4d12",
   "metadata": {},
   "outputs": [],
   "source": []
  }
 ],
 "metadata": {
  "kernelspec": {
   "display_name": "Python 3",
   "language": "python",
   "name": "python3"
  },
  "language_info": {
   "codemirror_mode": {
    "name": "ipython",
    "version": 3
   },
   "file_extension": ".py",
   "mimetype": "text/x-python",
   "name": "python",
   "nbconvert_exporter": "python",
   "pygments_lexer": "ipython3",
   "version": "3.8.2"
  }
 },
 "nbformat": 4,
 "nbformat_minor": 5
}
