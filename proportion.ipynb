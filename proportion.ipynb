{
 "cells": [
  {
   "cell_type": "code",
   "execution_count": 1,
   "metadata": {},
   "outputs": [],
   "source": [
    "import pandas as pd\n",
    "reviews = pd.read_csv('reviews2.csv')"
   ]
  },
  {
   "cell_type": "code",
   "execution_count": 2,
   "metadata": {},
   "outputs": [
    {
     "data": {
      "text/plain": [
       "(1707861, 9)"
      ]
     },
     "execution_count": 2,
     "metadata": {},
     "output_type": "execute_result"
    }
   ],
   "source": [
    "reviews.shape"
   ]
  },
  {
   "cell_type": "code",
   "execution_count": 3,
   "metadata": {},
   "outputs": [],
   "source": [
    "comment=reviews.drop(columns=['review_id','user_id','business_id','stars','useful','funny','cool','date'],axis=1)"
   ]
  },
  {
   "cell_type": "code",
   "execution_count": 39,
   "metadata": {},
   "outputs": [],
   "source": [
    "comment2 = comment.head(100)"
   ]
  },
  {
   "cell_type": "code",
   "execution_count": 40,
   "metadata": {},
   "outputs": [
    {
     "name": "stderr",
     "output_type": "stream",
     "text": [
      "/Users/zhudi/opt/anaconda3/lib/python3.7/site-packages/ipykernel_launcher.py:4: SettingWithCopyWarning: \n",
      "A value is trying to be set on a copy of a slice from a DataFrame.\n",
      "Try using .loc[row_indexer,col_indexer] = value instead\n",
      "\n",
      "See the caveats in the documentation: https://pandas.pydata.org/pandas-docs/stable/user_guide/indexing.html#returning-a-view-versus-a-copy\n",
      "  after removing the cwd from sys.path.\n",
      "/Users/zhudi/opt/anaconda3/lib/python3.7/site-packages/ipykernel_launcher.py:8: SettingWithCopyWarning: \n",
      "A value is trying to be set on a copy of a slice from a DataFrame.\n",
      "Try using .loc[row_indexer,col_indexer] = value instead\n",
      "\n",
      "See the caveats in the documentation: https://pandas.pydata.org/pandas-docs/stable/user_guide/indexing.html#returning-a-view-versus-a-copy\n",
      "  \n"
     ]
    },
    {
     "data": {
      "text/plain": [
       "0    very upscale and romantic place good was excep...\n",
       "1    the food is always great here the service from...\n",
       "2    literally the slowest and worst service i have...\n",
       "3    i have been here twice and have had really goo...\n",
       "4    went here with an friend visiting from italy: ...\n",
       "Name: text_processed, dtype: object"
      ]
     },
     "execution_count": 40,
     "metadata": {},
     "output_type": "execute_result"
    }
   ],
   "source": [
    "import re\n",
    "\n",
    "comment2['text_processed'] = \\\n",
    "comment2['text'].map(lambda x: re.sub('[,\\.!?]', '', x))\n",
    "\n",
    "# Convert the titles to lowercase\n",
    "comment2['text_processed'] = \\\n",
    "comment2['text_processed'].map(lambda x: x.lower())\n",
    "\n",
    "# Print out the first rows of papers\n",
    "comment2['text_processed'].head()"
   ]
  },
  {
   "cell_type": "code",
   "execution_count": 41,
   "metadata": {},
   "outputs": [
    {
     "name": "stdout",
     "output_type": "stream",
     "text": [
      "['upscale', 'romantic', 'exceptionally', 'appetizer', 'entree', 'finally', 'mouth', 'watering', 'dessert', 'servers', 'pleasant', 'ambiance', 'warm', 'welcoming']\n"
     ]
    },
    {
     "name": "stderr",
     "output_type": "stream",
     "text": [
      "[nltk_data] Downloading package stopwords to /Users/zhudi/nltk_data...\n",
      "[nltk_data]   Package stopwords is already up-to-date!\n"
     ]
    }
   ],
   "source": [
    "import gensim\n",
    "from gensim.utils import simple_preprocess\n",
    "import nltk\n",
    "nltk.download('stopwords')\n",
    "from nltk.corpus import stopwords\n",
    "stop_words = stopwords.words('english')\n",
    "stop_words.extend(['use','food','good','place'])\n",
    "def sent_to_words(sentences):\n",
    "    for sentence in sentences:\n",
    "        # deacc=True removes punctuations\n",
    "        yield(gensim.utils.simple_preprocess(str(sentence), deacc=True))\n",
    "def remove_stopwords(texts):\n",
    "    return [[word for word in simple_preprocess(str(doc)) \n",
    "             if word not in stop_words] for doc in texts]\n",
    "data = comment2.text_processed.values.tolist()\n",
    "data_words = list(sent_to_words(data))\n",
    "# remove stop words\n",
    "data_words = remove_stopwords(data_words)\n",
    "print(data_words[:1][0][:30])"
   ]
  },
  {
   "cell_type": "code",
   "execution_count": 10,
   "metadata": {},
   "outputs": [
    {
     "name": "stdout",
     "output_type": "stream",
     "text": [
      "Requirement already up-to-date: gensim in /Users/zhudi/opt/anaconda3/lib/python3.7/site-packages (4.0.1)\n",
      "Requirement already satisfied, skipping upgrade: scipy>=0.18.1 in /Users/zhudi/opt/anaconda3/lib/python3.7/site-packages (from gensim) (1.3.1)\n",
      "Requirement already satisfied, skipping upgrade: smart-open>=1.8.1 in /Users/zhudi/opt/anaconda3/lib/python3.7/site-packages (from gensim) (5.1.0)\n",
      "Requirement already satisfied, skipping upgrade: numpy>=1.11.3 in /Users/zhudi/opt/anaconda3/lib/python3.7/site-packages (from gensim) (1.20.3)\n",
      "Note: you may need to restart the kernel to use updated packages.\n"
     ]
    }
   ],
   "source": [
    "pip install -U gensim"
   ]
  },
  {
   "cell_type": "code",
   "execution_count": 31,
   "metadata": {},
   "outputs": [],
   "source": [
    "import os\n",
    "os.chdir('..')"
   ]
  },
  {
   "cell_type": "code",
   "execution_count": 42,
   "metadata": {},
   "outputs": [
    {
     "name": "stdout",
     "output_type": "stream",
     "text": [
      "[(0, 1), (1, 1), (2, 1), (3, 1), (4, 1), (5, 1), (6, 1), (7, 1), (8, 1), (9, 1), (10, 1), (11, 1), (12, 1), (13, 1)]\n"
     ]
    }
   ],
   "source": [
    "import gensim.corpora as corpora\n",
    "# Create Dictionary\n",
    "id2word = corpora.Dictionary(data_words)\n",
    "# Create Corpus\n",
    "texts = data_words\n",
    "# Term Document Frequency\n",
    "corpus = [id2word.doc2bow(text) for text in texts]\n",
    "# View\n",
    "print(corpus[:1][0][:30])"
   ]
  },
  {
   "cell_type": "code",
   "execution_count": 43,
   "metadata": {},
   "outputs": [
    {
     "name": "stdout",
     "output_type": "stream",
     "text": [
      "[(0,\n",
      "  '0.008*\"back\" + 0.007*\"time\" + 0.006*\"really\" + 0.006*\"well\" + 0.005*\"first\" '\n",
      "  '+ 0.005*\"salad\" + 0.005*\"great\" + 0.005*\"got\" + 0.005*\"super\" + '\n",
      "  '0.005*\"like\"'),\n",
      " (1,\n",
      "  '0.009*\"ordered\" + 0.007*\"time\" + 0.007*\"get\" + 0.007*\"like\" + '\n",
      "  '0.006*\"service\" + 0.006*\"great\" + 0.006*\"came\" + 0.006*\"really\" + '\n",
      "  '0.005*\"right\" + 0.004*\"also\"'),\n",
      " (2,\n",
      "  '0.008*\"like\" + 0.008*\"great\" + 0.006*\"little\" + 0.005*\"well\" + '\n",
      "  '0.005*\"really\" + 0.005*\"made\" + 0.005*\"ordered\" + 0.005*\"also\" + '\n",
      "  '0.004*\"delicious\" + 0.004*\"would\"'),\n",
      " (3,\n",
      "  '0.012*\"great\" + 0.009*\"best\" + 0.009*\"like\" + 0.008*\"service\" + 0.007*\"one\" '\n",
      "  '+ 0.006*\"got\" + 0.006*\"ever\" + 0.006*\"get\" + 0.005*\"also\" + 0.005*\"really\"'),\n",
      " (4,\n",
      "  '0.007*\"pizza\" + 0.006*\"great\" + 0.006*\"back\" + 0.006*\"us\" + 0.006*\"ordered\" '\n",
      "  '+ 0.005*\"get\" + 0.005*\"would\" + 0.005*\"friend\" + 0.005*\"also\" + '\n",
      "  '0.004*\"service\"'),\n",
      " (5,\n",
      "  '0.010*\"sushi\" + 0.009*\"great\" + 0.007*\"service\" + 0.006*\"would\" + '\n",
      "  '0.004*\"donuts\" + 0.004*\"friendly\" + 0.004*\"cheese\" + 0.004*\"feel\" + '\n",
      "  '0.004*\"love\" + 0.004*\"like\"'),\n",
      " (6,\n",
      "  '0.019*\"burger\" + 0.010*\"like\" + 0.010*\"service\" + 0.008*\"would\" + '\n",
      "  '0.007*\"definitely\" + 0.007*\"great\" + 0.006*\"restaurant\" + 0.006*\"delicious\" '\n",
      "  '+ 0.006*\"also\" + 0.005*\"back\"'),\n",
      " (7,\n",
      "  '0.007*\"decent\" + 0.006*\"like\" + 0.006*\"restaurant\" + 0.006*\"great\" + '\n",
      "  '0.006*\"also\" + 0.005*\"atmosphere\" + 0.005*\"austin\" + 0.005*\"gravy\" + '\n",
      "  '0.004*\"money\" + 0.004*\"service\"'),\n",
      " (8,\n",
      "  '0.007*\"even\" + 0.006*\"back\" + 0.005*\"came\" + 0.005*\"fries\" + 0.005*\"come\" + '\n",
      "  '0.004*\"try\" + 0.004*\"restaurant\" + 0.004*\"service\" + 0.004*\"enough\" + '\n",
      "  '0.004*\"also\"'),\n",
      " (9,\n",
      "  '0.007*\"great\" + 0.007*\"like\" + 0.006*\"service\" + 0.005*\"delicious\" + '\n",
      "  '0.005*\"people\" + 0.005*\"chicken\" + 0.005*\"well\" + 0.004*\"restaurant\" + '\n",
      "  '0.004*\"dishes\" + 0.004*\"experience\"')]\n"
     ]
    }
   ],
   "source": [
    "from pprint import pprint\n",
    "# number of topics\n",
    "num_topics = 10\n",
    "# Build LDA model\n",
    "lda_model = gensim.models.LdaMulticore(corpus=corpus,\n",
    "                                       id2word=id2word,\n",
    "                                       num_topics=num_topics)\n",
    "# Print the Keyword in the 10 topics\n",
    "pprint(lda_model.print_topics())\n",
    "doc_lda = lda_model[corpus]"
   ]
  },
  {
   "cell_type": "code",
   "execution_count": 44,
   "metadata": {},
   "outputs": [],
   "source": [
    "topics = [lda_model[corpus[i]] for i in range(len(data))]"
   ]
  },
  {
   "cell_type": "code",
   "execution_count": 45,
   "metadata": {},
   "outputs": [],
   "source": [
    "def topics_document_to_dataframe(topics_document, num_topics):\n",
    "    res = pd.DataFrame(columns=range(num_topics))\n",
    "    for topic_weight in topics_document:\n",
    "        res.loc[0, topic_weight[0]] = topic_weight[1]\n",
    "    return res"
   ]
  },
  {
   "cell_type": "code",
   "execution_count": 46,
   "metadata": {},
   "outputs": [],
   "source": [
    "document_topic = \\\n",
    "pd.concat([topics_document_to_dataframe(topics_document, num_topics=num_topics) for topics_document in topics]) \\\n",
    "  .reset_index(drop=True).fillna(0)"
   ]
  },
  {
   "cell_type": "code",
   "execution_count": 47,
   "metadata": {},
   "outputs": [
    {
     "data": {
      "text/html": [
       "<div>\n",
       "<style scoped>\n",
       "    .dataframe tbody tr th:only-of-type {\n",
       "        vertical-align: middle;\n",
       "    }\n",
       "\n",
       "    .dataframe tbody tr th {\n",
       "        vertical-align: top;\n",
       "    }\n",
       "\n",
       "    .dataframe thead th {\n",
       "        text-align: right;\n",
       "    }\n",
       "</style>\n",
       "<table border=\"1\" class=\"dataframe\">\n",
       "  <thead>\n",
       "    <tr style=\"text-align: right;\">\n",
       "      <th></th>\n",
       "      <th>0</th>\n",
       "      <th>1</th>\n",
       "      <th>2</th>\n",
       "      <th>3</th>\n",
       "      <th>4</th>\n",
       "      <th>5</th>\n",
       "      <th>6</th>\n",
       "      <th>7</th>\n",
       "      <th>8</th>\n",
       "      <th>9</th>\n",
       "    </tr>\n",
       "  </thead>\n",
       "  <tbody>\n",
       "    <tr>\n",
       "      <th>0</th>\n",
       "      <td>0.939993</td>\n",
       "      <td>0.0</td>\n",
       "      <td>0.0</td>\n",
       "      <td>0.0</td>\n",
       "      <td>0.000000</td>\n",
       "      <td>0.0</td>\n",
       "      <td>0.000000</td>\n",
       "      <td>0.0</td>\n",
       "      <td>0.0</td>\n",
       "      <td>0.0</td>\n",
       "    </tr>\n",
       "    <tr>\n",
       "      <th>1</th>\n",
       "      <td>0.943738</td>\n",
       "      <td>0.0</td>\n",
       "      <td>0.0</td>\n",
       "      <td>0.0</td>\n",
       "      <td>0.000000</td>\n",
       "      <td>0.0</td>\n",
       "      <td>0.000000</td>\n",
       "      <td>0.0</td>\n",
       "      <td>0.0</td>\n",
       "      <td>0.0</td>\n",
       "    </tr>\n",
       "    <tr>\n",
       "      <th>2</th>\n",
       "      <td>0.000000</td>\n",
       "      <td>0.0</td>\n",
       "      <td>0.0</td>\n",
       "      <td>0.0</td>\n",
       "      <td>0.000000</td>\n",
       "      <td>0.0</td>\n",
       "      <td>0.952623</td>\n",
       "      <td>0.0</td>\n",
       "      <td>0.0</td>\n",
       "      <td>0.0</td>\n",
       "    </tr>\n",
       "    <tr>\n",
       "      <th>3</th>\n",
       "      <td>0.000000</td>\n",
       "      <td>0.0</td>\n",
       "      <td>0.0</td>\n",
       "      <td>0.0</td>\n",
       "      <td>0.000000</td>\n",
       "      <td>0.0</td>\n",
       "      <td>0.993791</td>\n",
       "      <td>0.0</td>\n",
       "      <td>0.0</td>\n",
       "      <td>0.0</td>\n",
       "    </tr>\n",
       "    <tr>\n",
       "      <th>4</th>\n",
       "      <td>0.000000</td>\n",
       "      <td>0.0</td>\n",
       "      <td>0.0</td>\n",
       "      <td>0.0</td>\n",
       "      <td>0.959085</td>\n",
       "      <td>0.0</td>\n",
       "      <td>0.000000</td>\n",
       "      <td>0.0</td>\n",
       "      <td>0.0</td>\n",
       "      <td>0.0</td>\n",
       "    </tr>\n",
       "  </tbody>\n",
       "</table>\n",
       "</div>"
      ],
      "text/plain": [
       "          0    1    2    3         4    5         6    7    8    9\n",
       "0  0.939993  0.0  0.0  0.0  0.000000  0.0  0.000000  0.0  0.0  0.0\n",
       "1  0.943738  0.0  0.0  0.0  0.000000  0.0  0.000000  0.0  0.0  0.0\n",
       "2  0.000000  0.0  0.0  0.0  0.000000  0.0  0.952623  0.0  0.0  0.0\n",
       "3  0.000000  0.0  0.0  0.0  0.000000  0.0  0.993791  0.0  0.0  0.0\n",
       "4  0.000000  0.0  0.0  0.0  0.959085  0.0  0.000000  0.0  0.0  0.0"
      ]
     },
     "execution_count": 47,
     "metadata": {},
     "output_type": "execute_result"
    }
   ],
   "source": [
    "document_topic.head()"
   ]
  }
 ],
 "metadata": {
  "kernelspec": {
   "display_name": "Python 3",
   "language": "python",
   "name": "python3"
  },
  "language_info": {
   "codemirror_mode": {
    "name": "ipython",
    "version": 3
   },
   "file_extension": ".py",
   "mimetype": "text/x-python",
   "name": "python",
   "nbconvert_exporter": "python",
   "pygments_lexer": "ipython3",
   "version": "3.7.4"
  }
 },
 "nbformat": 4,
 "nbformat_minor": 4
}
